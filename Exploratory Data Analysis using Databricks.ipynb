{
 "cells": [
  {
   "cell_type": "markdown",
   "metadata": {
    "application/vnd.databricks.v1+cell": {
     "cellMetadata": {},
     "inputWidgets": {},
     "nuid": "dfe0a086-3a46-456e-a60c-b6ab21cca850",
     "showTitle": false,
     "title": ""
    }
   },
   "source": [
    "### Exploratory Data Analysis using Databricks"
   ]
  },
  {
   "cell_type": "code",
   "execution_count": null,
   "metadata": {
    "application/vnd.databricks.v1+cell": {
     "cellMetadata": {
      "byteLimit": 2048000,
      "rowLimit": 10000
     },
     "inputWidgets": {},
     "nuid": "cdda0537-2b5a-4054-9246-b8ec722822a5",
     "showTitle": false,
     "title": ""
    }
   },
   "outputs": [
    {
     "data": {
      "text/html": [
       "Initialized classroom variables & functions..."
      ]
     },
     "metadata": {
      "application/vnd.databricks.v1+output": {
       "addedWidgets": {},
       "arguments": {},
       "data": "Initialized classroom variables & functions...",
       "datasetInfos": [],
       "metadata": {
        "isDbfsCommandResult": false
       },
       "removedWidgets": [],
       "textData": null,
       "type": "htmlSandbox"
      }
     },
     "output_type": "display_data"
    },
    {
     "data": {
      "text/html": [
       "Datasets are already mounted to <b>/mnt/training</b> from <b>s3a://databricks-corp-training/common</b>"
      ]
     },
     "metadata": {
      "application/vnd.databricks.v1+output": {
       "addedWidgets": {},
       "arguments": {},
       "data": "Datasets are already mounted to <b>/mnt/training</b> from <b>s3a://databricks-corp-training/common</b>",
       "datasetInfos": [],
       "metadata": {
        "isDbfsCommandResult": false
       },
       "removedWidgets": [],
       "textData": null,
       "type": "htmlSandbox"
      }
     },
     "output_type": "display_data"
    }
   ],
   "source": [
    "%run ./Includes/Setup"
   ]
  },
  {
   "cell_type": "code",
   "execution_count": null,
   "metadata": {
    "application/vnd.databricks.v1+cell": {
     "cellMetadata": {
      "byteLimit": 2048000,
      "rowLimit": 10000
     },
     "inputWidgets": {},
     "nuid": "79588d80-5271-43c9-9681-c7630614e2ec",
     "showTitle": false,
     "title": ""
    }
   },
   "outputs": [
    {
     "name": "stdout",
     "output_type": "stream",
     "text": [
      "username: walelr@mail.uc.edu\n",
      "userhome: dbfs:/user/walelr@mail.uc.edu\n"
     ]
    },
    {
     "data": {
      "text/html": [
       "Imported Test Library..."
      ]
     },
     "metadata": {
      "application/vnd.databricks.v1+output": {
       "addedWidgets": {},
       "arguments": {},
       "data": "Imported Test Library...",
       "datasetInfos": [],
       "metadata": {
        "isDbfsCommandResult": false
       },
       "removedWidgets": [],
       "textData": null,
       "type": "htmlSandbox"
      }
     },
     "output_type": "display_data"
    },
    {
     "data": {
      "text/html": [
       "Created user-specific database"
      ]
     },
     "metadata": {
      "application/vnd.databricks.v1+output": {
       "addedWidgets": {},
       "arguments": {},
       "data": "Created user-specific database",
       "datasetInfos": [],
       "metadata": {
        "isDbfsCommandResult": false
       },
       "removedWidgets": [],
       "textData": null,
       "type": "htmlSandbox"
      }
     },
     "output_type": "display_data"
    },
    {
     "data": {
      "text/html": [
       "Using the database <b style=\"color:green\">walelr_mail_uc_edu_db</b>."
      ]
     },
     "metadata": {
      "application/vnd.databricks.v1+output": {
       "addedWidgets": {},
       "arguments": {},
       "data": "Using the database <b style=\"color:green\">walelr_mail_uc_edu_db</b>.",
       "datasetInfos": [],
       "metadata": {
        "isDbfsCommandResult": false
       },
       "removedWidgets": [],
       "textData": null,
       "type": "htmlSandbox"
      }
     },
     "output_type": "display_data"
    }
   ],
   "source": [
    "print(\"username: \" + username)\n",
    "print(\"userhome: \" + userhome)"
   ]
  },
  {
   "cell_type": "code",
   "execution_count": null,
   "metadata": {
    "application/vnd.databricks.v1+cell": {
     "cellMetadata": {
      "byteLimit": 2048000,
      "rowLimit": 10000
     },
     "inputWidgets": {},
     "nuid": "252167a0-bc04-4414-8074-73c8880c3105",
     "showTitle": false,
     "title": ""
    }
   },
   "outputs": [
    {
     "data": {
      "text/html": [
       "All done!"
      ]
     },
     "metadata": {
      "application/vnd.databricks.v1+output": {
       "addedWidgets": {},
       "arguments": {},
       "data": "All done!",
       "datasetInfos": [],
       "metadata": {},
       "removedWidgets": [],
       "textData": null,
       "type": "htmlSandbox"
      }
     },
     "output_type": "display_data"
    }
   ],
   "source": [
    "from pyspark.sql.functions import lower, col, split\n",
    "from pyspark.sql.functions import *\n",
    "import pyspark.sql"
   ]
  },
  {
   "cell_type": "markdown",
   "metadata": {
    "application/vnd.databricks.v1+cell": {
     "cellMetadata": {},
     "inputWidgets": {},
     "nuid": "019c0db8-675b-46c6-9180-bb50674a4b7c",
     "showTitle": false,
     "title": ""
    }
   },
   "source": [
    "## 1. Total count of Crimes for each of the 6 United States cities listed below using 2016 crime data:\n",
    "\n",
    "* New York\n",
    "* Los Angeles\n",
    "* Chicago\n",
    "* Philadelphia\n",
    "* Dallas\n",
    "* Boston"
   ]
  },
  {
   "cell_type": "code",
   "execution_count": null,
   "metadata": {
    "application/vnd.databricks.v1+cell": {
     "cellMetadata": {
      "byteLimit": 2048000,
      "rowLimit": 10000
     },
     "inputWidgets": {},
     "nuid": "bac74085-0041-458b-93c9-c1be4eafc680",
     "showTitle": false,
     "title": ""
    }
   },
   "outputs": [
    {
     "name": "stdout",
     "output_type": "stream",
     "text": [
      "Total Count of Crimes in New York:  468241\n",
      "Total Count of Crimes in Los Angeles:  217945\n",
      "Total Count of Crimes in Chicago:  267872\n",
      "Total Count of Crimes in Philadelphia:  168664\n",
      "Total Count of Crimes in Dallas:  99642\n",
      "Total Count of Crimes in Boston:  218610\n"
     ]
    }
   ],
   "source": [
    "crimeDataLosAngelesDF = spark.read.parquet(\"/mnt/training/crime-data-2016/Crime-Data-Los-Angeles-2016.parquet\")\n",
    "crimeDataPhiladelphiaDF = spark.read.parquet(\"/mnt/training/crime-data-2016/Crime-Data-Philadelphia-2016.parquet\")\n",
    "crimeDataDallasDF = spark.read.parquet(\"/mnt/training/crime-data-2016/Crime-Data-Dallas-2016.parquet\")\n",
    "crimeDataNYDF = spark.read.parquet(\"/mnt/training/crime-data-2016/Crime-Data-New-York-2016.parquet\")\n",
    "crimeDataChicagoDF = spark.read.parquet(\"/mnt/training/crime-data-2016/Crime-Data-Chicago-2016.parquet\")\n",
    "crimeDataBostonDF = spark.read.parquet(\"/mnt/training/crime-data-2016/Crime-Data-Boston-2016.parquet\")\n",
    "\n",
    "print('Total Count of Crimes in New York: ', crimeDataNYDF.count())\n",
    "print('Total Count of Crimes in Los Angeles: ', crimeDataLosAngelesDF.count())\n",
    "print('Total Count of Crimes in Chicago: ', crimeDataChicagoDF.count())\n",
    "print('Total Count of Crimes in Philadelphia: ', crimeDataPhiladelphiaDF.count())\n",
    "print('Total Count of Crimes in Dallas: ', crimeDataDallasDF.count())\n",
    "print('Total Count of Crimes in Boston: ', crimeDataBostonDF.count())"
   ]
  },
  {
   "cell_type": "code",
   "execution_count": null,
   "metadata": {
    "application/vnd.databricks.v1+cell": {
     "cellMetadata": {
      "byteLimit": 2048000,
      "rowLimit": 10000
     },
     "inputWidgets": {},
     "nuid": "483b77cb-fa66-42d5-af9e-969f34b9e285",
     "showTitle": false,
     "title": ""
    }
   },
   "outputs": [],
   "source": [
    "(spark.read.format(\"parquet\").option(\"header\", \"true\").load(\"/mnt/training/crime-data-2016/Crime-Data-Los-Angeles-2016.parquet\").write.mode(\"overwrite\").saveAsTable(\"Crime_Data_Los_Angeles_2016_csv\"))\n",
    "\n",
    "(spark.read.format(\"parquet\").option(\"header\", \"true\").load(\"/mnt/training/crime-data-2016/Crime-Data-Philadelphia-2016.parquet\").write.mode(\"overwrite\").saveAsTable(\"Crime_Data_Philadelphia_2016_csv\"))\n",
    "\n",
    "(spark.read.format(\"parquet\").option(\"header\", \"true\").load(\"/mnt/training/crime-data-2016/Crime-Data-Dallas-2016.parquet\").write.mode(\"overwrite\").saveAsTable(\"Crime_Data_Dallas_2016_csv\"))\n",
    "\n",
    "(spark.read.format(\"parquet\").option(\"header\", \"true\").load(\"/mnt/training/crime-data-2016/Crime-Data-New-York-2016.parquet\").write.mode(\"overwrite\").saveAsTable(\"Crime_Data_NY_2016_csv\"))\n",
    "\n",
    "(spark.read.format(\"parquet\").option(\"header\", \"true\").load(\"/mnt/training/crime-data-2016/Crime-Data-Chicago-2016.parquet\").write.mode(\"overwrite\").saveAsTable(\"Crime_Data_Chicago_2016_csv\"))\n",
    "\n",
    "(spark.read.format(\"parquet\").option(\"header\", \"true\").load(\"/mnt/training/crime-data-2016/Crime-Data-Boston-2016.parquet\").write.mode(\"overwrite\").saveAsTable(\"Crime_Data_Boston_2016_csv\"))"
   ]
  },
  {
   "cell_type": "markdown",
   "metadata": {
    "application/vnd.databricks.v1+cell": {
     "cellMetadata": {},
     "inputWidgets": {},
     "nuid": "06178656-8a2a-403a-b109-55efb342ecfb",
     "showTitle": false,
     "title": ""
    }
   },
   "source": [
    "## 2. Total count of different Types of Crimes for each of 6 United States cities listed below using crime-data-2016:\n",
    "* New York\n",
    "* Los Angeles\n",
    "* Chicago\n",
    "* Philadelphia\n",
    "* Dallas\n",
    "* Boston"
   ]
  },
  {
   "cell_type": "code",
   "execution_count": null,
   "metadata": {
    "application/vnd.databricks.v1+cell": {
     "cellMetadata": {
      "byteLimit": 2048000,
      "rowLimit": 10000
     },
     "inputWidgets": {},
     "nuid": "1b6e5126-5ed4-4f0e-9d5c-1253d253688e",
     "showTitle": false,
     "title": ""
    }
   },
   "outputs": [
    {
     "name": "stdout",
     "output_type": "stream",
     "text": [
      "New York\n"
     ]
    },
    {
     "data": {
      "text/html": [
       "<style scoped>\n",
       "  .table-result-container {\n",
       "    max-height: 300px;\n",
       "    overflow: auto;\n",
       "  }\n",
       "  table, th, td {\n",
       "    border: 1px solid black;\n",
       "    border-collapse: collapse;\n",
       "  }\n",
       "  th, td {\n",
       "    padding: 5px;\n",
       "  }\n",
       "  th {\n",
       "    text-align: left;\n",
       "  }\n",
       "</style><div class='table-result-container'><table class='table-result'><thead style='background-color: white'><tr><th>offenseDescription</th><th>count</th></tr></thead><tbody><tr><td>OTHER OFFENSES RELATED TO THEF</td><td>1708</td></tr><tr><td>VEHICLE AND TRAFFIC LAWS</td><td>6558</td></tr><tr><td>KIDNAPPING & RELATED OFFENSES</td><td>132</td></tr><tr><td>OFF. AGNST PUB ORD SENSBLTY &</td><td>22003</td></tr><tr><td>PETIT LARCENY OF MOTOR VEHICLE</td><td>37</td></tr><tr><td>FELONY ASSAULT</td><td>20668</td></tr><tr><td>OFFENSES RELATED TO CHILDREN</td><td>107</td></tr><tr><td>ALCOHOLIC BEVERAGE CONTROL LAW</td><td>96</td></tr><tr><td>CRIMINAL MISCHIEF & RELATED OF</td><td>47940</td></tr><tr><td>THEFT-FRAUD</td><td>3935</td></tr><tr><td>THEFT OF SERVICES</td><td>443</td></tr><tr><td>JOSTLING</td><td>49</td></tr><tr><td>MISCELLANEOUS PENAL LAW</td><td>13663</td></tr><tr><td>ARSON</td><td>745</td></tr><tr><td>OFFENSES AGAINST THE PERSON</td><td>1215</td></tr><tr><td>GAMBLING</td><td>267</td></tr><tr><td>SEX CRIMES</td><td>5507</td></tr><tr><td>HARRASSMENT 2</td><td>64946</td></tr><tr><td>CRIMINAL TRESPASS</td><td>3917</td></tr><tr><td>BURGLAR'S TOOLS</td><td>263</td></tr><tr><td>CHILD ABANDONMENT/NON SUPPORT</td><td>21</td></tr><tr><td>OFFENSES INVOLVING FRAUD</td><td>1230</td></tr><tr><td>ASSAULT 3 & RELATED OFFENSES</td><td>52182</td></tr><tr><td>INTOXICATED & IMPAIRED DRIVING</td><td>5951</td></tr><tr><td>FRAUDS</td><td>3060</td></tr><tr><td>NYS LAWS-UNCLASSIFIED FELONY</td><td>536</td></tr><tr><td>ESCAPE 3</td><td>8</td></tr><tr><td>MURDER & NON-NEGL. MANSLAUGHTER</td><td>314</td></tr><tr><td>OTHER STATE LAWS (NON PENAL LA</td><td>229</td></tr><tr><td>DANGEROUS DRUGS</td><td>22613</td></tr><tr><td>PROSTITUTION & RELATED OFFENSES</td><td>125</td></tr><tr><td>FORGERY</td><td>6012</td></tr><tr><td>FRAUDULENT ACCOSTING</td><td>212</td></tr><tr><td>UNLAWFUL POSS. WEAP. ON SCHOOL</td><td>3</td></tr><tr><td>OFFENSES AGAINST PUBLIC ADMINI</td><td>8825</td></tr><tr><td>ROBBERY</td><td>15458</td></tr><tr><td>GRAND LARCENY OF MOTOR VEHICLE</td><td>6247</td></tr><tr><td>DANGEROUS WEAPONS</td><td>10446</td></tr><tr><td>UNAUTHORIZED USE OF A VEHICLE</td><td>1689</td></tr><tr><td>AGRICULTURE & MRKTS LAW-UNCLASSIFIED</td><td>136</td></tr><tr><td>OTHER STATE LAWS (NON PENAL LAW)</td><td>4</td></tr><tr><td>ENDAN WELFARE INCOMP</td><td>31</td></tr><tr><td>OTHER STATE LAWS</td><td>19</td></tr><tr><td>PETIT LARCENY</td><td>79775</td></tr><tr><td>RAPE</td><td>1141</td></tr><tr><td>OFFENSES AGAINST PUBLIC SAFETY</td><td>56</td></tr><tr><td>DISORDERLY CONDUCT</td><td>71</td></tr><tr><td>POSSESSION OF STOLEN PROPERTY</td><td>1674</td></tr><tr><td>GRAND LARCENY</td><td>42101</td></tr><tr><td>KIDNAPPING</td><td>7</td></tr><tr><td>BURGLARY</td><td>12836</td></tr><tr><td>ADMINISTRATIVE CODE</td><td>991</td></tr><tr><td>LOITERING/GAMBLING (CARDS, DIC</td><td>10</td></tr><tr><td>INTOXICATED/IMPAIRED DRIVING</td><td>1</td></tr><tr><td>LOITERING</td><td>1</td></tr><tr><td>ANTICIPATORY OFFENSES</td><td>2</td></tr><tr><td>HOMICIDE-NEGLIGENT-VEHICLE</td><td>1</td></tr><tr><td>NYS LAWS-UNCLASSIFIED VIOLATION</td><td>14</td></tr><tr><td>NEW YORK CITY HEALTH CODE</td><td>4</td></tr><tr><td>DISRUPTION OF A RELIGIOUS SERV</td><td>2</td></tr><tr><td>HOMICIDE-NEGLIGENT,UNCLASSIFIE</td><td>3</td></tr><tr><td>ADMINISTRATIVE CODES</td><td>1</td></tr></tbody></table></div>"
      ]
     },
     "metadata": {
      "application/vnd.databricks.v1+output": {
       "addedWidgets": {},
       "aggData": [],
       "aggError": "",
       "aggOverflow": false,
       "aggSchema": [],
       "aggSeriesLimitReached": false,
       "aggType": "",
       "arguments": {},
       "columnCustomDisplayInfos": {},
       "data": [
        [
         "OTHER OFFENSES RELATED TO THEF",
         1708
        ],
        [
         "VEHICLE AND TRAFFIC LAWS",
         6558
        ],
        [
         "KIDNAPPING & RELATED OFFENSES",
         132
        ],
        [
         "OFF. AGNST PUB ORD SENSBLTY &",
         22003
        ],
        [
         "PETIT LARCENY OF MOTOR VEHICLE",
         37
        ],
        [
         "FELONY ASSAULT",
         20668
        ],
        [
         "OFFENSES RELATED TO CHILDREN",
         107
        ],
        [
         "ALCOHOLIC BEVERAGE CONTROL LAW",
         96
        ],
        [
         "CRIMINAL MISCHIEF & RELATED OF",
         47940
        ],
        [
         "THEFT-FRAUD",
         3935
        ],
        [
         "THEFT OF SERVICES",
         443
        ],
        [
         "JOSTLING",
         49
        ],
        [
         "MISCELLANEOUS PENAL LAW",
         13663
        ],
        [
         "ARSON",
         745
        ],
        [
         "OFFENSES AGAINST THE PERSON",
         1215
        ],
        [
         "GAMBLING",
         267
        ],
        [
         "SEX CRIMES",
         5507
        ],
        [
         "HARRASSMENT 2",
         64946
        ],
        [
         "CRIMINAL TRESPASS",
         3917
        ],
        [
         "BURGLAR'S TOOLS",
         263
        ],
        [
         "CHILD ABANDONMENT/NON SUPPORT",
         21
        ],
        [
         "OFFENSES INVOLVING FRAUD",
         1230
        ],
        [
         "ASSAULT 3 & RELATED OFFENSES",
         52182
        ],
        [
         "INTOXICATED & IMPAIRED DRIVING",
         5951
        ],
        [
         "FRAUDS",
         3060
        ],
        [
         "NYS LAWS-UNCLASSIFIED FELONY",
         536
        ],
        [
         "ESCAPE 3",
         8
        ],
        [
         "MURDER & NON-NEGL. MANSLAUGHTER",
         314
        ],
        [
         "OTHER STATE LAWS (NON PENAL LA",
         229
        ],
        [
         "DANGEROUS DRUGS",
         22613
        ],
        [
         "PROSTITUTION & RELATED OFFENSES",
         125
        ],
        [
         "FORGERY",
         6012
        ],
        [
         "FRAUDULENT ACCOSTING",
         212
        ],
        [
         "UNLAWFUL POSS. WEAP. ON SCHOOL",
         3
        ],
        [
         "OFFENSES AGAINST PUBLIC ADMINI",
         8825
        ],
        [
         "ROBBERY",
         15458
        ],
        [
         "GRAND LARCENY OF MOTOR VEHICLE",
         6247
        ],
        [
         "DANGEROUS WEAPONS",
         10446
        ],
        [
         "UNAUTHORIZED USE OF A VEHICLE",
         1689
        ],
        [
         "AGRICULTURE & MRKTS LAW-UNCLASSIFIED",
         136
        ],
        [
         "OTHER STATE LAWS (NON PENAL LAW)",
         4
        ],
        [
         "ENDAN WELFARE INCOMP",
         31
        ],
        [
         "OTHER STATE LAWS",
         19
        ],
        [
         "PETIT LARCENY",
         79775
        ],
        [
         "RAPE",
         1141
        ],
        [
         "OFFENSES AGAINST PUBLIC SAFETY",
         56
        ],
        [
         "DISORDERLY CONDUCT",
         71
        ],
        [
         "POSSESSION OF STOLEN PROPERTY",
         1674
        ],
        [
         "GRAND LARCENY",
         42101
        ],
        [
         "KIDNAPPING",
         7
        ],
        [
         "BURGLARY",
         12836
        ],
        [
         "ADMINISTRATIVE CODE",
         991
        ],
        [
         "LOITERING/GAMBLING (CARDS, DIC",
         10
        ],
        [
         "INTOXICATED/IMPAIRED DRIVING",
         1
        ],
        [
         "LOITERING",
         1
        ],
        [
         "ANTICIPATORY OFFENSES",
         2
        ],
        [
         "HOMICIDE-NEGLIGENT-VEHICLE",
         1
        ],
        [
         "NYS LAWS-UNCLASSIFIED VIOLATION",
         14
        ],
        [
         "NEW YORK CITY HEALTH CODE",
         4
        ],
        [
         "DISRUPTION OF A RELIGIOUS SERV",
         2
        ],
        [
         "HOMICIDE-NEGLIGENT,UNCLASSIFIE",
         3
        ],
        [
         "ADMINISTRATIVE CODES",
         1
        ]
       ],
       "datasetInfos": [],
       "dbfsResultPath": null,
       "isJsonSchema": true,
       "metadata": {},
       "overflow": false,
       "plotOptions": {
        "customPlotOptions": {},
        "displayType": "table",
        "pivotAggregation": null,
        "pivotColumns": null,
        "xColumns": null,
        "yColumns": null
       },
       "removedWidgets": [],
       "schema": [
        {
         "metadata": "{}",
         "name": "offenseDescription",
         "type": "\"string\""
        },
        {
         "metadata": "{}",
         "name": "count",
         "type": "\"long\""
        }
       ],
       "type": "table"
      }
     },
     "output_type": "display_data"
    },
    {
     "name": "stdout",
     "output_type": "stream",
     "text": [
      "Los Angeles\n"
     ]
    },
    {
     "data": {
      "text/html": [
       "<style scoped>\n",
       "  .table-result-container {\n",
       "    max-height: 300px;\n",
       "    overflow: auto;\n",
       "  }\n",
       "  table, th, td {\n",
       "    border: 1px solid black;\n",
       "    border-collapse: collapse;\n",
       "  }\n",
       "  th, td {\n",
       "    padding: 5px;\n",
       "  }\n",
       "  th {\n",
       "    text-align: left;\n",
       "  }\n",
       "</style><div class='table-result-container'><table class='table-result'><thead style='background-color: white'><tr><th>crimeCodeDescription</th><th>count</th></tr></thead><tbody><tr><td>RECKLESS DRIVING</td><td>37</td></tr><tr><td>DRIVING WITHOUT OWNER CONSENT (DWOC)</td><td>64</td></tr><tr><td>DISCHARGE FIREARMS/SHOTS FIRED</td><td>427</td></tr><tr><td>PROWLER</td><td>64</td></tr><tr><td>THROWING OBJECT AT MOVING VEHICLE</td><td>171</td></tr><tr><td>BURGLARY FROM VEHICLE, ATTEMPTED</td><td>283</td></tr><tr><td>INDECENT EXPOSURE</td><td>378</td></tr><tr><td>CRIMINAL HOMICIDE</td><td>293</td></tr><tr><td>DEFRAUDING INNKEEPER/THEFT OF SERVICES, $400 & UNDER</td><td>218</td></tr><tr><td>STALKING</td><td>151</td></tr><tr><td>FAILURE TO YIELD</td><td>89</td></tr><tr><td>EMBEZZLEMENT, GRAND THEFT ($950.01 & OVER)</td><td>667</td></tr><tr><td>CRIMINAL THREATS - NO WEAPON DISPLAYED</td><td>5126</td></tr><tr><td>ORAL COPULATION</td><td>201</td></tr><tr><td>BATTERY - SIMPLE ASSAULT</td><td>17841</td></tr><tr><td>UNAUTHORIZED COMPUTER ACCESS</td><td>155</td></tr><tr><td>THREATENING PHONE CALLS/LETTERS</td><td>312</td></tr><tr><td>null</td><td>169</td></tr><tr><td>BUNCO, ATTEMPT</td><td>120</td></tr><tr><td>TILL TAP - GRAND THEFT ($950.01 & OVER)</td><td>2</td></tr><tr><td>THEFT, COIN MACHINE - PETTY ($950 & UNDER)</td><td>39</td></tr><tr><td>DOCUMENT FORGERY / STOLEN FELONY</td><td>2360</td></tr><tr><td>ARSON</td><td>406</td></tr><tr><td>CHILD ABUSE (PHYSICAL) - SIMPLE ASSAULT</td><td>903</td></tr><tr><td>ASSAULT WITH DEADLY WEAPON ON POLICE OFFICER</td><td>185</td></tr><tr><td>CHILD NEGLECT (SEE 300 W.I.C.)</td><td>326</td></tr><tr><td>INTIMATE PARTNER - AGGRAVATED ASSAULT</td><td>2434</td></tr><tr><td>PEEPING TOM</td><td>117</td></tr><tr><td>CHILD ABUSE (PHYSICAL) - AGGRAVATED ASSAULT</td><td>124</td></tr><tr><td>EMBEZZLEMENT, PETTY THEFT ($950 & UNDER)</td><td>72</td></tr><tr><td>LEWD CONDUCT</td><td>148</td></tr><tr><td>CREDIT CARDS, FRAUD USE ($950 & UNDER</td><td>49</td></tr><tr><td>TILL TAP - PETTY ($950 & UNDER)</td><td>8</td></tr><tr><td>BIKE - STOLEN</td><td>2284</td></tr><tr><td>BATTERY WITH SEXUAL CONTACT</td><td>1035</td></tr><tr><td>DISHONEST EMPLOYEE - GRAND THEFT</td><td>24</td></tr><tr><td>COUNTERFEIT</td><td>78</td></tr><tr><td>PICKPOCKET</td><td>141</td></tr><tr><td>SODOMY/SEXUAL CONTACT B/W PENIS OF ONE PERS TO ANUS OTH 0007=02</td><td>142</td></tr><tr><td>PIMPING</td><td>48</td></tr><tr><td>RAPE, FORCIBLE</td><td>1038</td></tr><tr><td>CHILD STEALING</td><td>112</td></tr><tr><td>VEHICLE - ATTEMPT STOLEN</td><td>429</td></tr><tr><td>BUNCO, GRAND THEFT</td><td>1133</td></tr><tr><td>VIOLATION OF COURT ORDER</td><td>1788</td></tr><tr><td>FALSE POLICE REPORT</td><td>30</td></tr><tr><td>DEFRAUDING INNKEEPER/THEFT OF SERVICES, OVER $400</td><td>27</td></tr><tr><td>SHOPLIFTING - PETTY THEFT ($950 & UNDER)</td><td>6538</td></tr><tr><td>THEFT-GRAND ($950.01 & OVER)EXCPT,GUNS,FOWL,LIVESTK,PROD0036</td><td>6126</td></tr><tr><td>VANDALISM - FELONY ($400 & OVER, ALL CHURCH VANDALISMS) 0114</td><td>12609</td></tr><tr><td>FALSE IMPRISONMENT</td><td>81</td></tr><tr><td>CREDIT CARDS, FRAUD USE ($950.01 & OVER)</td><td>131</td></tr><tr><td>BUNCO, PETTY THEFT</td><td>630</td></tr><tr><td>CRM AGNST CHLD (13 OR UNDER) (14-15 & SUSP 10 YRS OLDER)0060</td><td>468</td></tr><tr><td>PURSE SNATCHING - ATTEMPT</td><td>6</td></tr><tr><td>RAPE, ATTEMPTED</td><td>115</td></tr><tr><td>DOCUMENT WORTHLESS ($200.01 & OVER)</td><td>52</td></tr><tr><td>BATTERY POLICE (SIMPLE)</td><td>473</td></tr><tr><td>EXTORTION</td><td>315</td></tr><tr><td>INTIMATE PARTNER - SIMPLE ASSAULT</td><td>12295</td></tr><tr><td>THEFT PLAIN - PETTY ($950 & UNDER)</td><td>14417</td></tr><tr><td>VIOLATION OF RESTRAINING ORDER</td><td>2064</td></tr><tr><td>ATTEMPTED ROBBERY</td><td>1227</td></tr><tr><td>CHILD ANNOYING (17YRS & UNDER)</td><td>409</td></tr><tr><td>CONTEMPT OF COURT</td><td>798</td></tr><tr><td>DISTURBING THE PEACE</td><td>363</td></tr><tr><td>WEAPONS POSSESSION/BOMBING</td><td>16</td></tr><tr><td>ROBBERY</td><td>9048</td></tr><tr><td>THEFT FROM MOTOR VEHICLE - GRAND ($400 AND OVER)</td><td>3454</td></tr><tr><td>DISHONEST EMPLOYEE - PETTY THEFT</td><td>20</td></tr><tr><td>ILLEGAL DUMPING</td><td>38</td></tr><tr><td>ASSAULT WITH DEADLY WEAPON, AGGRAVATED ASSAULT</td><td>10734</td></tr><tr><td>SHOPLIFTING-GRAND THEFT ($950.01 & OVER)</td><td>537</td></tr><tr><td>RESISTING ARREST</td><td>344</td></tr><tr><td>VEHICLE - STOLEN</td><td>18071</td></tr><tr><td>BRANDISH WEAPON</td><td>2025</td></tr><tr><td>TRESPASSING</td><td>2498</td></tr><tr><td>BURGLARY FROM VEHICLE</td><td>16596</td></tr><tr><td>THEFT FROM PERSON - ATTEMPT</td><td>29</td></tr><tr><td>THEFT PLAIN - ATTEMPT</td><td>152</td></tr><tr><td>DOCUMENT WORTHLESS ($200 & UNDER)</td><td>15</td></tr><tr><td>OTHER ASSAULT</td><td>424</td></tr><tr><td>LETTERS, LEWD</td><td>1541</td></tr><tr><td>KIDNAPPING - GRAND ATTEMPT</td><td>65</td></tr><tr><td>BOMB SCARE</td><td>76</td></tr><tr><td>THEFT FROM MOTOR VEHICLE - ATTEMPT</td><td>175</td></tr><tr><td>SHOPLIFTING - ATTEMPT</td><td>37</td></tr><tr><td>BIKE - ATTEMPTED STOLEN</td><td>11</td></tr><tr><td>THEFT FROM MOTOR VEHICLE - PETTY ($950 & UNDER)</td><td>10451</td></tr><tr><td>OTHER MISCELLANEOUS CRIME</td><td>1601</td></tr><tr><td>SHOTS FIRED AT INHABITED DWELLING</td><td>300</td></tr><tr><td>SEX, UNLAWFUL</td><td>266</td></tr><tr><td>SHOTS FIRED AT MOVING VEHICLE, TRAIN OR AIRCRAFT</td><td>40</td></tr><tr><td>BURGLARY, ATTEMPTED</td><td>1232</td></tr><tr><td>PANDERING</td><td>21</td></tr><tr><td>LYNCHING - ATTEMPTED</td><td>4</td></tr><tr><td>KIDNAPPING</td><td>182</td></tr><tr><td>VIOLATION OF TEMPORARY RESTRAINING ORDER</td><td>248</td></tr><tr><td>BURGLARY</td><td>14196</td></tr><tr><td>VANDALISM - MISDEAMEANOR ($399 OR UNDER)</td><td>8722</td></tr><tr><td>THEFT, PERSON</td><td>1539</td></tr><tr><td>PURSE SNATCHING</td><td>119</td></tr><tr><td>THEFT OF IDENTITY</td><td>11198</td></tr><tr><td>CONSPIRACY</td><td>4</td></tr><tr><td>CRUELTY TO ANIMALS</td><td>99</td></tr><tr><td>SEXUAL PENTRATION WITH A FOREIGN OBJECT</td><td>305</td></tr><tr><td>BATTERY ON A FIREFIGHTER</td><td>38</td></tr><tr><td>CONTRIBUTING</td><td>15</td></tr><tr><td>GRAND THEFT / INSURANCE FRAUD</td><td>4</td></tr><tr><td>BLOCKING DOOR INDUCTION CENTER</td><td>2</td></tr><tr><td>CHILD ABANDONMENT</td><td>10</td></tr><tr><td>INCEST (SEXUAL ACTS BETWEEN BLOOD RELATIVES)</td><td>4</td></tr><tr><td>PETTY THEFT - AUTO REPAIR</td><td>1</td></tr><tr><td>BOAT - STOLEN</td><td>21</td></tr><tr><td>TELEPHONE PROPERTY - DAMAGE</td><td>3</td></tr><tr><td>THEFT, COIN MACHINE - ATTEMPT</td><td>5</td></tr><tr><td>REPLICA FIREARMS(SALE,DISPLAY,MANUFACTURE OR DISTRIBUTE)0132</td><td>6</td></tr><tr><td>THEFT, COIN MACHINE - GRAND ($950.01 & OVER)</td><td>7</td></tr><tr><td>MANSLAUGHTER, NEGLIGENT</td><td>1</td></tr><tr><td>PICKPOCKET, ATTEMPT</td><td>6</td></tr><tr><td>DRUGS, TO A MINOR</td><td>13</td></tr><tr><td>DRUNK ROLL</td><td>2</td></tr><tr><td>DISRUPT SCHOOL</td><td>4</td></tr><tr><td>LYNCHING</td><td>4</td></tr><tr><td>BEASTIALITY, CRIME AGAINST NATURE SEXUAL ASSLT WITH ANIM0065</td><td>1</td></tr></tbody></table></div>"
      ]
     },
     "metadata": {
      "application/vnd.databricks.v1+output": {
       "addedWidgets": {},
       "aggData": [],
       "aggError": "",
       "aggOverflow": false,
       "aggSchema": [],
       "aggSeriesLimitReached": false,
       "aggType": "",
       "arguments": {},
       "columnCustomDisplayInfos": {},
       "data": [
        [
         "RECKLESS DRIVING",
         37
        ],
        [
         "DRIVING WITHOUT OWNER CONSENT (DWOC)",
         64
        ],
        [
         "DISCHARGE FIREARMS/SHOTS FIRED",
         427
        ],
        [
         "PROWLER",
         64
        ],
        [
         "THROWING OBJECT AT MOVING VEHICLE",
         171
        ],
        [
         "BURGLARY FROM VEHICLE, ATTEMPTED",
         283
        ],
        [
         "INDECENT EXPOSURE",
         378
        ],
        [
         "CRIMINAL HOMICIDE",
         293
        ],
        [
         "DEFRAUDING INNKEEPER/THEFT OF SERVICES, $400 & UNDER",
         218
        ],
        [
         "STALKING",
         151
        ],
        [
         "FAILURE TO YIELD",
         89
        ],
        [
         "EMBEZZLEMENT, GRAND THEFT ($950.01 & OVER)",
         667
        ],
        [
         "CRIMINAL THREATS - NO WEAPON DISPLAYED",
         5126
        ],
        [
         "ORAL COPULATION",
         201
        ],
        [
         "BATTERY - SIMPLE ASSAULT",
         17841
        ],
        [
         "UNAUTHORIZED COMPUTER ACCESS",
         155
        ],
        [
         "THREATENING PHONE CALLS/LETTERS",
         312
        ],
        [
         null,
         169
        ],
        [
         "BUNCO, ATTEMPT",
         120
        ],
        [
         "TILL TAP - GRAND THEFT ($950.01 & OVER)",
         2
        ],
        [
         "THEFT, COIN MACHINE - PETTY ($950 & UNDER)",
         39
        ],
        [
         "DOCUMENT FORGERY / STOLEN FELONY",
         2360
        ],
        [
         "ARSON",
         406
        ],
        [
         "CHILD ABUSE (PHYSICAL) - SIMPLE ASSAULT",
         903
        ],
        [
         "ASSAULT WITH DEADLY WEAPON ON POLICE OFFICER",
         185
        ],
        [
         "CHILD NEGLECT (SEE 300 W.I.C.)",
         326
        ],
        [
         "INTIMATE PARTNER - AGGRAVATED ASSAULT",
         2434
        ],
        [
         "PEEPING TOM",
         117
        ],
        [
         "CHILD ABUSE (PHYSICAL) - AGGRAVATED ASSAULT",
         124
        ],
        [
         "EMBEZZLEMENT, PETTY THEFT ($950 & UNDER)",
         72
        ],
        [
         "LEWD CONDUCT",
         148
        ],
        [
         "CREDIT CARDS, FRAUD USE ($950 & UNDER",
         49
        ],
        [
         "TILL TAP - PETTY ($950 & UNDER)",
         8
        ],
        [
         "BIKE - STOLEN",
         2284
        ],
        [
         "BATTERY WITH SEXUAL CONTACT",
         1035
        ],
        [
         "DISHONEST EMPLOYEE - GRAND THEFT",
         24
        ],
        [
         "COUNTERFEIT",
         78
        ],
        [
         "PICKPOCKET",
         141
        ],
        [
         "SODOMY/SEXUAL CONTACT B/W PENIS OF ONE PERS TO ANUS OTH 0007=02",
         142
        ],
        [
         "PIMPING",
         48
        ],
        [
         "RAPE, FORCIBLE",
         1038
        ],
        [
         "CHILD STEALING",
         112
        ],
        [
         "VEHICLE - ATTEMPT STOLEN",
         429
        ],
        [
         "BUNCO, GRAND THEFT",
         1133
        ],
        [
         "VIOLATION OF COURT ORDER",
         1788
        ],
        [
         "FALSE POLICE REPORT",
         30
        ],
        [
         "DEFRAUDING INNKEEPER/THEFT OF SERVICES, OVER $400",
         27
        ],
        [
         "SHOPLIFTING - PETTY THEFT ($950 & UNDER)",
         6538
        ],
        [
         "THEFT-GRAND ($950.01 & OVER)EXCPT,GUNS,FOWL,LIVESTK,PROD0036",
         6126
        ],
        [
         "VANDALISM - FELONY ($400 & OVER, ALL CHURCH VANDALISMS) 0114",
         12609
        ],
        [
         "FALSE IMPRISONMENT",
         81
        ],
        [
         "CREDIT CARDS, FRAUD USE ($950.01 & OVER)",
         131
        ],
        [
         "BUNCO, PETTY THEFT",
         630
        ],
        [
         "CRM AGNST CHLD (13 OR UNDER) (14-15 & SUSP 10 YRS OLDER)0060",
         468
        ],
        [
         "PURSE SNATCHING - ATTEMPT",
         6
        ],
        [
         "RAPE, ATTEMPTED",
         115
        ],
        [
         "DOCUMENT WORTHLESS ($200.01 & OVER)",
         52
        ],
        [
         "BATTERY POLICE (SIMPLE)",
         473
        ],
        [
         "EXTORTION",
         315
        ],
        [
         "INTIMATE PARTNER - SIMPLE ASSAULT",
         12295
        ],
        [
         "THEFT PLAIN - PETTY ($950 & UNDER)",
         14417
        ],
        [
         "VIOLATION OF RESTRAINING ORDER",
         2064
        ],
        [
         "ATTEMPTED ROBBERY",
         1227
        ],
        [
         "CHILD ANNOYING (17YRS & UNDER)",
         409
        ],
        [
         "CONTEMPT OF COURT",
         798
        ],
        [
         "DISTURBING THE PEACE",
         363
        ],
        [
         "WEAPONS POSSESSION/BOMBING",
         16
        ],
        [
         "ROBBERY",
         9048
        ],
        [
         "THEFT FROM MOTOR VEHICLE - GRAND ($400 AND OVER)",
         3454
        ],
        [
         "DISHONEST EMPLOYEE - PETTY THEFT",
         20
        ],
        [
         "ILLEGAL DUMPING",
         38
        ],
        [
         "ASSAULT WITH DEADLY WEAPON, AGGRAVATED ASSAULT",
         10734
        ],
        [
         "SHOPLIFTING-GRAND THEFT ($950.01 & OVER)",
         537
        ],
        [
         "RESISTING ARREST",
         344
        ],
        [
         "VEHICLE - STOLEN",
         18071
        ],
        [
         "BRANDISH WEAPON",
         2025
        ],
        [
         "TRESPASSING",
         2498
        ],
        [
         "BURGLARY FROM VEHICLE",
         16596
        ],
        [
         "THEFT FROM PERSON - ATTEMPT",
         29
        ],
        [
         "THEFT PLAIN - ATTEMPT",
         152
        ],
        [
         "DOCUMENT WORTHLESS ($200 & UNDER)",
         15
        ],
        [
         "OTHER ASSAULT",
         424
        ],
        [
         "LETTERS, LEWD",
         1541
        ],
        [
         "KIDNAPPING - GRAND ATTEMPT",
         65
        ],
        [
         "BOMB SCARE",
         76
        ],
        [
         "THEFT FROM MOTOR VEHICLE - ATTEMPT",
         175
        ],
        [
         "SHOPLIFTING - ATTEMPT",
         37
        ],
        [
         "BIKE - ATTEMPTED STOLEN",
         11
        ],
        [
         "THEFT FROM MOTOR VEHICLE - PETTY ($950 & UNDER)",
         10451
        ],
        [
         "OTHER MISCELLANEOUS CRIME",
         1601
        ],
        [
         "SHOTS FIRED AT INHABITED DWELLING",
         300
        ],
        [
         "SEX, UNLAWFUL",
         266
        ],
        [
         "SHOTS FIRED AT MOVING VEHICLE, TRAIN OR AIRCRAFT",
         40
        ],
        [
         "BURGLARY, ATTEMPTED",
         1232
        ],
        [
         "PANDERING",
         21
        ],
        [
         "LYNCHING - ATTEMPTED",
         4
        ],
        [
         "KIDNAPPING",
         182
        ],
        [
         "VIOLATION OF TEMPORARY RESTRAINING ORDER",
         248
        ],
        [
         "BURGLARY",
         14196
        ],
        [
         "VANDALISM - MISDEAMEANOR ($399 OR UNDER)",
         8722
        ],
        [
         "THEFT, PERSON",
         1539
        ],
        [
         "PURSE SNATCHING",
         119
        ],
        [
         "THEFT OF IDENTITY",
         11198
        ],
        [
         "CONSPIRACY",
         4
        ],
        [
         "CRUELTY TO ANIMALS",
         99
        ],
        [
         "SEXUAL PENTRATION WITH A FOREIGN OBJECT",
         305
        ],
        [
         "BATTERY ON A FIREFIGHTER",
         38
        ],
        [
         "CONTRIBUTING",
         15
        ],
        [
         "GRAND THEFT / INSURANCE FRAUD",
         4
        ],
        [
         "BLOCKING DOOR INDUCTION CENTER",
         2
        ],
        [
         "CHILD ABANDONMENT",
         10
        ],
        [
         "INCEST (SEXUAL ACTS BETWEEN BLOOD RELATIVES)",
         4
        ],
        [
         "PETTY THEFT - AUTO REPAIR",
         1
        ],
        [
         "BOAT - STOLEN",
         21
        ],
        [
         "TELEPHONE PROPERTY - DAMAGE",
         3
        ],
        [
         "THEFT, COIN MACHINE - ATTEMPT",
         5
        ],
        [
         "REPLICA FIREARMS(SALE,DISPLAY,MANUFACTURE OR DISTRIBUTE)0132",
         6
        ],
        [
         "THEFT, COIN MACHINE - GRAND ($950.01 & OVER)",
         7
        ],
        [
         "MANSLAUGHTER, NEGLIGENT",
         1
        ],
        [
         "PICKPOCKET, ATTEMPT",
         6
        ],
        [
         "DRUGS, TO A MINOR",
         13
        ],
        [
         "DRUNK ROLL",
         2
        ],
        [
         "DISRUPT SCHOOL",
         4
        ],
        [
         "LYNCHING",
         4
        ],
        [
         "BEASTIALITY, CRIME AGAINST NATURE SEXUAL ASSLT WITH ANIM0065",
         1
        ]
       ],
       "datasetInfos": [],
       "dbfsResultPath": null,
       "isJsonSchema": true,
       "metadata": {},
       "overflow": false,
       "plotOptions": {
        "customPlotOptions": {},
        "displayType": "table",
        "pivotAggregation": null,
        "pivotColumns": null,
        "xColumns": null,
        "yColumns": null
       },
       "removedWidgets": [],
       "schema": [
        {
         "metadata": "{}",
         "name": "crimeCodeDescription",
         "type": "\"string\""
        },
        {
         "metadata": "{}",
         "name": "count",
         "type": "\"long\""
        }
       ],
       "type": "table"
      }
     },
     "output_type": "display_data"
    },
    {
     "name": "stdout",
     "output_type": "stream",
     "text": [
      "Chicago\n"
     ]
    },
    {
     "data": {
      "text/html": [
       "<style scoped>\n",
       "  .table-result-container {\n",
       "    max-height: 300px;\n",
       "    overflow: auto;\n",
       "  }\n",
       "  table, th, td {\n",
       "    border: 1px solid black;\n",
       "    border-collapse: collapse;\n",
       "  }\n",
       "  th, td {\n",
       "    padding: 5px;\n",
       "  }\n",
       "  th {\n",
       "    text-align: left;\n",
       "  }\n",
       "</style><div class='table-result-container'><table class='table-result'><thead style='background-color: white'><tr><th>description</th><th>count</th></tr></thead><tbody><tr><td>AGGRAVATED PO:KNIFE/CUT INSTR</td><td>34</td></tr><tr><td>UNLAWFUL USE OF A COMPUTER</td><td>11</td></tr><tr><td>AGGRAVATED: OTHER DANG WEAPON</td><td>2931</td></tr><tr><td>POSS: COCAINE</td><td>452</td></tr><tr><td>POSSESSION: SYNTHETIC MARIJUANA</td><td>15</td></tr><tr><td>OVER $500</td><td>15195</td></tr><tr><td>BOGUS CHECK</td><td>444</td></tr><tr><td>FINANCIAL IDENTITY THEFT $300 AND UNDER</td><td>1703</td></tr><tr><td>OTHER CRIME INVOLVING PROPERTY</td><td>230</td></tr><tr><td>CONTRIBUTE CRIM DELINQUENCY JUVENILE</td><td>4</td></tr><tr><td>AGG CRIMINAL SEXUAL ABUSE</td><td>184</td></tr><tr><td>CRIM SEX ABUSE BY FAM MEMBER</td><td>108</td></tr><tr><td>POSS: LOOK-ALIKE DRUGS</td><td>3</td></tr><tr><td>REFUSING TO AID AN OFFICER</td><td>1</td></tr><tr><td>COMPUTER FRAUD</td><td>87</td></tr><tr><td>OBSTRUCTING SERVICE</td><td>33</td></tr><tr><td>DELIVERY CONTAINER THEFT</td><td>33</td></tr><tr><td>AGG PO HANDS NO/MIN INJURY</td><td>860</td></tr><tr><td>OTHER CRIME AGAINST PERSON</td><td>346</td></tr><tr><td>ATTEMPT: AGGRAVATED</td><td>81</td></tr><tr><td>FINANCIAL IDENTITY THEFT OVER $ 300</td><td>5127</td></tr><tr><td>THEFT/RECOVERY: CYCLE, SCOOTER, BIKE W-VIN</td><td>7</td></tr><tr><td>ATTEMPT - FINANCIAL IDENTITY THEFT</td><td>665</td></tr><tr><td>RECKLESS CONDUCT</td><td>1140</td></tr><tr><td>SALE/DIST OBSCENE MAT TO MINOR</td><td>16</td></tr><tr><td>CHILD ABDUCTION</td><td>133</td></tr><tr><td>VIOLATE ORDER OF PROTECTION</td><td>1645</td></tr><tr><td>INSTITUTIONAL VANDALISM</td><td>22</td></tr><tr><td>UNLAWFUL POSS OF HANDGUN</td><td>2500</td></tr><tr><td>PROHIBITED PLACES</td><td>20</td></tr><tr><td>MANU/DELIVER:AMPHETAMINES</td><td>4</td></tr><tr><td>POSS: SYNTHETIC DRUGS</td><td>202</td></tr><tr><td>UNAUTHORIZED VIDEOTAPING</td><td>36</td></tr><tr><td>OBSCENITY</td><td>9</td></tr><tr><td>FORCIBLE ENTRY</td><td>8678</td></tr><tr><td>TO LAND</td><td>3476</td></tr><tr><td>MANU/DEL:CANNABIS OVER 10 GMS</td><td>325</td></tr><tr><td>FORFEIT PROPERTY</td><td>116</td></tr><tr><td>AGGRAVATED FINANCIAL IDENTITY THEFT</td><td>113</td></tr><tr><td>CALL OPERATION</td><td>20</td></tr><tr><td>POS: EXPLOSIVE/INCENDIARY DEV</td><td>3</td></tr><tr><td>AGG: HANDS/FIST/FEET SERIOUS INJURY</td><td>162</td></tr><tr><td>SEX OFFENDER: FAIL REG NEW ADD</td><td>128</td></tr><tr><td>ATTEMPT FORCIBLE ENTRY</td><td>683</td></tr><tr><td>MANU/DELIVER: HEROIN (WHITE)</td><td>1195</td></tr><tr><td>ILLEGAL POSSESSION CASH CARD</td><td>24</td></tr><tr><td>FRAUD OR CONFIDENCE GAME</td><td>1745</td></tr><tr><td>PAY TV SERVICE OFFENSES</td><td>6</td></tr><tr><td>FALSE/STOLEN/ALTERED TRP</td><td>714</td></tr><tr><td>TO VEHICLE</td><td>16178</td></tr><tr><td>THEFT BY LESSEE,NON-VEH</td><td>12</td></tr><tr><td>THEFT BY LESSEE,MOTOR VEH</td><td>315</td></tr><tr><td>ATTEMPT AGG: OTHER DANG WEAPON</td><td>1</td></tr><tr><td>PROBATION VIOLATION</td><td>34</td></tr><tr><td>UNLAWFUL INTERFERE/VISITATION</td><td>68</td></tr><tr><td>MANU/DELIVER: HALLUCINOGEN</td><td>34</td></tr><tr><td>AGGRAVATED: OTHER FIREARM</td><td>119</td></tr><tr><td>CRIMINAL DRUG CONSPIRACY</td><td>40</td></tr><tr><td>SOLICIT ON PUBLIC WAY</td><td>729</td></tr><tr><td>CHILD ABANDONMENT</td><td>33</td></tr><tr><td>INVOLUNTARY SERVITUDE</td><td>7</td></tr><tr><td>MANU/POSS. W/INTENT TO DELIVER: SYNTHETIC MARIJUANA</td><td>3</td></tr><tr><td>AGGRAVATED: HANDGUN</td><td>5694</td></tr><tr><td>SELL/ADVERTISE FIREWORKS</td><td>2</td></tr><tr><td>ARMED: OTHER DANGEROUS WEAPON</td><td>483</td></tr><tr><td>MANU/DELIVER:PCP</td><td>27</td></tr><tr><td>PREDATORY</td><td>141</td></tr><tr><td>FOUND SUSPECT NARCOTICS</td><td>841</td></tr><tr><td>MANU/DELIVER: HEROIN(BRN/TAN)</td><td>25</td></tr><tr><td>TO PROPERTY</td><td>14139</td></tr><tr><td>VIOLENT OFFENDER: ANNUAL REGISTRATION</td><td>31</td></tr><tr><td>PEEPING TOM</td><td>41</td></tr><tr><td>AGG: HANDS/FIST/FEET NO/MINOR INJURY</td><td>138</td></tr><tr><td>POSS: CANNABIS MORE THAN 30GMS</td><td>534</td></tr><tr><td>GUN OFFENDER: DUTY TO REGISTER</td><td>104</td></tr><tr><td>ANIMAL ABUSE/NEGLECT</td><td>156</td></tr><tr><td>POCKET-PICKING</td><td>1979</td></tr><tr><td>EAVESDROPPING</td><td>11</td></tr><tr><td>ATTEMPT: ARMED-OTHER DANG WEAP</td><td>64</td></tr><tr><td>AGG PRO.EMP: OTHER DANG WEAPON</td><td>100</td></tr><tr><td>OBSTRUCTING JUSTICE</td><td>35</td></tr><tr><td>BRIBERY</td><td>5</td></tr><tr><td>OBSCENE TELEPHONE CALLS</td><td>29</td></tr><tr><td>FINAN EXPLOIT-ELDERLY/DISABLED</td><td>64</td></tr><tr><td>CANNABIS PLANT</td><td>6</td></tr><tr><td>AGG PRO.EMP:KNIFE/CUTTING INST</td><td>47</td></tr><tr><td>INDECENT SOLICITATION/CHILD</td><td>39</td></tr><tr><td>ILLEGAL POSSESSION BY MINOR</td><td>46</td></tr><tr><td>AGGRAVATED:KNIFE/CUTTING INSTR</td><td>2224</td></tr><tr><td>AGGRAVATED DOMESTIC BATTERY: KNIFE/CUTTING INST</td><td>730</td></tr><tr><td>BOMB THREAT</td><td>124</td></tr><tr><td>ATTEMPT ARSON</td><td>75</td></tr><tr><td>INTOXICATING COMPOUNDS</td><td>4</td></tr><tr><td>UNLAWFUL USE OTHER FIREARM</td><td>46</td></tr><tr><td>PURSE-SNATCHING</td><td>656</td></tr><tr><td>ATTEMPT: STRONGARM-NO WEAPON</td><td>385</td></tr><tr><td>$500 AND UNDER</td><td>24242</td></tr><tr><td>ATT: AUTOMOBILE</td><td>519</td></tr><tr><td>VIOLENT OFFENDER: FAIL TO REGISTER NEW ADDRESS</td><td>8</td></tr><tr><td>AGGRAVATED: OTHER</td><td>211</td></tr><tr><td>GAME/DICE</td><td>180</td></tr><tr><td>COUNTERFEIT CHECK</td><td>509</td></tr><tr><td>SOLICIT FOR PROSTITUTE</td><td>27</td></tr><tr><td>UNLAWFUL USE/SALE AIR RIFLE</td><td>37</td></tr><tr><td>POS: HYPODERMIC NEEDLE</td><td>15</td></tr><tr><td>AUTOMOBILE</td><td>9506</td></tr><tr><td>ATTEMPT AGG: OTHER</td><td>10</td></tr><tr><td>ESCAPE</td><td>10</td></tr><tr><td>AGGRAVATED VEHICULAR HIJACKING</td><td>396</td></tr><tr><td>MANU/DELIVER: METHAMPHETAMINES</td><td>10</td></tr><tr><td>TELEPHONE THREAT</td><td>4281</td></tr><tr><td>FALSE POLICE REPORT</td><td>53</td></tr><tr><td>SEXUAL EXPLOITATION OF A CHILD</td><td>38</td></tr><tr><td>DOMESTIC BATTERY SIMPLE</td><td>24731</td></tr><tr><td>CHILD PORNOGRAPHY</td><td>120</td></tr><tr><td>KEEP PLACE OF PROSTITUTION</td><td>1</td></tr><tr><td>OBSTRUCTING IDENTIFICATION</td><td>545</td></tr><tr><td>TRUCK, BUS, MOTOR HOME</td><td>249</td></tr><tr><td>POSS: AMPHETAMINES</td><td>23</td></tr><tr><td>ARMED: HANDGUN</td><td>4758</td></tr><tr><td>SOLICIT NARCOTICS ON PUBLICWAY</td><td>212</td></tr><tr><td>LIBRARY VANDALISM</td><td>2</td></tr><tr><td>FALSE FIRE ALARM</td><td>20</td></tr><tr><td>SEX OFFENDER: PROHIBITED ZONE</td><td>14</td></tr><tr><td>HARASSMENT BY ELECTRONIC MEANS</td><td>2720</td></tr><tr><td>UNLAWFUL USE OF RECORDED SOUND</td><td>11</td></tr><tr><td>MANU/DELIVER:SYNTHETIC DRUGS</td><td>48</td></tr><tr><td>CONCEALING/AIDING A FUGITIVE</td><td>3</td></tr><tr><td>HARASSMENT BY TELEPHONE</td><td>2869</td></tr><tr><td>TAMPER WITH MOTOR VEHICLE</td><td>17</td></tr><tr><td>UNLAWFUL POSS AMMUNITION</td><td>70</td></tr><tr><td>EXTORTION</td><td>35</td></tr><tr><td>UNLAWFUL USE HANDGUN</td><td>273</td></tr><tr><td>FAIL REGISTER LIC:CONT SUBS</td><td>1</td></tr><tr><td>AGG SEX ASSLT OF CHILD FAM MBR</td><td>67</td></tr><tr><td>UNLAWFUL POSS OTHER FIREARM</td><td>74</td></tr><tr><td>AGGRAVATED OF A CHILD</td><td>53</td></tr><tr><td>OTHER WEAPONS VIOLATION</td><td>173</td></tr><tr><td>FORGERY</td><td>485</td></tr><tr><td>VEHICLE TITLE/REG OFFENSE</td><td>513</td></tr><tr><td>OTHER ARSON/EXPLOSIVE INCIDENT</td><td>9</td></tr><tr><td>INTERFERENCE JUDICIAL PROCESS</td><td>15</td></tr><tr><td>NOTIFICATION OF STALKING - NO CONTACT ORDER</td><td>1</td></tr><tr><td>PUBLIC DEMONSTRATION</td><td>22</td></tr><tr><td>POSS: METHAMPHETAMINES</td><td>56</td></tr><tr><td>UNLAWFUL RESTRAINT</td><td>38</td></tr><tr><td>ILLEGAL USE CASH CARD</td><td>1368</td></tr><tr><td>MANU/DELIVER:BARBITUATES</td><td>13</td></tr><tr><td>LICENSE VIOLATION</td><td>545</td></tr><tr><td>FOID - REVOCATION</td><td>19</td></tr><tr><td>POSS: HALLUCINOGENS</td><td>86</td></tr><tr><td>AGGRAVATED DOMESTIC BATTERY: HANDS/FIST/FEET SERIOUS INJURY</td><td>253</td></tr><tr><td>POSSESSION OF DRUG EQUIPMENT</td><td>168</td></tr><tr><td>VEHICULAR HIJACKING</td><td>266</td></tr><tr><td>AGGRAVATED PO: KNIFE/CUT INSTR</td><td>7</td></tr><tr><td>AGGRAVATED PO: HANDGUN</td><td>64</td></tr><tr><td>AGG PRO EMP HANDS SERIOUS INJ</td><td>34</td></tr><tr><td>RECKLESS FIREARM DISCHARGE</td><td>241</td></tr><tr><td>FROM BUILDING</td><td>9993</td></tr><tr><td>POSS: CRACK</td><td>985</td></tr><tr><td>IMPERSONATION</td><td>15</td></tr><tr><td>TO AIRPORT</td><td>7</td></tr><tr><td>MANU/DELIVER:CRACK</td><td>513</td></tr><tr><td>AGGRAVATED DOMESTIC BATTERY: OTHER DANG WEAPON</td><td>1085</td></tr><tr><td>PUBLIC INDECENCY</td><td>182</td></tr><tr><td>LICENSED PREMISE</td><td>10</td></tr><tr><td>ALTER/FORGE PRESCRIPTION</td><td>80</td></tr><tr><td>TO FIRE FIGHT.APP.EQUIP</td><td>4</td></tr><tr><td>RETAIL THEFT</td><td>8978</td></tr><tr><td>POSS: HEROIN(WHITE)</td><td>2154</td></tr><tr><td>BY FIRE</td><td>363</td></tr><tr><td>AGG CRIM SEX ABUSE FAM MEMBER</td><td>160</td></tr><tr><td>MANU/DEL:CANNABIS 10GM OR LESS</td><td>481</td></tr><tr><td>OTHER VIOLATION</td><td>93</td></tr><tr><td>DECEPTIVE COLLECTION PRACTICES</td><td>34</td></tr><tr><td>LOST PASSPORT</td><td>31</td></tr><tr><td>SOLICIT FOR BUSINESS</td><td>14</td></tr><tr><td>THEFT OF LABOR/SERVICES</td><td>843</td></tr><tr><td>ATTEMPT: ARMED-HANDGUN</td><td>442</td></tr><tr><td>MANU/DELIVER:COCAINE</td><td>45</td></tr><tr><td>OTHER</td><td>58</td></tr><tr><td>ENDANGERING LIFE/HEALTH CHILD</td><td>286</td></tr><tr><td>AGGRAVATED: KNIFE/CUT INSTR</td><td>24</td></tr><tr><td>TO CITY OF CHICAGO PROPERTY</td><td>542</td></tr><tr><td>CRIMINAL DEFACEMENT</td><td>893</td></tr><tr><td>INTIMIDATION</td><td>98</td></tr><tr><td>INDECENT SOLICITATION/ADULT</td><td>5</td></tr><tr><td>OBSCENE MATTER</td><td>27</td></tr><tr><td>CREDIT CARD FRAUD</td><td>3438</td></tr><tr><td>FROM COIN-OP MACHINE/DEVICE</td><td>24</td></tr><tr><td>GUN OFFENDER: ANNUAL REGISTRATION</td><td>139</td></tr><tr><td>TO STATE SUP PROP</td><td>126</td></tr><tr><td>VIOLATION OF CIVIL NO CONTACT ORDER</td><td>69</td></tr><tr><td>ATTEMPT: ARMED-OTHER FIREARM</td><td>15</td></tr><tr><td>ATTEMPT: CYCLE, SCOOTER, BIKE W-VIN</td><td>6</td></tr><tr><td>SELL/GIVE/DEL LIQUOR TO MINOR</td><td>15</td></tr><tr><td>UNLAWFUL USE OTHER DANG WEAPON</td><td>148</td></tr><tr><td>RECKLESS HOMICIDE</td><td>3</td></tr><tr><td>EMBEZZLEMENT</td><td>49</td></tr><tr><td>ATT AGG CRIMINAL SEXUAL ABUSE</td><td>4</td></tr><tr><td>BOARD PLANE WITH WEAPON</td><td>8</td></tr><tr><td>VIOLATION OF STALKING NO CONTACT ORDER</td><td>14</td></tr><tr><td>AGGRAVATED DOMESTIC BATTERY: HANDGUN</td><td>12</td></tr><tr><td>AGGRAVATED</td><td>773</td></tr><tr><td>LIQUOR LICENSE VIOLATION</td><td>144</td></tr><tr><td>SALE/DEL DRUG PARAPHERNALIA</td><td>1</td></tr><tr><td>VIOLENT OFFENDER: DUTY TO REGISTER</td><td>13</td></tr><tr><td>COUNTERFEITING DOCUMENT</td><td>863</td></tr><tr><td>CHILD ABDUCTION/STRANGER</td><td>60</td></tr><tr><td>OTHER VEHICLE OFFENSE</td><td>1297</td></tr><tr><td>SEX ASSLT OF CHILD BY FAM MBR</td><td>53</td></tr><tr><td>VIO BAIL BOND: DOM VIOLENCE</td><td>19</td></tr><tr><td>POSSESSION OF BURGLARY TOOLS</td><td>10</td></tr><tr><td>STRONGARM - NO WEAPON</td><td>3731</td></tr><tr><td>PRO EMP HANDS NO/MIN INJURY</td><td>1267</td></tr><tr><td>ARMED: OTHER FIREARM</td><td>61</td></tr><tr><td>AGG PO HANDS ETC SERIOUS INJ</td><td>19</td></tr><tr><td>AGGRAVATED OF A SENIOR CITIZEN</td><td>160</td></tr><tr><td>THEFT/RECOVERY: AUTOMOBILE</td><td>735</td></tr><tr><td>ILLEGAL CONSUMPTION BY MINOR</td><td>20</td></tr><tr><td>MOB ACTION</td><td>24</td></tr><tr><td>FIRST DEGREE MURDER</td><td>776</td></tr><tr><td>MONEY LAUNDERING</td><td>4</td></tr><tr><td>ARSONIST: ANNUAL REGISTRATION</td><td>4</td></tr><tr><td>UNLAWFUL ENTRY</td><td>4672</td></tr><tr><td>POSS FIREARM/AMMO:NO FOID CARD</td><td>55</td></tr><tr><td>NON-AGGRAVATED</td><td>947</td></tr><tr><td>ARSON THREAT</td><td>87</td></tr><tr><td>ARMED:KNIFE/CUTTING INSTRUMENT</td><td>488</td></tr><tr><td>CHILD ABUSE</td><td>704</td></tr><tr><td>CYBERSTALKING</td><td>17</td></tr><tr><td>POSS. KEYS OR DEV.TO COIN MACH</td><td>1</td></tr><tr><td>AGG PRO.EMP: HANDGUN</td><td>30</td></tr><tr><td>CRIMINAL SEXUAL ABUSE</td><td>413</td></tr><tr><td>ARMED WHILE UNDER THE INFLUENCE</td><td>8</td></tr><tr><td>AGG PRO.EMP: OTHER FIREARM</td><td>3</td></tr><tr><td>MINOR MISREPRESENT AGE</td><td>1</td></tr><tr><td>ATTEMPT: ARMED-KNIFE/CUT INSTR</td><td>98</td></tr><tr><td>COMMERCIAL SEX ACTS</td><td>4</td></tr><tr><td>STOLEN PROP: BUY/RECEIVE/POS.</td><td>51</td></tr><tr><td>THEFT/RECOVERY: TRUCK,BUS,MHOME</td><td>34</td></tr><tr><td>ATTEMPT POSSESSION NARCOTICS</td><td>97</td></tr><tr><td>OTHER OFFENSE</td><td>573</td></tr><tr><td>POSS: HEROIN(BRN/TAN)</td><td>93</td></tr><tr><td>ATT CRIM SEXUAL ABUSE</td><td>29</td></tr><tr><td>TO STATE SUP LAND</td><td>579</td></tr><tr><td>ATTEMPT THEFT</td><td>414</td></tr><tr><td>CYCLE, SCOOTER, BIKE W-VIN</td><td>225</td></tr><tr><td>PANDERING</td><td>2</td></tr><tr><td>POSS: PCP</td><td>161</td></tr><tr><td>KIDNAPPING</td><td>24</td></tr><tr><td>RESIST/OBSTRUCT/DISARM OFFICER</td><td>285</td></tr><tr><td>ATTEMPT NON-AGGRAVATED</td><td>62</td></tr><tr><td>CONTRIBUTE DELINQUENCY OF A CHILD</td><td>14</td></tr><tr><td>ATTEMPT AGG: KNIFE/CUT INSTR</td><td>6</td></tr><tr><td>OTHER PROSTITUTION OFFENSE</td><td>3</td></tr><tr><td>AGGRAVATED PO: OTHER DANG WEAP</td><td>105</td></tr><tr><td>TO RESIDENCE</td><td>1310</td></tr><tr><td>PAROLE VIOLATION</td><td>855</td></tr><tr><td>SEX OFFENDER: FAIL TO REGISTER</td><td>183</td></tr><tr><td>THEFT OF LOST/MISLAID PROP</td><td>179</td></tr><tr><td>FORCIBLE DETENTION</td><td>3</td></tr><tr><td>SIMPLE</td><td>28352</td></tr><tr><td>HARBOR RUNAWAY</td><td>3</td></tr><tr><td>CYCLE, SCOOTER, BIKE NO VIN</td><td>8</td></tr><tr><td>POSS: CANNABIS 30GMS OR LESS</td><td>4061</td></tr><tr><td>POSS: BARBITUATES</td><td>112</td></tr><tr><td>HOME INVASION</td><td>262</td></tr><tr><td>CRIMINAL TRANSMISSION OF HIV</td><td>4</td></tr><tr><td>BY EXPLOSIVE</td><td>3</td></tr><tr><td>UNLAWFUL SALE HANDGUN</td><td>2</td></tr><tr><td>DELIVER CANNABIS TO PERSON <18</td><td>4</td></tr><tr><td>CONT SUBS:FAIL TO MAINT RECORD</td><td>3</td></tr><tr><td>ATT: TRUCK, BUS, MOTOR HOME</td><td>4</td></tr><tr><td>CONCEALED CARRY LICENSE REVOCATION</td><td>1</td></tr><tr><td>INTERFERE W/ HIGHER EDUCATION</td><td>1</td></tr><tr><td>AGGRAVATED PO: OTHER FIREARM</td><td>2</td></tr><tr><td>ATTEMPT AGG: OTHER FIREARM</td><td>1</td></tr><tr><td>POSS: HEROIN(BLACK TAR)</td><td>7</td></tr><tr><td>POS: PORNOGRAPHIC PRINT</td><td>6</td></tr><tr><td>SEX RELATION IN FAMILY</td><td>3</td></tr><tr><td>GUN OFFENDER: DUTY TO REPORT CHANGE OF INFORMATION</td><td>9</td></tr><tr><td>SALE TOBACCO PRODUCTS TO MINOR</td><td>1</td></tr><tr><td>OFFICIAL MISCONDUCT</td><td>2</td></tr><tr><td>DEFACE IDENT MARKS OF FIREARM</td><td>1</td></tr><tr><td>OF UNBORN CHILD</td><td>2</td></tr><tr><td>ABUSE/NEGLECT: CARE FACILITY</td><td>4</td></tr><tr><td>LIBRARY THEFT</td><td>2</td></tr><tr><td>ATTEMPT AGG: HANDGUN</td><td>1</td></tr><tr><td>DEL CONT SUBS TO PERSON <18</td><td>4</td></tr><tr><td>INSURANCE FRAUD</td><td>4</td></tr><tr><td>FOUND PASSPORT</td><td>1</td></tr><tr><td>UNLAWFUL SALE/DELIVERY OF FIREARM AT SCHOOL</td><td>1</td></tr><tr><td>INTERFERE W/ EMERGENCY EQUIP</td><td>2</td></tr><tr><td>HAZARDOUS MATERIALS VIOLATION</td><td>1</td></tr><tr><td>VIOLATION GPS MONITORING DEVICE</td><td>6</td></tr><tr><td>AGGRAVATED COMPUTER TAMPERING</td><td>1</td></tr><tr><td>GAME/AMUSEMENT DEVICE</td><td>5</td></tr><tr><td>THEFT RETAIL</td><td>1</td></tr><tr><td>VIOLATION OF SMOKING BAN</td><td>1</td></tr><tr><td>POS: CHEMICAL/DRY-ICE DEVICE</td><td>1</td></tr><tr><td>CONTRABAND IN PRISON</td><td>1</td></tr><tr><td>GAME/CARDS</td><td>1</td></tr><tr><td>NOTIFICATION OF CIVIL NO CONTACT ORDER</td><td>1</td></tr><tr><td>SOLICIT OFF PUBLIC WAY</td><td>4</td></tr><tr><td>COMPELLING ORG MEMBERSHIP</td><td>1</td></tr></tbody></table></div>"
      ]
     },
     "metadata": {
      "application/vnd.databricks.v1+output": {
       "addedWidgets": {},
       "aggData": [],
       "aggError": "",
       "aggOverflow": false,
       "aggSchema": [],
       "aggSeriesLimitReached": false,
       "aggType": "",
       "arguments": {},
       "columnCustomDisplayInfos": {},
       "data": [
        [
         "AGGRAVATED PO:KNIFE/CUT INSTR",
         34
        ],
        [
         "UNLAWFUL USE OF A COMPUTER",
         11
        ],
        [
         "AGGRAVATED: OTHER DANG WEAPON",
         2931
        ],
        [
         "POSS: COCAINE",
         452
        ],
        [
         "POSSESSION: SYNTHETIC MARIJUANA",
         15
        ],
        [
         "OVER $500",
         15195
        ],
        [
         "BOGUS CHECK",
         444
        ],
        [
         "FINANCIAL IDENTITY THEFT $300 AND UNDER",
         1703
        ],
        [
         "OTHER CRIME INVOLVING PROPERTY",
         230
        ],
        [
         "CONTRIBUTE CRIM DELINQUENCY JUVENILE",
         4
        ],
        [
         "AGG CRIMINAL SEXUAL ABUSE",
         184
        ],
        [
         "CRIM SEX ABUSE BY FAM MEMBER",
         108
        ],
        [
         "POSS: LOOK-ALIKE DRUGS",
         3
        ],
        [
         "REFUSING TO AID AN OFFICER",
         1
        ],
        [
         "COMPUTER FRAUD",
         87
        ],
        [
         "OBSTRUCTING SERVICE",
         33
        ],
        [
         "DELIVERY CONTAINER THEFT",
         33
        ],
        [
         "AGG PO HANDS NO/MIN INJURY",
         860
        ],
        [
         "OTHER CRIME AGAINST PERSON",
         346
        ],
        [
         "ATTEMPT: AGGRAVATED",
         81
        ],
        [
         "FINANCIAL IDENTITY THEFT OVER $ 300",
         5127
        ],
        [
         "THEFT/RECOVERY: CYCLE, SCOOTER, BIKE W-VIN",
         7
        ],
        [
         "ATTEMPT - FINANCIAL IDENTITY THEFT",
         665
        ],
        [
         "RECKLESS CONDUCT",
         1140
        ],
        [
         "SALE/DIST OBSCENE MAT TO MINOR",
         16
        ],
        [
         "CHILD ABDUCTION",
         133
        ],
        [
         "VIOLATE ORDER OF PROTECTION",
         1645
        ],
        [
         "INSTITUTIONAL VANDALISM",
         22
        ],
        [
         "UNLAWFUL POSS OF HANDGUN",
         2500
        ],
        [
         "PROHIBITED PLACES",
         20
        ],
        [
         "MANU/DELIVER:AMPHETAMINES",
         4
        ],
        [
         "POSS: SYNTHETIC DRUGS",
         202
        ],
        [
         "UNAUTHORIZED VIDEOTAPING",
         36
        ],
        [
         "OBSCENITY",
         9
        ],
        [
         "FORCIBLE ENTRY",
         8678
        ],
        [
         "TO LAND",
         3476
        ],
        [
         "MANU/DEL:CANNABIS OVER 10 GMS",
         325
        ],
        [
         "FORFEIT PROPERTY",
         116
        ],
        [
         "AGGRAVATED FINANCIAL IDENTITY THEFT",
         113
        ],
        [
         "CALL OPERATION",
         20
        ],
        [
         "POS: EXPLOSIVE/INCENDIARY DEV",
         3
        ],
        [
         "AGG: HANDS/FIST/FEET SERIOUS INJURY",
         162
        ],
        [
         "SEX OFFENDER: FAIL REG NEW ADD",
         128
        ],
        [
         "ATTEMPT FORCIBLE ENTRY",
         683
        ],
        [
         "MANU/DELIVER: HEROIN (WHITE)",
         1195
        ],
        [
         "ILLEGAL POSSESSION CASH CARD",
         24
        ],
        [
         "FRAUD OR CONFIDENCE GAME",
         1745
        ],
        [
         "PAY TV SERVICE OFFENSES",
         6
        ],
        [
         "FALSE/STOLEN/ALTERED TRP",
         714
        ],
        [
         "TO VEHICLE",
         16178
        ],
        [
         "THEFT BY LESSEE,NON-VEH",
         12
        ],
        [
         "THEFT BY LESSEE,MOTOR VEH",
         315
        ],
        [
         "ATTEMPT AGG: OTHER DANG WEAPON",
         1
        ],
        [
         "PROBATION VIOLATION",
         34
        ],
        [
         "UNLAWFUL INTERFERE/VISITATION",
         68
        ],
        [
         "MANU/DELIVER: HALLUCINOGEN",
         34
        ],
        [
         "AGGRAVATED: OTHER FIREARM",
         119
        ],
        [
         "CRIMINAL DRUG CONSPIRACY",
         40
        ],
        [
         "SOLICIT ON PUBLIC WAY",
         729
        ],
        [
         "CHILD ABANDONMENT",
         33
        ],
        [
         "INVOLUNTARY SERVITUDE",
         7
        ],
        [
         "MANU/POSS. W/INTENT TO DELIVER: SYNTHETIC MARIJUANA",
         3
        ],
        [
         "AGGRAVATED: HANDGUN",
         5694
        ],
        [
         "SELL/ADVERTISE FIREWORKS",
         2
        ],
        [
         "ARMED: OTHER DANGEROUS WEAPON",
         483
        ],
        [
         "MANU/DELIVER:PCP",
         27
        ],
        [
         "PREDATORY",
         141
        ],
        [
         "FOUND SUSPECT NARCOTICS",
         841
        ],
        [
         "MANU/DELIVER: HEROIN(BRN/TAN)",
         25
        ],
        [
         "TO PROPERTY",
         14139
        ],
        [
         "VIOLENT OFFENDER: ANNUAL REGISTRATION",
         31
        ],
        [
         "PEEPING TOM",
         41
        ],
        [
         "AGG: HANDS/FIST/FEET NO/MINOR INJURY",
         138
        ],
        [
         "POSS: CANNABIS MORE THAN 30GMS",
         534
        ],
        [
         "GUN OFFENDER: DUTY TO REGISTER",
         104
        ],
        [
         "ANIMAL ABUSE/NEGLECT",
         156
        ],
        [
         "POCKET-PICKING",
         1979
        ],
        [
         "EAVESDROPPING",
         11
        ],
        [
         "ATTEMPT: ARMED-OTHER DANG WEAP",
         64
        ],
        [
         "AGG PRO.EMP: OTHER DANG WEAPON",
         100
        ],
        [
         "OBSTRUCTING JUSTICE",
         35
        ],
        [
         "BRIBERY",
         5
        ],
        [
         "OBSCENE TELEPHONE CALLS",
         29
        ],
        [
         "FINAN EXPLOIT-ELDERLY/DISABLED",
         64
        ],
        [
         "CANNABIS PLANT",
         6
        ],
        [
         "AGG PRO.EMP:KNIFE/CUTTING INST",
         47
        ],
        [
         "INDECENT SOLICITATION/CHILD",
         39
        ],
        [
         "ILLEGAL POSSESSION BY MINOR",
         46
        ],
        [
         "AGGRAVATED:KNIFE/CUTTING INSTR",
         2224
        ],
        [
         "AGGRAVATED DOMESTIC BATTERY: KNIFE/CUTTING INST",
         730
        ],
        [
         "BOMB THREAT",
         124
        ],
        [
         "ATTEMPT ARSON",
         75
        ],
        [
         "INTOXICATING COMPOUNDS",
         4
        ],
        [
         "UNLAWFUL USE OTHER FIREARM",
         46
        ],
        [
         "PURSE-SNATCHING",
         656
        ],
        [
         "ATTEMPT: STRONGARM-NO WEAPON",
         385
        ],
        [
         "$500 AND UNDER",
         24242
        ],
        [
         "ATT: AUTOMOBILE",
         519
        ],
        [
         "VIOLENT OFFENDER: FAIL TO REGISTER NEW ADDRESS",
         8
        ],
        [
         "AGGRAVATED: OTHER",
         211
        ],
        [
         "GAME/DICE",
         180
        ],
        [
         "COUNTERFEIT CHECK",
         509
        ],
        [
         "SOLICIT FOR PROSTITUTE",
         27
        ],
        [
         "UNLAWFUL USE/SALE AIR RIFLE",
         37
        ],
        [
         "POS: HYPODERMIC NEEDLE",
         15
        ],
        [
         "AUTOMOBILE",
         9506
        ],
        [
         "ATTEMPT AGG: OTHER",
         10
        ],
        [
         "ESCAPE",
         10
        ],
        [
         "AGGRAVATED VEHICULAR HIJACKING",
         396
        ],
        [
         "MANU/DELIVER: METHAMPHETAMINES",
         10
        ],
        [
         "TELEPHONE THREAT",
         4281
        ],
        [
         "FALSE POLICE REPORT",
         53
        ],
        [
         "SEXUAL EXPLOITATION OF A CHILD",
         38
        ],
        [
         "DOMESTIC BATTERY SIMPLE",
         24731
        ],
        [
         "CHILD PORNOGRAPHY",
         120
        ],
        [
         "KEEP PLACE OF PROSTITUTION",
         1
        ],
        [
         "OBSTRUCTING IDENTIFICATION",
         545
        ],
        [
         "TRUCK, BUS, MOTOR HOME",
         249
        ],
        [
         "POSS: AMPHETAMINES",
         23
        ],
        [
         "ARMED: HANDGUN",
         4758
        ],
        [
         "SOLICIT NARCOTICS ON PUBLICWAY",
         212
        ],
        [
         "LIBRARY VANDALISM",
         2
        ],
        [
         "FALSE FIRE ALARM",
         20
        ],
        [
         "SEX OFFENDER: PROHIBITED ZONE",
         14
        ],
        [
         "HARASSMENT BY ELECTRONIC MEANS",
         2720
        ],
        [
         "UNLAWFUL USE OF RECORDED SOUND",
         11
        ],
        [
         "MANU/DELIVER:SYNTHETIC DRUGS",
         48
        ],
        [
         "CONCEALING/AIDING A FUGITIVE",
         3
        ],
        [
         "HARASSMENT BY TELEPHONE",
         2869
        ],
        [
         "TAMPER WITH MOTOR VEHICLE",
         17
        ],
        [
         "UNLAWFUL POSS AMMUNITION",
         70
        ],
        [
         "EXTORTION",
         35
        ],
        [
         "UNLAWFUL USE HANDGUN",
         273
        ],
        [
         "FAIL REGISTER LIC:CONT SUBS",
         1
        ],
        [
         "AGG SEX ASSLT OF CHILD FAM MBR",
         67
        ],
        [
         "UNLAWFUL POSS OTHER FIREARM",
         74
        ],
        [
         "AGGRAVATED OF A CHILD",
         53
        ],
        [
         "OTHER WEAPONS VIOLATION",
         173
        ],
        [
         "FORGERY",
         485
        ],
        [
         "VEHICLE TITLE/REG OFFENSE",
         513
        ],
        [
         "OTHER ARSON/EXPLOSIVE INCIDENT",
         9
        ],
        [
         "INTERFERENCE JUDICIAL PROCESS",
         15
        ],
        [
         "NOTIFICATION OF STALKING - NO CONTACT ORDER",
         1
        ],
        [
         "PUBLIC DEMONSTRATION",
         22
        ],
        [
         "POSS: METHAMPHETAMINES",
         56
        ],
        [
         "UNLAWFUL RESTRAINT",
         38
        ],
        [
         "ILLEGAL USE CASH CARD",
         1368
        ],
        [
         "MANU/DELIVER:BARBITUATES",
         13
        ],
        [
         "LICENSE VIOLATION",
         545
        ],
        [
         "FOID - REVOCATION",
         19
        ],
        [
         "POSS: HALLUCINOGENS",
         86
        ],
        [
         "AGGRAVATED DOMESTIC BATTERY: HANDS/FIST/FEET SERIOUS INJURY",
         253
        ],
        [
         "POSSESSION OF DRUG EQUIPMENT",
         168
        ],
        [
         "VEHICULAR HIJACKING",
         266
        ],
        [
         "AGGRAVATED PO: KNIFE/CUT INSTR",
         7
        ],
        [
         "AGGRAVATED PO: HANDGUN",
         64
        ],
        [
         "AGG PRO EMP HANDS SERIOUS INJ",
         34
        ],
        [
         "RECKLESS FIREARM DISCHARGE",
         241
        ],
        [
         "FROM BUILDING",
         9993
        ],
        [
         "POSS: CRACK",
         985
        ],
        [
         "IMPERSONATION",
         15
        ],
        [
         "TO AIRPORT",
         7
        ],
        [
         "MANU/DELIVER:CRACK",
         513
        ],
        [
         "AGGRAVATED DOMESTIC BATTERY: OTHER DANG WEAPON",
         1085
        ],
        [
         "PUBLIC INDECENCY",
         182
        ],
        [
         "LICENSED PREMISE",
         10
        ],
        [
         "ALTER/FORGE PRESCRIPTION",
         80
        ],
        [
         "TO FIRE FIGHT.APP.EQUIP",
         4
        ],
        [
         "RETAIL THEFT",
         8978
        ],
        [
         "POSS: HEROIN(WHITE)",
         2154
        ],
        [
         "BY FIRE",
         363
        ],
        [
         "AGG CRIM SEX ABUSE FAM MEMBER",
         160
        ],
        [
         "MANU/DEL:CANNABIS 10GM OR LESS",
         481
        ],
        [
         "OTHER VIOLATION",
         93
        ],
        [
         "DECEPTIVE COLLECTION PRACTICES",
         34
        ],
        [
         "LOST PASSPORT",
         31
        ],
        [
         "SOLICIT FOR BUSINESS",
         14
        ],
        [
         "THEFT OF LABOR/SERVICES",
         843
        ],
        [
         "ATTEMPT: ARMED-HANDGUN",
         442
        ],
        [
         "MANU/DELIVER:COCAINE",
         45
        ],
        [
         "OTHER",
         58
        ],
        [
         "ENDANGERING LIFE/HEALTH CHILD",
         286
        ],
        [
         "AGGRAVATED: KNIFE/CUT INSTR",
         24
        ],
        [
         "TO CITY OF CHICAGO PROPERTY",
         542
        ],
        [
         "CRIMINAL DEFACEMENT",
         893
        ],
        [
         "INTIMIDATION",
         98
        ],
        [
         "INDECENT SOLICITATION/ADULT",
         5
        ],
        [
         "OBSCENE MATTER",
         27
        ],
        [
         "CREDIT CARD FRAUD",
         3438
        ],
        [
         "FROM COIN-OP MACHINE/DEVICE",
         24
        ],
        [
         "GUN OFFENDER: ANNUAL REGISTRATION",
         139
        ],
        [
         "TO STATE SUP PROP",
         126
        ],
        [
         "VIOLATION OF CIVIL NO CONTACT ORDER",
         69
        ],
        [
         "ATTEMPT: ARMED-OTHER FIREARM",
         15
        ],
        [
         "ATTEMPT: CYCLE, SCOOTER, BIKE W-VIN",
         6
        ],
        [
         "SELL/GIVE/DEL LIQUOR TO MINOR",
         15
        ],
        [
         "UNLAWFUL USE OTHER DANG WEAPON",
         148
        ],
        [
         "RECKLESS HOMICIDE",
         3
        ],
        [
         "EMBEZZLEMENT",
         49
        ],
        [
         "ATT AGG CRIMINAL SEXUAL ABUSE",
         4
        ],
        [
         "BOARD PLANE WITH WEAPON",
         8
        ],
        [
         "VIOLATION OF STALKING NO CONTACT ORDER",
         14
        ],
        [
         "AGGRAVATED DOMESTIC BATTERY: HANDGUN",
         12
        ],
        [
         "AGGRAVATED",
         773
        ],
        [
         "LIQUOR LICENSE VIOLATION",
         144
        ],
        [
         "SALE/DEL DRUG PARAPHERNALIA",
         1
        ],
        [
         "VIOLENT OFFENDER: DUTY TO REGISTER",
         13
        ],
        [
         "COUNTERFEITING DOCUMENT",
         863
        ],
        [
         "CHILD ABDUCTION/STRANGER",
         60
        ],
        [
         "OTHER VEHICLE OFFENSE",
         1297
        ],
        [
         "SEX ASSLT OF CHILD BY FAM MBR",
         53
        ],
        [
         "VIO BAIL BOND: DOM VIOLENCE",
         19
        ],
        [
         "POSSESSION OF BURGLARY TOOLS",
         10
        ],
        [
         "STRONGARM - NO WEAPON",
         3731
        ],
        [
         "PRO EMP HANDS NO/MIN INJURY",
         1267
        ],
        [
         "ARMED: OTHER FIREARM",
         61
        ],
        [
         "AGG PO HANDS ETC SERIOUS INJ",
         19
        ],
        [
         "AGGRAVATED OF A SENIOR CITIZEN",
         160
        ],
        [
         "THEFT/RECOVERY: AUTOMOBILE",
         735
        ],
        [
         "ILLEGAL CONSUMPTION BY MINOR",
         20
        ],
        [
         "MOB ACTION",
         24
        ],
        [
         "FIRST DEGREE MURDER",
         776
        ],
        [
         "MONEY LAUNDERING",
         4
        ],
        [
         "ARSONIST: ANNUAL REGISTRATION",
         4
        ],
        [
         "UNLAWFUL ENTRY",
         4672
        ],
        [
         "POSS FIREARM/AMMO:NO FOID CARD",
         55
        ],
        [
         "NON-AGGRAVATED",
         947
        ],
        [
         "ARSON THREAT",
         87
        ],
        [
         "ARMED:KNIFE/CUTTING INSTRUMENT",
         488
        ],
        [
         "CHILD ABUSE",
         704
        ],
        [
         "CYBERSTALKING",
         17
        ],
        [
         "POSS. KEYS OR DEV.TO COIN MACH",
         1
        ],
        [
         "AGG PRO.EMP: HANDGUN",
         30
        ],
        [
         "CRIMINAL SEXUAL ABUSE",
         413
        ],
        [
         "ARMED WHILE UNDER THE INFLUENCE",
         8
        ],
        [
         "AGG PRO.EMP: OTHER FIREARM",
         3
        ],
        [
         "MINOR MISREPRESENT AGE",
         1
        ],
        [
         "ATTEMPT: ARMED-KNIFE/CUT INSTR",
         98
        ],
        [
         "COMMERCIAL SEX ACTS",
         4
        ],
        [
         "STOLEN PROP: BUY/RECEIVE/POS.",
         51
        ],
        [
         "THEFT/RECOVERY: TRUCK,BUS,MHOME",
         34
        ],
        [
         "ATTEMPT POSSESSION NARCOTICS",
         97
        ],
        [
         "OTHER OFFENSE",
         573
        ],
        [
         "POSS: HEROIN(BRN/TAN)",
         93
        ],
        [
         "ATT CRIM SEXUAL ABUSE",
         29
        ],
        [
         "TO STATE SUP LAND",
         579
        ],
        [
         "ATTEMPT THEFT",
         414
        ],
        [
         "CYCLE, SCOOTER, BIKE W-VIN",
         225
        ],
        [
         "PANDERING",
         2
        ],
        [
         "POSS: PCP",
         161
        ],
        [
         "KIDNAPPING",
         24
        ],
        [
         "RESIST/OBSTRUCT/DISARM OFFICER",
         285
        ],
        [
         "ATTEMPT NON-AGGRAVATED",
         62
        ],
        [
         "CONTRIBUTE DELINQUENCY OF A CHILD",
         14
        ],
        [
         "ATTEMPT AGG: KNIFE/CUT INSTR",
         6
        ],
        [
         "OTHER PROSTITUTION OFFENSE",
         3
        ],
        [
         "AGGRAVATED PO: OTHER DANG WEAP",
         105
        ],
        [
         "TO RESIDENCE",
         1310
        ],
        [
         "PAROLE VIOLATION",
         855
        ],
        [
         "SEX OFFENDER: FAIL TO REGISTER",
         183
        ],
        [
         "THEFT OF LOST/MISLAID PROP",
         179
        ],
        [
         "FORCIBLE DETENTION",
         3
        ],
        [
         "SIMPLE",
         28352
        ],
        [
         "HARBOR RUNAWAY",
         3
        ],
        [
         "CYCLE, SCOOTER, BIKE NO VIN",
         8
        ],
        [
         "POSS: CANNABIS 30GMS OR LESS",
         4061
        ],
        [
         "POSS: BARBITUATES",
         112
        ],
        [
         "HOME INVASION",
         262
        ],
        [
         "CRIMINAL TRANSMISSION OF HIV",
         4
        ],
        [
         "BY EXPLOSIVE",
         3
        ],
        [
         "UNLAWFUL SALE HANDGUN",
         2
        ],
        [
         "DELIVER CANNABIS TO PERSON <18",
         4
        ],
        [
         "CONT SUBS:FAIL TO MAINT RECORD",
         3
        ],
        [
         "ATT: TRUCK, BUS, MOTOR HOME",
         4
        ],
        [
         "CONCEALED CARRY LICENSE REVOCATION",
         1
        ],
        [
         "INTERFERE W/ HIGHER EDUCATION",
         1
        ],
        [
         "AGGRAVATED PO: OTHER FIREARM",
         2
        ],
        [
         "ATTEMPT AGG: OTHER FIREARM",
         1
        ],
        [
         "POSS: HEROIN(BLACK TAR)",
         7
        ],
        [
         "POS: PORNOGRAPHIC PRINT",
         6
        ],
        [
         "SEX RELATION IN FAMILY",
         3
        ],
        [
         "GUN OFFENDER: DUTY TO REPORT CHANGE OF INFORMATION",
         9
        ],
        [
         "SALE TOBACCO PRODUCTS TO MINOR",
         1
        ],
        [
         "OFFICIAL MISCONDUCT",
         2
        ],
        [
         "DEFACE IDENT MARKS OF FIREARM",
         1
        ],
        [
         "OF UNBORN CHILD",
         2
        ],
        [
         "ABUSE/NEGLECT: CARE FACILITY",
         4
        ],
        [
         "LIBRARY THEFT",
         2
        ],
        [
         "ATTEMPT AGG: HANDGUN",
         1
        ],
        [
         "DEL CONT SUBS TO PERSON <18",
         4
        ],
        [
         "INSURANCE FRAUD",
         4
        ],
        [
         "FOUND PASSPORT",
         1
        ],
        [
         "UNLAWFUL SALE/DELIVERY OF FIREARM AT SCHOOL",
         1
        ],
        [
         "INTERFERE W/ EMERGENCY EQUIP",
         2
        ],
        [
         "HAZARDOUS MATERIALS VIOLATION",
         1
        ],
        [
         "VIOLATION GPS MONITORING DEVICE",
         6
        ],
        [
         "AGGRAVATED COMPUTER TAMPERING",
         1
        ],
        [
         "GAME/AMUSEMENT DEVICE",
         5
        ],
        [
         "THEFT RETAIL",
         1
        ],
        [
         "VIOLATION OF SMOKING BAN",
         1
        ],
        [
         "POS: CHEMICAL/DRY-ICE DEVICE",
         1
        ],
        [
         "CONTRABAND IN PRISON",
         1
        ],
        [
         "GAME/CARDS",
         1
        ],
        [
         "NOTIFICATION OF CIVIL NO CONTACT ORDER",
         1
        ],
        [
         "SOLICIT OFF PUBLIC WAY",
         4
        ],
        [
         "COMPELLING ORG MEMBERSHIP",
         1
        ]
       ],
       "datasetInfos": [],
       "dbfsResultPath": null,
       "isJsonSchema": true,
       "metadata": {},
       "overflow": false,
       "plotOptions": {
        "customPlotOptions": {},
        "displayType": "table",
        "pivotAggregation": null,
        "pivotColumns": null,
        "xColumns": null,
        "yColumns": null
       },
       "removedWidgets": [],
       "schema": [
        {
         "metadata": "{}",
         "name": "description",
         "type": "\"string\""
        },
        {
         "metadata": "{}",
         "name": "count",
         "type": "\"long\""
        }
       ],
       "type": "table"
      }
     },
     "output_type": "display_data"
    },
    {
     "name": "stdout",
     "output_type": "stream",
     "text": [
      "Philadelphia\n"
     ]
    },
    {
     "data": {
      "text/html": [
       "<style scoped>\n",
       "  .table-result-container {\n",
       "    max-height: 300px;\n",
       "    overflow: auto;\n",
       "  }\n",
       "  table, th, td {\n",
       "    border: 1px solid black;\n",
       "    border-collapse: collapse;\n",
       "  }\n",
       "  th, td {\n",
       "    padding: 5px;\n",
       "  }\n",
       "  th {\n",
       "    text-align: left;\n",
       "  }\n",
       "</style><div class='table-result-container'><table class='table-result'><thead style='background-color: white'><tr><th>text_general_code</th><th>count</th></tr></thead><tbody><tr><td>Thefts</td><td>22857</td></tr><tr><td>Recovered Stolen Motor Vehicle</td><td>7728</td></tr><tr><td>Homicide - Criminal</td><td>270</td></tr><tr><td>Weapon Violations</td><td>1904</td></tr><tr><td>Liquor Law Violations</td><td>125</td></tr><tr><td>All Other Offenses</td><td>29592</td></tr><tr><td>DRIVING UNDER THE INFLUENCE</td><td>3770</td></tr><tr><td>Embezzlement</td><td>380</td></tr><tr><td>Receiving Stolen Property</td><td>46</td></tr><tr><td>Rape</td><td>1173</td></tr><tr><td>Other Assaults</td><td>23929</td></tr><tr><td>Vandalism/Criminal Mischief</td><td>15725</td></tr><tr><td>Arson</td><td>406</td></tr><tr><td>Fraud</td><td>11859</td></tr><tr><td>Offenses Against Family and Children</td><td>112</td></tr><tr><td>Gambling Violations</td><td>43</td></tr><tr><td>Prostitution and Commercialized Vice</td><td>928</td></tr><tr><td>Other Sex Offenses (Not Commercialized)</td><td>892</td></tr><tr><td>Vagrancy/Loitering</td><td>17</td></tr><tr><td>Public Drunkenness</td><td>385</td></tr><tr><td>Burglary Residential</td><td>5556</td></tr><tr><td>Robbery Firearm</td><td>2677</td></tr><tr><td>Aggravated Assault Firearm</td><td>2251</td></tr><tr><td>Aggravated Assault No Firearm</td><td>5341</td></tr><tr><td>Theft from Vehicle</td><td>13861</td></tr><tr><td>Burglary Non-Residential</td><td>1383</td></tr><tr><td>Disorderly Conduct</td><td>1628</td></tr><tr><td>Robbery No Firearm</td><td>3472</td></tr><tr><td>Motor Vehicle Theft</td><td>2159</td></tr><tr><td>Narcotic / Drug Law Violations</td><td>7986</td></tr><tr><td>Forgery and Counterfeiting</td><td>208</td></tr><tr><td>Homicide - Gross Negligence</td><td>1</td></tr></tbody></table></div>"
      ]
     },
     "metadata": {
      "application/vnd.databricks.v1+output": {
       "addedWidgets": {},
       "aggData": [],
       "aggError": "",
       "aggOverflow": false,
       "aggSchema": [],
       "aggSeriesLimitReached": false,
       "aggType": "",
       "arguments": {},
       "columnCustomDisplayInfos": {},
       "data": [
        [
         "Thefts",
         22857
        ],
        [
         "Recovered Stolen Motor Vehicle",
         7728
        ],
        [
         "Homicide - Criminal",
         270
        ],
        [
         "Weapon Violations",
         1904
        ],
        [
         "Liquor Law Violations",
         125
        ],
        [
         "All Other Offenses",
         29592
        ],
        [
         "DRIVING UNDER THE INFLUENCE",
         3770
        ],
        [
         "Embezzlement",
         380
        ],
        [
         "Receiving Stolen Property",
         46
        ],
        [
         "Rape",
         1173
        ],
        [
         "Other Assaults",
         23929
        ],
        [
         "Vandalism/Criminal Mischief",
         15725
        ],
        [
         "Arson",
         406
        ],
        [
         "Fraud",
         11859
        ],
        [
         "Offenses Against Family and Children",
         112
        ],
        [
         "Gambling Violations",
         43
        ],
        [
         "Prostitution and Commercialized Vice",
         928
        ],
        [
         "Other Sex Offenses (Not Commercialized)",
         892
        ],
        [
         "Vagrancy/Loitering",
         17
        ],
        [
         "Public Drunkenness",
         385
        ],
        [
         "Burglary Residential",
         5556
        ],
        [
         "Robbery Firearm",
         2677
        ],
        [
         "Aggravated Assault Firearm",
         2251
        ],
        [
         "Aggravated Assault No Firearm",
         5341
        ],
        [
         "Theft from Vehicle",
         13861
        ],
        [
         "Burglary Non-Residential",
         1383
        ],
        [
         "Disorderly Conduct",
         1628
        ],
        [
         "Robbery No Firearm",
         3472
        ],
        [
         "Motor Vehicle Theft",
         2159
        ],
        [
         "Narcotic / Drug Law Violations",
         7986
        ],
        [
         "Forgery and Counterfeiting",
         208
        ],
        [
         "Homicide - Gross Negligence",
         1
        ]
       ],
       "datasetInfos": [],
       "dbfsResultPath": null,
       "isJsonSchema": true,
       "metadata": {},
       "overflow": false,
       "plotOptions": {
        "customPlotOptions": {},
        "displayType": "table",
        "pivotAggregation": null,
        "pivotColumns": null,
        "xColumns": null,
        "yColumns": null
       },
       "removedWidgets": [],
       "schema": [
        {
         "metadata": "{}",
         "name": "text_general_code",
         "type": "\"string\""
        },
        {
         "metadata": "{}",
         "name": "count",
         "type": "\"long\""
        }
       ],
       "type": "table"
      }
     },
     "output_type": "display_data"
    },
    {
     "name": "stdout",
     "output_type": "stream",
     "text": [
      "Dallas\n"
     ]
    },
    {
     "data": {
      "text/html": [
       "<style scoped>\n",
       "  .table-result-container {\n",
       "    max-height: 300px;\n",
       "    overflow: auto;\n",
       "  }\n",
       "  table, th, td {\n",
       "    border: 1px solid black;\n",
       "    border-collapse: collapse;\n",
       "  }\n",
       "  th, td {\n",
       "    padding: 5px;\n",
       "  }\n",
       "  th {\n",
       "    text-align: left;\n",
       "  }\n",
       "</style><div class='table-result-container'><table class='table-result'><thead style='background-color: white'><tr><th>typeOfIncident</th><th>count</th></tr></thead><tbody><tr><td>FLEEING POLICE OFFICER</td><td>7</td></tr><tr><td>VIO BOND/PROTECTIVE ORDER</td><td>66</td></tr><tr><td>THEFT OF PROP > OR EQUAL $2,500 BUT <$30K -SHOPLIFT(NOT EMP</td><td>74</td></tr><tr><td>CAPITAL MURDER OF MULTIPLE PERSONS</td><td>8</td></tr><tr><td>THEFT OF PROP > OR EQUAL $2500 BUT <$30K ENH -SHOPLIFT-(NOT EMP</td><td>1</td></tr><tr><td>THEFT OF PROP <$100-OTH THAN SHOPLIFT W/PREV CONVIC ENH</td><td>1</td></tr><tr><td>BURGLARY OF A COIN OPERATED MACHINE</td><td>65</td></tr><tr><td>THEFT OF PROP > OR EQUAL $30K<$150K SHOPLIFT (NOT BY EMP)</td><td>2</td></tr><tr><td>UNAUTHORIZED REPRODUCTION OF TEXAS TEMP TAG</td><td>1</td></tr><tr><td>THEFT OF PROP > OR EQUAL $100 BUT <$750- NOT SHOPLIFT</td><td>2392</td></tr><tr><td>DEADLY CONDUCT</td><td>429</td></tr><tr><td>THEFT OF PROP (ATT) <$100 (NOT  EMPLOYEE)</td><td>12</td></tr><tr><td>UNLAWFUL CARRYING WEAPON</td><td>49</td></tr><tr><td>TAMPER W/GOVT RECORD LIC/SEAL DEFRAUD/HARM</td><td>10</td></tr><tr><td>ASSAULT -GOVT CONTR OR EMP VIC - BODILY INJURY ONLY</td><td>1</td></tr><tr><td>OBSCENE PROMOTE/PRODUCE/DIRECT</td><td>1</td></tr><tr><td>ASSAULT -PUB SERV (LAW ENF) - BODILY INJURY ONLY</td><td>11</td></tr><tr><td>UCR- THEFT FROM BUILDING</td><td>14</td></tr><tr><td>THEFT OF PROP <$2500 2+ PREV CONVIC -SHOPLFT-(NOT EMP)</td><td>64</td></tr><tr><td>CRIM MISCHIEF DAMAGE/DESTR WORSHIP/SCHOOL</td><td>11</td></tr><tr><td>THEFT OF PROP <$100 - OTHER THAN SHOPLIFT</td><td>935</td></tr><tr><td>UNAUTHORIZED USE OF MOTOR VEH - AUTOMOBILE</td><td>4067</td></tr><tr><td>UNAUTHORIZED USE OF MOTOR VEH - OTHER VEH</td><td>222</td></tr><tr><td>TAMPER W/GOVT REC-INS DOC (A)(1,3,4,6)</td><td>2</td></tr><tr><td>COMPUTER SECURITY BREACH >OR EQUAL TO $100 BUT <$750</td><td>1</td></tr><tr><td>LOST PROPERTY (NO OFFENSE)</td><td>1028</td></tr><tr><td>POSS CONT SUB PEN GRP 2-A  2 OZ OR LESS</td><td>7</td></tr><tr><td>MAN DEL CONT SUB PEN GRP 2 > OR EQUAL 4G<400G</td><td>1</td></tr><tr><td>ARSON -ALL OTHER STRUCTURES - INHABITED</td><td>16</td></tr><tr><td>ARSON -OTHER COMMERCIAL - INHABITED</td><td>2</td></tr><tr><td>THEFT OF PROP <$100 -SHOPLIFTING - (NOT BY EMPLOYEE)</td><td>245</td></tr><tr><td>MAN DEL CONT SUB PEN GRP 1 > OR EQUAL 1G *DRUG FREE ZONE*</td><td>5</td></tr><tr><td>INSURANCE FRAUD  RISKING BODILY INJ/DEATH</td><td>1</td></tr><tr><td>VIO BOND/PROTECTIVE ORDER ASSAULT/STALKING</td><td>4</td></tr><tr><td>CRUELTY TO LIVESTK ANIM-TORTURE</td><td>6</td></tr><tr><td>ARSON -MOTOR VEH</td><td>105</td></tr><tr><td>BIGAMY</td><td>1</td></tr><tr><td>THEFT OF PROP <$2500 2/MORE PREV CONV - NOT SHOPLIFT</td><td>6</td></tr><tr><td>STALKING</td><td>32</td></tr><tr><td>INSURANCE FRAUD > OR EQUAL $2500<$30K</td><td>1</td></tr><tr><td>THEFT OF FIREARM</td><td>115</td></tr><tr><td>FORGERY GOVT/NATIONAL INST/MONEY/SECURITY</td><td>141</td></tr><tr><td>THEFT OF PROP (AUTO ACC) > OR EQUAL $100 BUT <$750-(BY EMP</td><td>15</td></tr><tr><td>ASSAULT -OFFENSIVE CONTACT</td><td>1666</td></tr><tr><td>ARSON -COMMUNITY/PUBLIC - INHABITED</td><td>3</td></tr><tr><td>ENGAGING IN ORGANIZED CRIMINAL ACTIVITY F3</td><td>1</td></tr><tr><td>THEFT OF PROP (AUTO ACC) $100 BUT <$750 ENH - (NOT EMP</td><td>18</td></tr><tr><td>TAMPER W/CONSUMER PRODUCT  NO INJUR</td><td>1</td></tr><tr><td>DEADLY CONDUCT DISCHARGE FIREARM</td><td>71</td></tr><tr><td>THEFT OF PROP $750 BUT <$2500 ENH  -NOT SHOPLIFT</td><td>24</td></tr><tr><td>POSS CONT SUB PEN GRP 2 < 1G</td><td>1</td></tr><tr><td>THEFT OF DL/COMM DL/ID CERTIFICATE</td><td>11</td></tr><tr><td>ROBBERY OF BUSINESS</td><td>432</td></tr><tr><td>POSS CONT SUB PEN GRP 1 > OR EQUAL 4G<200G</td><td>8</td></tr><tr><td>BMV</td><td>11303</td></tr><tr><td>THEFT OF PROP > OR EQUAL $2500 BUT <$30K ENH (BY EMPLOYEE)</td><td>2</td></tr><tr><td>ONLINE IMPERSONATION-NAME/PERSONA TO CREATE PAGE</td><td>3</td></tr><tr><td>PROHIBITED WEAPON PC</td><td>1</td></tr><tr><td>DRIVING UNDER INFLUENCE MINOR 3RD-ENH</td><td>1</td></tr><tr><td>POSS CONT SUB PEN GRP 1 >1G *DRUG FREE ZONE*</td><td>1</td></tr><tr><td>ONLINE IMPERSONATION-EMAIL/MESSAGE W/IDENT INFOR</td><td>2</td></tr><tr><td>THEFT OF PROP > OR EQUAL $150K<$300K (BY EMPLOYEE)</td><td>7</td></tr><tr><td>UNAUTHORIZED USE OF MOTOR VEH - (ATT) AUTOMOBILE</td><td>347</td></tr><tr><td>ARSON -(W BODILY INJURY OR DEATH)-SINGLE RES-INHABITED</td><td>5</td></tr><tr><td>THEFT ORG RETAIL - (NOT EMP) EQUAL $100<$750</td><td>3</td></tr><tr><td>THEFT OF PROP > OR EQUAL $750 BUT <$2,500 (NOT SHOPLIFT)</td><td>1042</td></tr><tr><td>THEFT OF PROP (ATT) <$2500 2+ CONV ENH (NOT BY EMP)</td><td>1</td></tr><tr><td>UNLAWFUL POSS FIREARM BY FELON</td><td>39</td></tr><tr><td>THEFT OF PROP <$2500 2+ CONV ENH-SHOPLIFT - (NOT EMP)</td><td>36</td></tr><tr><td>THEFT OF ANIMAL CATTLE/HORSE/EXOTIC LIVESTOCK <$150K</td><td>4</td></tr><tr><td>TRAF VIO - RACING ON HIGHWAY CAUSING BODILY INJURY</td><td>2</td></tr><tr><td>CAPITAL MURDER BY TERROR THREAT/OTHER FELONY</td><td>24</td></tr><tr><td>HOAX BOMB WEAPONS FREE ZONE</td><td>3</td></tr><tr><td>THEFT OF PROP <$2500 2+ CONV ENH  - NOT SHOPLIFT</td><td>4</td></tr><tr><td>POSS CONT SUB PEN GRP 1 <1G</td><td>69</td></tr><tr><td>ESCAPE WHILE ARRESTED/CONFINED FELONY</td><td>1</td></tr><tr><td>MANSLAUGHTER</td><td>3</td></tr><tr><td>CRIM MISCHIEF >OR EQUAL $300K</td><td>2</td></tr><tr><td>BURGLARY OF BUILDING - FORCED ENTRY</td><td>4902</td></tr><tr><td>POSS CONT SUB PEN GRP 1 > OR EQUAL 200G<400G</td><td>1</td></tr><tr><td>THEFT OF PROP (ATT) > OR EQUAL $100 BUT <$750 (BY EMP)</td><td>2</td></tr><tr><td>THEFT OF PROP (AUTO ACC) > OR EQUAL $750 BUT <$2,500 (NOT EMP</td><td>724</td></tr><tr><td>COMPUTER SECURITY BREACH >OR EQUAL TO $150K BUT <$300K</td><td>1</td></tr><tr><td>THEFT OF PROP (AUTO ACC) > OR EQUAL $750 BUT <$2,500-(BY EMP</td><td>2</td></tr><tr><td>THEFT OF PROP > OR EQUAL $150K<$300K-OTHER THAN SHOPLIFT</td><td>12</td></tr><tr><td>GRAFFITI PECUNIARY LOSS <$100</td><td>6</td></tr><tr><td>THEFT OF PROP (AUTO ACC) > OR EQUAL $150K<$300K -(BY EMP)</td><td>1</td></tr><tr><td>THEFT OF PROP $750 BUT <$2500 ENH (BY EMPLOYEE)</td><td>3</td></tr><tr><td>POSS W/INT TO PROMOTE CHILD PORNOGRAPHY</td><td>1</td></tr><tr><td>THEFT ORG RETAIL -(BY EMP) >$2500<$30,000</td><td>2</td></tr><tr><td>RECOVERED OUT OF TOWN STOLEN PROPERTY (NO OFFENSE)</td><td>443</td></tr><tr><td>NATURAL DEATH (NO OFFENSE)</td><td>604</td></tr><tr><td>BURGLARY OF BUILDING - NO FORCED ENTRY</td><td>942</td></tr><tr><td>TERRORISTIC THREAT - FEAR IMMINENT SBI</td><td>169</td></tr><tr><td>CREDIT CARD OR DEBIT CARD ABUSE</td><td>186</td></tr><tr><td>FRAUD USE/POSS IDENTIFYING INFO # ITEMS < 5</td><td>178</td></tr><tr><td>INJURED PERSON - AT HOME (OTHER THAN FIREARM) (NO OFFENSE)</td><td>618</td></tr><tr><td>BURGLARY OF HABITATION INTEND TO COMMIT AGG ASSAULT</td><td>22</td></tr><tr><td>ILLEGAL DUMPING > OR EQUAL 500LBS < 1000 LBS</td><td>20</td></tr><tr><td>THEFT OF PROP >$750 BUT <$2500 ENH -SHOPLIFT-NOT BY EMP</td><td>9</td></tr><tr><td>ABANDONED PROPERTY (NO OFFENSE)</td><td>3142</td></tr><tr><td>RECOVERED OUT OF TOWN STOLEN VEHICLE (NO OFFENSE)</td><td>1929</td></tr><tr><td>THEFT OF SERVICE > OR EQUAL $30K BUT <$150K</td><td>1</td></tr><tr><td>MAN DEL CONT SUB PEN GRP 1 > OR EQUAL 4G<200G</td><td>18</td></tr><tr><td>POSS MARIJUANA >2OZ< OR EQUAL 4OZ *DRUG FREE ZONE*</td><td>2</td></tr><tr><td>THEFT OF SERVICE > OR EQUAL $750 BUT <$2,500</td><td>42</td></tr><tr><td>BURGLARY OF HABITATION INTEND TO COMMIT SIMPLE ASSAULT</td><td>51</td></tr><tr><td>THEFT OF FIREARM (ATT</td><td>1</td></tr><tr><td>ASSAULT (AGG) -BY PUBLIC SERVANT (AGG)</td><td>3</td></tr><tr><td>THEFT OF PROP > OR EQUAL $100 BUT <$750 -SHOPLIFT (NOT EMP</td><td>938</td></tr><tr><td>KIDNAPPING (AGG) -</td><td>7</td></tr><tr><td>ACCIDENT INVOLVING SERIOUS BODILY INJURY</td><td>70</td></tr><tr><td>TERRORISTIC THREAT AGAINST PUBLIC SERVANT</td><td>4</td></tr><tr><td>FAIL TO LEAVE ID AT SCENE OF ACCIDENT DAMAGE < $200</td><td>105</td></tr><tr><td>UCR - MANSLAUGHTER (0120) (FOR UCR PURPOSES ONLY)</td><td>1</td></tr><tr><td>THEFT OF PROP (ATT) > OR EQUAL $30K<$150K (NOT EMP)</td><td>2</td></tr><tr><td>COMPUTER SECURITY BREACH < AGGREGATE $100</td><td>2</td></tr><tr><td>ASSAULT (AGG) -AGAINST SECURITY OFF (AGG)</td><td>12</td></tr><tr><td>ASSAULT -PUB SERV (NON LAW ENF) - BODILY INJURY ONLY</td><td>13</td></tr><tr><td>POSS CONT SUB PEN GRP 3 < 28G</td><td>19</td></tr><tr><td>BURGLARY OF HABITATION -NO FORCED ENTRY</td><td>2219</td></tr><tr><td>ARSON -SINGLE RESIDENCE INHABITED</td><td>23</td></tr><tr><td>THEFT OF SERVICE > OR EQUAL $2,500 BUT <$30K</td><td>45</td></tr><tr><td>DWI W/OPEN CONTAINER</td><td>24</td></tr><tr><td>THEFT OF PROP (AUTO ACC) > OR EQUAL $2500 BUT<$30K ENH(BY EMP)</td><td>1</td></tr><tr><td>BRIBERY</td><td>2</td></tr><tr><td>FORGING OR ALTERING PRESCRIPTION</td><td>11</td></tr><tr><td>CRIM MISCHIEF IMPAIR/INTERRUPT PUB SERVICE</td><td>13</td></tr><tr><td>FRAUD USE/POSS IDENTIFYING INFO # ITEMS 50 OR MORE</td><td>4</td></tr><tr><td>FALSE STATEMENT FOR PROPERTY/CREDIT $100 < $750</td><td>1</td></tr><tr><td>CRUELTY TO NON-LIVESTOCK ANIMALS: FAILURE TO PROVIDE FOR</td><td>7</td></tr><tr><td>ASSAULT (AGG) -RETALIATION (AGG)</td><td>3</td></tr><tr><td>THEFT OF PROP (AUTO ACC) > OR EQUAL $2,500 BUT<$30K (NOT EMP</td><td>390</td></tr><tr><td>POSS MARIJUANA <2OZ</td><td>202</td></tr><tr><td>THEFT OF MATERIAL 50% ALUM/BRNZE/COPPER  (ATT) <$20K</td><td>4</td></tr><tr><td>CRIMINAL TRESPASS</td><td>959</td></tr><tr><td>THEFT OF PROP (ATT) $100 BUT <$750 ENH (NOT EMPLOYEE)</td><td>1</td></tr><tr><td>FRAUD DELIVERS PRESCRIPTION FORMS SCHEDULE LLL,LV,V</td><td>1</td></tr><tr><td>TERRORISTIC THREAT - REACTION EMERGENCY AGENCY</td><td>3</td></tr><tr><td>THEFT OF MATERIAL (ATT) 50% ALUM/BRNZE/COPPER <20K ENH</td><td>1</td></tr><tr><td>CRIM MISCHIEF <$100</td><td>1552</td></tr><tr><td>FALSE REPORT TO POLICE OFFICER/LAW ENFORCE EMPL</td><td>18</td></tr><tr><td>CREDIT CARD OR DEBIT CARD ABUSE ELDERLY</td><td>18</td></tr><tr><td>FALSE ALARM OR REPORT EMERGENCY</td><td>5</td></tr><tr><td>THEFT OF PROP <$100 W/PREV CONV ENH -SHOPLIFT -  (NOT BY EMP</td><td>4</td></tr><tr><td>BMV (ATT)</td><td>94</td></tr><tr><td>GAMBLING PROMOTION</td><td>4</td></tr><tr><td>KEEPING A GAMBLING PLACE</td><td>1</td></tr><tr><td>LABELING UNAUTHORIZED RECORDING > 7 BUT <65 W/I 180D</td><td>1</td></tr><tr><td>TAMPER W/GOVT RECORD</td><td>6</td></tr><tr><td>ASSAULT -ELD OR DISABLED VIC -BODILY INJURY ONLY</td><td>23</td></tr><tr><td>THEFT OF MATERIAL 50% ALUM/BRNZE/COPPER <$20K</td><td>113</td></tr><tr><td>FRAUDULENT FILING OF FINANCING STATEMENT</td><td>2</td></tr><tr><td>UNLAWFUL CARRYING WEAPON ON ALCOHOL PREMISES</td><td>2</td></tr><tr><td>DWI 1 PREV CONV</td><td>69</td></tr><tr><td>HARASSMENT</td><td>966</td></tr><tr><td>ARSON -ALL OTHER STRUCTURES - UNINHABITED</td><td>16</td></tr><tr><td>INJURED PERSON - FIREARM INJURY (NO OFFENSE)</td><td>106</td></tr><tr><td>THEFT OF PROP $100 BUT <$750 ENH-NOT SHOPLIF</td><td>23</td></tr><tr><td>THEFT OF SERVICE < $100</td><td>265</td></tr><tr><td>RESIST ARREST SEARCH OR TRANSPORT</td><td>24</td></tr><tr><td>ROBBERY OF BUSINESS (AGG)</td><td>1880</td></tr><tr><td>HARASSMENT OF PUBLIC SERVANT</td><td>9</td></tr><tr><td>THEFT OF PROP (AUTO ACC) <$100 - (NOT EMP)</td><td>871</td></tr><tr><td>OBSTRUCT HIGHWAY PASSAGEWAY</td><td>4</td></tr><tr><td>DECEPTIVE BUSINESS PRACTICE-CRIM NEG</td><td>1</td></tr><tr><td>ACCIDENT INVOLVING DEATH</td><td>17</td></tr><tr><td>UCR - DEADLY CONDUCT</td><td>192</td></tr><tr><td>THEFT FROM PERSON-PICKPOCKE</td><td>111</td></tr><tr><td>MURDER</td><td>67</td></tr><tr><td>ILLEGAL DUMPING 1000 LBS OR MORE</td><td>31</td></tr><tr><td>BMV (OF AUTO ACCESSORY) (P.C. 30.04(A))</td><td>1408</td></tr><tr><td>MISAPP FIDUC/FINAN PROP > OR EQUAL $100<$750</td><td>1</td></tr><tr><td>UCR -THEFT OF PROPERTY</td><td>1</td></tr><tr><td>ASSAULT -BODILY INJURY ONLY</td><td>1203</td></tr><tr><td>THEFT OF PROP (ATT) <$100 ENH (NOT EMPLOYEE)</td><td>1</td></tr><tr><td>FORGERY FINANCIAL INSTRUMENT ELDERLY</td><td>7</td></tr><tr><td>FRAUD DELIVERS PRESCRIPTION FORMS SCHEDULE II CONT SUBS</td><td>1</td></tr><tr><td>THEFT FROM PERSON-PURSE SNATC</td><td>103</td></tr><tr><td>UNLAWFUL CARRY WEAPON/WEAPONS FREE ZONE</td><td>1</td></tr><tr><td>ABUSIVE/SILENT CALLS TO 911 SERVICE</td><td>10</td></tr><tr><td>POSS CONT SUB PEN GRP 4 <28G</td><td>3</td></tr><tr><td>ASSAULT -OF SECURITY OFFICER - BODILY INJURY ONLY</td><td>23</td></tr><tr><td>VIO PROTECT ORDER BIAS/PREJUDICE</td><td>2</td></tr><tr><td>MANUFACTURE OF DANGEROUS DRUG</td><td>1</td></tr><tr><td>ENGAGING IN ORGANIZED CRIMINAL ACTIVITY FS</td><td>1</td></tr><tr><td>THEFT OF PROP (ATT) > OR EQUAL $2,500 BUT <$30K (NOT EMP</td><td>14</td></tr><tr><td>THEFT OF PROP (ATT) > OR EQUAL $100 BUT <$750 (NOT EMP</td><td>14</td></tr><tr><td>FALSE STATEMENT FOR PROPERTY/CREDIT $750 < $2500</td><td>2</td></tr><tr><td>ACCIDENTAL DEATH (NO OFFENSE)</td><td>67</td></tr><tr><td>THEFT OF PROP > OR EQUAL $2500 BUT <$30K ENH -NOT SHOPLIFT</td><td>11</td></tr><tr><td>DWI W/CHILD UNDER 15 YOA</td><td>8</td></tr><tr><td>FAILURE TO REPORT FELONY</td><td>1</td></tr><tr><td>EVADING ARREST DET W/VEH W/ PREV CONV OR S.B.I.</td><td>3</td></tr><tr><td>RECKLESS DAMAGE</td><td>2008</td></tr><tr><td>ARSON -OTHER RESIDENCE INHABITED</td><td>8</td></tr><tr><td>TERRORISTIC THREAT CAUSES PECUNIARY LOSS OF >$1500</td><td>1</td></tr><tr><td>TRAFFIC FATALITY- NOT DWI- UNINTENTIONAL (NO OFFENSE)</td><td>76</td></tr><tr><td>FRAUD USE/POSS IDENT INFO # ITEMS <5 ELDERLY</td><td>19</td></tr><tr><td>MAN DEL CONT SUB PEN GRP 2 < 1G</td><td>2</td></tr><tr><td>BURGLARY OF HABITATION - FORCED ENTRY</td><td>4961</td></tr><tr><td>INTOX MANSLAUGHTER</td><td>2</td></tr><tr><td>DISCHARGE FIREARM IN CERTAIN MUNICIPALITIES</td><td>74</td></tr><tr><td>CRIM MISCHIEF <$2500 HABITATION FA/EXPLOS</td><td>3</td></tr><tr><td>DOG BITE - INJURED PERSON</td><td>103</td></tr><tr><td>BURGLARY OF HABITATION (ATT)</td><td>194</td></tr><tr><td>TAMPER FABRICATE PHYSICAL EVID WITH INTENT TO IMPAIR</td><td>11</td></tr><tr><td>ENGAGING IN ORGANIZED CRIMINAL ACTIVITY MA</td><td>1</td></tr><tr><td>ARSON -ALL OTHERS</td><td>15</td></tr><tr><td>ASSAULT (AGG) -OF SECURITY OFF - SERIOUS BODILY INJURY</td><td>1</td></tr><tr><td>THEFT OF FIREARM ENHANCED</td><td>1</td></tr><tr><td>ARSON -STORAGE - UNINHABITED</td><td>3</td></tr><tr><td>UNLAWFUL RESTRAINT</td><td>4</td></tr><tr><td>FRAUD USE/POSS IDENTIFYING INFO # ITEMS 5<10</td><td>12</td></tr><tr><td>OBSTRUCTION OR RETALIATION</td><td>13</td></tr><tr><td>FRAUD INTENT OBTAIN PRESCRIPTION NOT MED NEEDED SCHEDULE</td><td>1</td></tr><tr><td>MAN DEL CONT SUB PEN GRP 1 > OR EQUAL 1G<4G</td><td>7</td></tr><tr><td>FORGERY FINANCIAL INSTRUMENT</td><td>294</td></tr><tr><td>FRAUD USE/POSS IDENT INFO # ITEMS 5<10 ELDERLY</td><td>3</td></tr><tr><td>INTOXICATION ASSAULT W/VEH SERIOUS BODILY INJURY</td><td>38</td></tr><tr><td>THEFT OF MATERIAL 50% ALUM/BRNZE/COPPER <$20K ENH</td><td>2</td></tr><tr><td>UCR - BMV- PROP STOLEN AND DAMAGE TO COLUMN/IGNITION</td><td>138</td></tr><tr><td>FORGERY TO DEFRAUD OR HARM ELDERLY</td><td>16</td></tr><tr><td>EVADING ARREST DETENTION W/VEH</td><td>108</td></tr><tr><td>ACCIDENT INVOLVING INJURY</td><td>364</td></tr><tr><td>CRIM MISCHIEF >OR EQUAL $150K BUT <$300K</td><td>4</td></tr><tr><td>EVADING ARREST DETENTION W/PREV CONVICTION</td><td>21</td></tr><tr><td>ASSAULT (AGG) -PUBLIC SERVANT - (AGG, NON LAW ENF)</td><td>2</td></tr><tr><td>TRAF VIO - RACING ON HIGHWAY CAUSING SERIOUS BODILY INJ</td><td>4</td></tr><tr><td>THEFT FROM PERSON (ATT) PICKPOCKET</td><td>3</td></tr><tr><td>DECEPTIVE BUSINESS PRACTICE</td><td>9</td></tr><tr><td>THEFT OF PROP (ATT) > OR EQUAL $150K<$300K (NOT EMP)</td><td>2</td></tr><tr><td>DELIVERY MARIJUANA >1/4 OZ< OR EQUAL 5LBS *DRUG FREE ZONE*</td><td>1</td></tr><tr><td>UNAUTHORIZED USE OF MOTOR VEH - (ATT) TRUCK OR BUS</td><td>155</td></tr><tr><td>BMV (ATT) (OF AUTO ACCESSORY) (P.C. 30.04(A))</td><td>8</td></tr><tr><td>POSS MARIJUANA >4OZ< OR EQUAL 5LBS</td><td>12</td></tr><tr><td>THEFT OF PROP > OR EQUAL $30K<$150K (BY EMPLOYEE)</td><td>18</td></tr><tr><td>FRAUD INTENT OBTAIN PRESCRIP NOT MED NEEDED SCHED I OR I</td><td>4</td></tr><tr><td>FORGERY TO DEFRAUD OR HARM OF ANOTHER</td><td>57</td></tr><tr><td>UNAUTHORIZED USE OF MOTOR VEH - (ATT) OTHER VEH</td><td>18</td></tr><tr><td>THEFT OF PROP (ATT) > OR EQUAL $2,500 BUT <$30K (BY EMP</td><td>1</td></tr><tr><td>DWI</td><td>431</td></tr><tr><td>POSS OF CHILD PORNOGRAPHY</td><td>7</td></tr><tr><td>INJURED PERSON - OCCUPATIONAL (OTHER THAN FIREARM) (NO OFFENSE)</td><td>41</td></tr><tr><td>CONTINUOUS VIOLENCE AGAINST THE FAMILY</td><td>3</td></tr><tr><td>GRAFFITI >OR EQUAL $750 BUT <$2500</td><td>12</td></tr><tr><td>BMV <$1,500  2/MORE PREV CONV- (NOT EMPLOYEE)</td><td>17</td></tr><tr><td>THEFT OF PROP <$100 (BY EMPLOYEE)</td><td>24</td></tr><tr><td>INTERFERE W/ PUBLIC DUTIES</td><td>11</td></tr><tr><td>ATTACK BY DOG SBI</td><td>18</td></tr><tr><td>PERMIT REQUIRED IN WET AREA</td><td>1</td></tr><tr><td>UCR - THEFT OF BICYCLE</td><td>534</td></tr><tr><td>UNEXPLAINED DEATH (NO OFFENSE)</td><td>386</td></tr><tr><td>POSS OF ALCOHOL BY A MINOR</td><td>2</td></tr><tr><td>CRIM MISCHIEF IMP/INT PUB SERVICE <$30,000</td><td>2</td></tr><tr><td>ASSAULT (AGG) -PUB SERV (AGG, LAW ENF)</td><td>7</td></tr><tr><td>THEFT FROM PERSON (ATT) PURSE SNATCH</td><td>10</td></tr><tr><td>THEFT OF PROP (ATT) > OR EQUAL $30K<$150K ENH (NOT EMP)</td><td>1</td></tr><tr><td>LABELING UNAUTHORIZED RECORDING 65+ W/I 180D/PREV CONV</td><td>6</td></tr><tr><td>CRIMINAL SIMULATION</td><td>1</td></tr><tr><td>CRIM MISCHIEF >OR EQUAL $750 BUT <$2,500</td><td>1794</td></tr><tr><td>VIO BOND/PROTECTIVE ORDER 2+ PREV CONVICTIONS</td><td>2</td></tr><tr><td>GRAFFITI >OR EQUAL $2500 BUT <$30K</td><td>2</td></tr><tr><td>ESCAPE FROM CUSTODY</td><td>4</td></tr><tr><td>POSS CONT SUB PEN GRP 2 > OR EQUAL  1G<4G</td><td>2</td></tr><tr><td>ROBBERY OF INDIVIDUAL (AGG)</td><td>3618</td></tr><tr><td>MAN DEL CONT SUB PEN GRP 1 <1G *DRUG FREE ZONE*</td><td>1</td></tr><tr><td>THEFT OF PROP <$2500  2/MORE PREV CONV (BY EMP)</td><td>1</td></tr><tr><td>CRUELTY TO NON-LIVESTOCK ANIMAL-TORTURE</td><td>44</td></tr><tr><td>THEFT OF PROP (AUTO ACC) > OR EQUAL $2500 BUT<$30K ENH(NOT EMP)</td><td>6</td></tr><tr><td>POSS MARIJUANA >2OZ< OR EQUAL 4OZ</td><td>10</td></tr><tr><td>FALSE STATEMENT FOR PROPERTY/CREDIT $30K < $150K</td><td>14</td></tr><tr><td>LEWD/IMMORAL/INDECENT CONDUCT</td><td>1</td></tr><tr><td>POSS CONT SUB PEN GRP 1 <1G *DRUG FREE ZONE*</td><td>3</td></tr><tr><td>ROBBERY OF INDIVIDUAL</td><td>894</td></tr><tr><td>TRAF VIO - DUTY ON STRIKE UNATTENDED (PARKED) VEHICLE< $200 DAMAG</td><td>184</td></tr><tr><td>PROHIBITED WEAPON KNUCKLES</td><td>6</td></tr><tr><td>MANSLAUGHTER (TRAFFIC FATALITY)</td><td>3</td></tr><tr><td>FRAUD USE/POSS IDENTIFYING INFO # ITEMS 10<50</td><td>12</td></tr><tr><td>THEFT OF PROP (AUTO ACC) <$2,500 2+ PREV CONV (NOT  EMP)(P.C. 31.03 E4D)</td><td>2</td></tr><tr><td>THEFT OF PROP (AUTO ACC) > OR EQUAL $300K - (NOT EMP)</td><td>1</td></tr><tr><td>UNLAWFUL CARRY HANDGUN LIC HOLDER</td><td>1</td></tr><tr><td>UCR - THEFT OF PROPERTY</td><td>352</td></tr><tr><td>FORGERY GOVT/NATION INST/MONEY/SECURITY ELDER</td><td>9</td></tr><tr><td>POSS MARIJUANA <2OZ *DRUG FREE ZONE*</td><td>11</td></tr><tr><td>THEFT OF PROP > OR EQUAL $300K (BY EMPLOYEE)</td><td>1</td></tr><tr><td>CRIMINAL TRESPASS HAB/DEADLY WEAP/INFRASTRUC</td><td>28</td></tr><tr><td>DWI 2 OR MORE PREV CONV</td><td>38</td></tr><tr><td>UCR - ASSAULT (AGG) M/V</td><td>22</td></tr><tr><td>MAN DEL CONT SUB PEN GRP 1 <1G</td><td>5</td></tr><tr><td>POSS MARIJUANA >5LBS< OR EQUAL 50LBS</td><td>1</td></tr><tr><td>THEFT OF PROP (ATT) > OR EQUAL $750 BUT <$2,500 (NOT EMP)</td><td>3</td></tr><tr><td>TRAF VIO - DUTY ON STRIKE FIXTURE/HWY LANDSCAPE> OR EQUAL $200</td><td>686</td></tr><tr><td>ARSON -OTHER COMMERCIAL - UNINHABITED</td><td>3</td></tr><tr><td>GRAFFITI WORSHIP BURIAL/PUBLIC MONUMENT/SCHOOL</td><td>2</td></tr><tr><td>ACCIDENT INV DAMAGE TO VEHICLE</td><td>6228</td></tr><tr><td>ARSON -(W BODILY INJURY OR DEATH)-ALL OTH STRUCT - INHABIT</td><td>1</td></tr><tr><td>POSS OF DANGEROUS DRUG</td><td>5</td></tr><tr><td>THEFT OF PROP >$100 BUT <$750 ENH -SHOPLIFT - NOT BY EMP</td><td>17</td></tr><tr><td>POSS MARIJUANA >4OZ< OR EQUAL 5LBS *DRUG FREE ZONE*</td><td>5</td></tr><tr><td>FRAUD INTENT OBTAIN PRESCRIP NOT MED NEEDED SCHED LLL OR I</td><td>6</td></tr><tr><td>FALSE STATEMENT FOR PROPERTY/CREDIT $2500 < $30K</td><td>20</td></tr><tr><td>FRAUD DESTROY REMOVAL CONCEALMENT WRITING</td><td>15</td></tr><tr><td>IMPERSONATE PUBLIC SERVANT</td><td>8</td></tr><tr><td>ASSAULT (AGG) -PUB SERV (NON LAW ENF) - SER BODY INJURY</td><td>1</td></tr><tr><td>THEFT OF PROP (AUTO ACC) > OR EQUAL $100 BUT<$750(NOT EMP</td><td>781</td></tr><tr><td>THEFT OF SERVICE > OR EQUAL $100 BUT <$750</td><td>61</td></tr><tr><td>BURGLARY OF HABITATION INTEND TO COMMIT ROBBERY</td><td>28</td></tr><tr><td>THEFT OF SERVICE (ATT) < $100</td><td>2</td></tr><tr><td>PURCHASE FURNISH ALCOHOL TO A MINOR</td><td>1</td></tr><tr><td>THEFT OF PROP (AUTO ACC) $750 BUT <$2500 ENH - (NOT EMP)</td><td>13</td></tr><tr><td>TAMPER W/GOVT REC-INS DOC-DEFRAUD/HARM</td><td>4</td></tr><tr><td>CRIM MISCHIEF TRANS/COMM EQUIP/DEV <$150,000</td><td>1</td></tr><tr><td>CRIM MISCHIEF >OR EQUAL $30K BUT <$150K</td><td>9</td></tr><tr><td>EVADING ARREST DETENTION</td><td>141</td></tr><tr><td>THEFT OF PROP > OR EQUAL $100 BUT <$750 (BY EMPLOYEE)</td><td>150</td></tr><tr><td>PLACE WEAPONS PROHIBITED</td><td>19</td></tr><tr><td>FICTITIOUS LICENSE PLATE</td><td>1</td></tr><tr><td>POSS CONT SUB PEN GRP 1 > OR EQUAL 1G<4G</td><td>30</td></tr><tr><td>THEFT FROM PERSON</td><td>360</td></tr><tr><td>ASSAULT (AGG) -SERIOUS BODILY INJURY</td><td>187</td></tr><tr><td>ARSON -OTHER RESIDENCE - UNINHABITED</td><td>8</td></tr><tr><td>ARSON -SINGLE RESIDENCE UNINHABITED</td><td>16</td></tr><tr><td>GRAFFITI >OR EQUAL $100 BUT <$750</td><td>38</td></tr><tr><td>THEFT OF PROP > OR EQUAL $150K<$300K -SHOPLIFT  (NOT EMP)</td><td>1</td></tr><tr><td>ASSAULT (AGG) -DEADLY WEAPON</td><td>1196</td></tr><tr><td>DISORDERLY CONDUCT DISCHARGE/DISPLAY FIREARM</td><td>26</td></tr><tr><td>FOUND PROPERTY (NO OFFENSE)</td><td>3686</td></tr><tr><td>TRAF VIO - DUTY ON STRIKE FIXTURE/HWY LANDSCAPE< $200</td><td>122</td></tr><tr><td>TRAF VIO - DUTY ON STRIKE UNATTENDED (PARKED) VEHICLE >$200 DAMAGE</td><td>1732</td></tr><tr><td>TAMPER W/GOVT RECORD DEFRAUD/HARM</td><td>1</td></tr><tr><td>TAMPER W/GOVT RECORD W/INT MAKE GENUINE</td><td>2</td></tr><tr><td>CRIMINAL NEGLIGENT HOMICIDE</td><td>30</td></tr><tr><td>THEFT OF PROP (AUTO ACC) <$100 ENH - (NOT EMP)</td><td>1</td></tr><tr><td>KIDNAPPING (AGG) -TERRORIZE PERSON OR 3RD PARTY</td><td>1</td></tr><tr><td>UCR - BMV-</td><td>1</td></tr><tr><td>CRIM MISCHIEF >OR EQUAL $100 BUT <$750</td><td>6416</td></tr><tr><td>THEFT OF PROP > OR EQUAL $2,500 BUT  <$30K (BY EMPLOYEE)</td><td>88</td></tr><tr><td>THEFT OF PROP (AUTO ACC) > OR EQUAL $2,500 BUT <$30K(BY EMP</td><td>3</td></tr><tr><td>THEFT OF PROP > OR EQUAL $300K-OTHER THAN SHOPLIFT</td><td>2</td></tr><tr><td>UNAUTHORIZED USE OF MOTOR VEH - TRUCK OR BUS</td><td>1723</td></tr><tr><td>ASSAULT -VERBAL THREAT</td><td>548</td></tr><tr><td>TERRORISTIC THREAT INTERRUPT PUBLIC PLACE</td><td>5</td></tr><tr><td>HOAX BOMBS</td><td>9</td></tr><tr><td>STALKING W/PREV CONVICTION</td><td>1</td></tr><tr><td>THEFT OF PROP > OR EQUAL $2,500 BUT <$30K- NOT SHOPLIFT</td><td>900</td></tr><tr><td>THEFT OF PROP > OR EQUAL $30K<$150K- NOT SHOPLIFT</td><td>123</td></tr><tr><td>DWI BAC > OR EQUAL TO 0.15</td><td>57</td></tr><tr><td>ATTACK BY DANGEROUS DOG</td><td>211</td></tr><tr><td>INJURED PERSON- PUBLIC PROPERTY (OTHER THEN FIREARM) (NO OFFENSE)</td><td>1409</td></tr><tr><td>THEFT OF PROP $100 BUT <$750 ENH (BY EMPLOYEE)</td><td>3</td></tr><tr><td>KIDNAPPING</td><td>5</td></tr><tr><td>ILLEGAL DUMPING >5 LBS < 500 LBS</td><td>68</td></tr><tr><td>TRAF VIO - RACING ON HIGHWAY</td><td>5</td></tr><tr><td>ASSAULT (AGG) -DISCH FIREARM  OCC BLDG/HOUSE/VEH (AGG)</td><td>113</td></tr><tr><td>INJURY CHILD/ELDERLY/DISABLED-INT-BODILY INJURY-HEALTH CAR</td><td>2</td></tr><tr><td>CRIM MISCHIEF >OR EQUAL $2,500 BUT <$30K</td><td>584</td></tr><tr><td>THEFT OF PROP > OR EQUAL $750 BUT <$2,500 (BY EMPLOYEE)</td><td>92</td></tr><tr><td>INHALANT PARAPHERNALIA USES OR POSS</td><td>2</td></tr><tr><td>THEFT OF PROP > OR EQUAL $20 BUT <$500 BY CHECK ENH</td><td>1</td></tr><tr><td>THEFT OF PROP > OR EQUAL $750 BUT <$2,500 -SHOPLIFT (NOT EMP</td><td>276</td></tr><tr><td>TAMPER W/GOVT REC-INS DOC (A)(2,5)</td><td>4</td></tr><tr><td>THEFT OF PROP <$100 ENH -SHOPLIFTING -  (NOT BY EMP)</td><td>9</td></tr><tr><td>MAN DEL CONT SUB PEN GRP 2 > OR EQUAL 1G *DRUG FREE ZONE*</td><td>1</td></tr><tr><td>BURGLARY OF BUILDING (ATT)</td><td>77</td></tr><tr><td>FALSE STATEMENT FOR PROPERTY/CREDIT >$300K</td><td>1</td></tr><tr><td>CRIM MISCHIEF >$750  BUT <$30K DESTROY SCHOOL</td><td>1</td></tr><tr><td>FALSE ALARM OR REPORT</td><td>40</td></tr><tr><td>MAN DEL CONT SUB PEN GRP 1 > OR EQUAL 400G</td><td>2</td></tr><tr><td>THEFT OF PROP <$100 ENH -NOT SHOPLIFT</td><td>1</td></tr></tbody></table></div>"
      ]
     },
     "metadata": {
      "application/vnd.databricks.v1+output": {
       "addedWidgets": {},
       "aggData": [],
       "aggError": "",
       "aggOverflow": false,
       "aggSchema": [],
       "aggSeriesLimitReached": false,
       "aggType": "",
       "arguments": {},
       "columnCustomDisplayInfos": {},
       "data": [
        [
         "FLEEING POLICE OFFICER",
         7
        ],
        [
         "VIO BOND/PROTECTIVE ORDER",
         66
        ],
        [
         "THEFT OF PROP > OR EQUAL $2,500 BUT <$30K -SHOPLIFT(NOT EMP",
         74
        ],
        [
         "CAPITAL MURDER OF MULTIPLE PERSONS",
         8
        ],
        [
         "THEFT OF PROP > OR EQUAL $2500 BUT <$30K ENH -SHOPLIFT-(NOT EMP",
         1
        ],
        [
         "THEFT OF PROP <$100-OTH THAN SHOPLIFT W/PREV CONVIC ENH",
         1
        ],
        [
         "BURGLARY OF A COIN OPERATED MACHINE",
         65
        ],
        [
         "THEFT OF PROP > OR EQUAL $30K<$150K SHOPLIFT (NOT BY EMP)",
         2
        ],
        [
         "UNAUTHORIZED REPRODUCTION OF TEXAS TEMP TAG",
         1
        ],
        [
         "THEFT OF PROP > OR EQUAL $100 BUT <$750- NOT SHOPLIFT",
         2392
        ],
        [
         "DEADLY CONDUCT",
         429
        ],
        [
         "THEFT OF PROP (ATT) <$100 (NOT  EMPLOYEE)",
         12
        ],
        [
         "UNLAWFUL CARRYING WEAPON",
         49
        ],
        [
         "TAMPER W/GOVT RECORD LIC/SEAL DEFRAUD/HARM",
         10
        ],
        [
         "ASSAULT -GOVT CONTR OR EMP VIC - BODILY INJURY ONLY",
         1
        ],
        [
         "OBSCENE PROMOTE/PRODUCE/DIRECT",
         1
        ],
        [
         "ASSAULT -PUB SERV (LAW ENF) - BODILY INJURY ONLY",
         11
        ],
        [
         "UCR- THEFT FROM BUILDING",
         14
        ],
        [
         "THEFT OF PROP <$2500 2+ PREV CONVIC -SHOPLFT-(NOT EMP)",
         64
        ],
        [
         "CRIM MISCHIEF DAMAGE/DESTR WORSHIP/SCHOOL",
         11
        ],
        [
         "THEFT OF PROP <$100 - OTHER THAN SHOPLIFT",
         935
        ],
        [
         "UNAUTHORIZED USE OF MOTOR VEH - AUTOMOBILE",
         4067
        ],
        [
         "UNAUTHORIZED USE OF MOTOR VEH - OTHER VEH",
         222
        ],
        [
         "TAMPER W/GOVT REC-INS DOC (A)(1,3,4,6)",
         2
        ],
        [
         "COMPUTER SECURITY BREACH >OR EQUAL TO $100 BUT <$750",
         1
        ],
        [
         "LOST PROPERTY (NO OFFENSE)",
         1028
        ],
        [
         "POSS CONT SUB PEN GRP 2-A  2 OZ OR LESS",
         7
        ],
        [
         "MAN DEL CONT SUB PEN GRP 2 > OR EQUAL 4G<400G",
         1
        ],
        [
         "ARSON -ALL OTHER STRUCTURES - INHABITED",
         16
        ],
        [
         "ARSON -OTHER COMMERCIAL - INHABITED",
         2
        ],
        [
         "THEFT OF PROP <$100 -SHOPLIFTING - (NOT BY EMPLOYEE)",
         245
        ],
        [
         "MAN DEL CONT SUB PEN GRP 1 > OR EQUAL 1G *DRUG FREE ZONE*",
         5
        ],
        [
         "INSURANCE FRAUD  RISKING BODILY INJ/DEATH",
         1
        ],
        [
         "VIO BOND/PROTECTIVE ORDER ASSAULT/STALKING",
         4
        ],
        [
         "CRUELTY TO LIVESTK ANIM-TORTURE",
         6
        ],
        [
         "ARSON -MOTOR VEH",
         105
        ],
        [
         "BIGAMY",
         1
        ],
        [
         "THEFT OF PROP <$2500 2/MORE PREV CONV - NOT SHOPLIFT",
         6
        ],
        [
         "STALKING",
         32
        ],
        [
         "INSURANCE FRAUD > OR EQUAL $2500<$30K",
         1
        ],
        [
         "THEFT OF FIREARM",
         115
        ],
        [
         "FORGERY GOVT/NATIONAL INST/MONEY/SECURITY",
         141
        ],
        [
         "THEFT OF PROP (AUTO ACC) > OR EQUAL $100 BUT <$750-(BY EMP",
         15
        ],
        [
         "ASSAULT -OFFENSIVE CONTACT",
         1666
        ],
        [
         "ARSON -COMMUNITY/PUBLIC - INHABITED",
         3
        ],
        [
         "ENGAGING IN ORGANIZED CRIMINAL ACTIVITY F3",
         1
        ],
        [
         "THEFT OF PROP (AUTO ACC) $100 BUT <$750 ENH - (NOT EMP",
         18
        ],
        [
         "TAMPER W/CONSUMER PRODUCT  NO INJUR",
         1
        ],
        [
         "DEADLY CONDUCT DISCHARGE FIREARM",
         71
        ],
        [
         "THEFT OF PROP $750 BUT <$2500 ENH  -NOT SHOPLIFT",
         24
        ],
        [
         "POSS CONT SUB PEN GRP 2 < 1G",
         1
        ],
        [
         "THEFT OF DL/COMM DL/ID CERTIFICATE",
         11
        ],
        [
         "ROBBERY OF BUSINESS",
         432
        ],
        [
         "POSS CONT SUB PEN GRP 1 > OR EQUAL 4G<200G",
         8
        ],
        [
         "BMV",
         11303
        ],
        [
         "THEFT OF PROP > OR EQUAL $2500 BUT <$30K ENH (BY EMPLOYEE)",
         2
        ],
        [
         "ONLINE IMPERSONATION-NAME/PERSONA TO CREATE PAGE",
         3
        ],
        [
         "PROHIBITED WEAPON PC",
         1
        ],
        [
         "DRIVING UNDER INFLUENCE MINOR 3RD-ENH",
         1
        ],
        [
         "POSS CONT SUB PEN GRP 1 >1G *DRUG FREE ZONE*",
         1
        ],
        [
         "ONLINE IMPERSONATION-EMAIL/MESSAGE W/IDENT INFOR",
         2
        ],
        [
         "THEFT OF PROP > OR EQUAL $150K<$300K (BY EMPLOYEE)",
         7
        ],
        [
         "UNAUTHORIZED USE OF MOTOR VEH - (ATT) AUTOMOBILE",
         347
        ],
        [
         "ARSON -(W BODILY INJURY OR DEATH)-SINGLE RES-INHABITED",
         5
        ],
        [
         "THEFT ORG RETAIL - (NOT EMP) EQUAL $100<$750",
         3
        ],
        [
         "THEFT OF PROP > OR EQUAL $750 BUT <$2,500 (NOT SHOPLIFT)",
         1042
        ],
        [
         "THEFT OF PROP (ATT) <$2500 2+ CONV ENH (NOT BY EMP)",
         1
        ],
        [
         "UNLAWFUL POSS FIREARM BY FELON",
         39
        ],
        [
         "THEFT OF PROP <$2500 2+ CONV ENH-SHOPLIFT - (NOT EMP)",
         36
        ],
        [
         "THEFT OF ANIMAL CATTLE/HORSE/EXOTIC LIVESTOCK <$150K",
         4
        ],
        [
         "TRAF VIO - RACING ON HIGHWAY CAUSING BODILY INJURY",
         2
        ],
        [
         "CAPITAL MURDER BY TERROR THREAT/OTHER FELONY",
         24
        ],
        [
         "HOAX BOMB WEAPONS FREE ZONE",
         3
        ],
        [
         "THEFT OF PROP <$2500 2+ CONV ENH  - NOT SHOPLIFT",
         4
        ],
        [
         "POSS CONT SUB PEN GRP 1 <1G",
         69
        ],
        [
         "ESCAPE WHILE ARRESTED/CONFINED FELONY",
         1
        ],
        [
         "MANSLAUGHTER",
         3
        ],
        [
         "CRIM MISCHIEF >OR EQUAL $300K",
         2
        ],
        [
         "BURGLARY OF BUILDING - FORCED ENTRY",
         4902
        ],
        [
         "POSS CONT SUB PEN GRP 1 > OR EQUAL 200G<400G",
         1
        ],
        [
         "THEFT OF PROP (ATT) > OR EQUAL $100 BUT <$750 (BY EMP)",
         2
        ],
        [
         "THEFT OF PROP (AUTO ACC) > OR EQUAL $750 BUT <$2,500 (NOT EMP",
         724
        ],
        [
         "COMPUTER SECURITY BREACH >OR EQUAL TO $150K BUT <$300K",
         1
        ],
        [
         "THEFT OF PROP (AUTO ACC) > OR EQUAL $750 BUT <$2,500-(BY EMP",
         2
        ],
        [
         "THEFT OF PROP > OR EQUAL $150K<$300K-OTHER THAN SHOPLIFT",
         12
        ],
        [
         "GRAFFITI PECUNIARY LOSS <$100",
         6
        ],
        [
         "THEFT OF PROP (AUTO ACC) > OR EQUAL $150K<$300K -(BY EMP)",
         1
        ],
        [
         "THEFT OF PROP $750 BUT <$2500 ENH (BY EMPLOYEE)",
         3
        ],
        [
         "POSS W/INT TO PROMOTE CHILD PORNOGRAPHY",
         1
        ],
        [
         "THEFT ORG RETAIL -(BY EMP) >$2500<$30,000",
         2
        ],
        [
         "RECOVERED OUT OF TOWN STOLEN PROPERTY (NO OFFENSE)",
         443
        ],
        [
         "NATURAL DEATH (NO OFFENSE)",
         604
        ],
        [
         "BURGLARY OF BUILDING - NO FORCED ENTRY",
         942
        ],
        [
         "TERRORISTIC THREAT - FEAR IMMINENT SBI",
         169
        ],
        [
         "CREDIT CARD OR DEBIT CARD ABUSE",
         186
        ],
        [
         "FRAUD USE/POSS IDENTIFYING INFO # ITEMS < 5",
         178
        ],
        [
         "INJURED PERSON - AT HOME (OTHER THAN FIREARM) (NO OFFENSE)",
         618
        ],
        [
         "BURGLARY OF HABITATION INTEND TO COMMIT AGG ASSAULT",
         22
        ],
        [
         "ILLEGAL DUMPING > OR EQUAL 500LBS < 1000 LBS",
         20
        ],
        [
         "THEFT OF PROP >$750 BUT <$2500 ENH -SHOPLIFT-NOT BY EMP",
         9
        ],
        [
         "ABANDONED PROPERTY (NO OFFENSE)",
         3142
        ],
        [
         "RECOVERED OUT OF TOWN STOLEN VEHICLE (NO OFFENSE)",
         1929
        ],
        [
         "THEFT OF SERVICE > OR EQUAL $30K BUT <$150K",
         1
        ],
        [
         "MAN DEL CONT SUB PEN GRP 1 > OR EQUAL 4G<200G",
         18
        ],
        [
         "POSS MARIJUANA >2OZ< OR EQUAL 4OZ *DRUG FREE ZONE*",
         2
        ],
        [
         "THEFT OF SERVICE > OR EQUAL $750 BUT <$2,500",
         42
        ],
        [
         "BURGLARY OF HABITATION INTEND TO COMMIT SIMPLE ASSAULT",
         51
        ],
        [
         "THEFT OF FIREARM (ATT",
         1
        ],
        [
         "ASSAULT (AGG) -BY PUBLIC SERVANT (AGG)",
         3
        ],
        [
         "THEFT OF PROP > OR EQUAL $100 BUT <$750 -SHOPLIFT (NOT EMP",
         938
        ],
        [
         "KIDNAPPING (AGG) -",
         7
        ],
        [
         "ACCIDENT INVOLVING SERIOUS BODILY INJURY",
         70
        ],
        [
         "TERRORISTIC THREAT AGAINST PUBLIC SERVANT",
         4
        ],
        [
         "FAIL TO LEAVE ID AT SCENE OF ACCIDENT DAMAGE < $200",
         105
        ],
        [
         "UCR - MANSLAUGHTER (0120) (FOR UCR PURPOSES ONLY)",
         1
        ],
        [
         "THEFT OF PROP (ATT) > OR EQUAL $30K<$150K (NOT EMP)",
         2
        ],
        [
         "COMPUTER SECURITY BREACH < AGGREGATE $100",
         2
        ],
        [
         "ASSAULT (AGG) -AGAINST SECURITY OFF (AGG)",
         12
        ],
        [
         "ASSAULT -PUB SERV (NON LAW ENF) - BODILY INJURY ONLY",
         13
        ],
        [
         "POSS CONT SUB PEN GRP 3 < 28G",
         19
        ],
        [
         "BURGLARY OF HABITATION -NO FORCED ENTRY",
         2219
        ],
        [
         "ARSON -SINGLE RESIDENCE INHABITED",
         23
        ],
        [
         "THEFT OF SERVICE > OR EQUAL $2,500 BUT <$30K",
         45
        ],
        [
         "DWI W/OPEN CONTAINER",
         24
        ],
        [
         "THEFT OF PROP (AUTO ACC) > OR EQUAL $2500 BUT<$30K ENH(BY EMP)",
         1
        ],
        [
         "BRIBERY",
         2
        ],
        [
         "FORGING OR ALTERING PRESCRIPTION",
         11
        ],
        [
         "CRIM MISCHIEF IMPAIR/INTERRUPT PUB SERVICE",
         13
        ],
        [
         "FRAUD USE/POSS IDENTIFYING INFO # ITEMS 50 OR MORE",
         4
        ],
        [
         "FALSE STATEMENT FOR PROPERTY/CREDIT $100 < $750",
         1
        ],
        [
         "CRUELTY TO NON-LIVESTOCK ANIMALS: FAILURE TO PROVIDE FOR",
         7
        ],
        [
         "ASSAULT (AGG) -RETALIATION (AGG)",
         3
        ],
        [
         "THEFT OF PROP (AUTO ACC) > OR EQUAL $2,500 BUT<$30K (NOT EMP",
         390
        ],
        [
         "POSS MARIJUANA <2OZ",
         202
        ],
        [
         "THEFT OF MATERIAL 50% ALUM/BRNZE/COPPER  (ATT) <$20K",
         4
        ],
        [
         "CRIMINAL TRESPASS",
         959
        ],
        [
         "THEFT OF PROP (ATT) $100 BUT <$750 ENH (NOT EMPLOYEE)",
         1
        ],
        [
         "FRAUD DELIVERS PRESCRIPTION FORMS SCHEDULE LLL,LV,V",
         1
        ],
        [
         "TERRORISTIC THREAT - REACTION EMERGENCY AGENCY",
         3
        ],
        [
         "THEFT OF MATERIAL (ATT) 50% ALUM/BRNZE/COPPER <20K ENH",
         1
        ],
        [
         "CRIM MISCHIEF <$100",
         1552
        ],
        [
         "FALSE REPORT TO POLICE OFFICER/LAW ENFORCE EMPL",
         18
        ],
        [
         "CREDIT CARD OR DEBIT CARD ABUSE ELDERLY",
         18
        ],
        [
         "FALSE ALARM OR REPORT EMERGENCY",
         5
        ],
        [
         "THEFT OF PROP <$100 W/PREV CONV ENH -SHOPLIFT -  (NOT BY EMP",
         4
        ],
        [
         "BMV (ATT)",
         94
        ],
        [
         "GAMBLING PROMOTION",
         4
        ],
        [
         "KEEPING A GAMBLING PLACE",
         1
        ],
        [
         "LABELING UNAUTHORIZED RECORDING > 7 BUT <65 W/I 180D",
         1
        ],
        [
         "TAMPER W/GOVT RECORD",
         6
        ],
        [
         "ASSAULT -ELD OR DISABLED VIC -BODILY INJURY ONLY",
         23
        ],
        [
         "THEFT OF MATERIAL 50% ALUM/BRNZE/COPPER <$20K",
         113
        ],
        [
         "FRAUDULENT FILING OF FINANCING STATEMENT",
         2
        ],
        [
         "UNLAWFUL CARRYING WEAPON ON ALCOHOL PREMISES",
         2
        ],
        [
         "DWI 1 PREV CONV",
         69
        ],
        [
         "HARASSMENT",
         966
        ],
        [
         "ARSON -ALL OTHER STRUCTURES - UNINHABITED",
         16
        ],
        [
         "INJURED PERSON - FIREARM INJURY (NO OFFENSE)",
         106
        ],
        [
         "THEFT OF PROP $100 BUT <$750 ENH-NOT SHOPLIF",
         23
        ],
        [
         "THEFT OF SERVICE < $100",
         265
        ],
        [
         "RESIST ARREST SEARCH OR TRANSPORT",
         24
        ],
        [
         "ROBBERY OF BUSINESS (AGG)",
         1880
        ],
        [
         "HARASSMENT OF PUBLIC SERVANT",
         9
        ],
        [
         "THEFT OF PROP (AUTO ACC) <$100 - (NOT EMP)",
         871
        ],
        [
         "OBSTRUCT HIGHWAY PASSAGEWAY",
         4
        ],
        [
         "DECEPTIVE BUSINESS PRACTICE-CRIM NEG",
         1
        ],
        [
         "ACCIDENT INVOLVING DEATH",
         17
        ],
        [
         "UCR - DEADLY CONDUCT",
         192
        ],
        [
         "THEFT FROM PERSON-PICKPOCKE",
         111
        ],
        [
         "MURDER",
         67
        ],
        [
         "ILLEGAL DUMPING 1000 LBS OR MORE",
         31
        ],
        [
         "BMV (OF AUTO ACCESSORY) (P.C. 30.04(A))",
         1408
        ],
        [
         "MISAPP FIDUC/FINAN PROP > OR EQUAL $100<$750",
         1
        ],
        [
         "UCR -THEFT OF PROPERTY",
         1
        ],
        [
         "ASSAULT -BODILY INJURY ONLY",
         1203
        ],
        [
         "THEFT OF PROP (ATT) <$100 ENH (NOT EMPLOYEE)",
         1
        ],
        [
         "FORGERY FINANCIAL INSTRUMENT ELDERLY",
         7
        ],
        [
         "FRAUD DELIVERS PRESCRIPTION FORMS SCHEDULE II CONT SUBS",
         1
        ],
        [
         "THEFT FROM PERSON-PURSE SNATC",
         103
        ],
        [
         "UNLAWFUL CARRY WEAPON/WEAPONS FREE ZONE",
         1
        ],
        [
         "ABUSIVE/SILENT CALLS TO 911 SERVICE",
         10
        ],
        [
         "POSS CONT SUB PEN GRP 4 <28G",
         3
        ],
        [
         "ASSAULT -OF SECURITY OFFICER - BODILY INJURY ONLY",
         23
        ],
        [
         "VIO PROTECT ORDER BIAS/PREJUDICE",
         2
        ],
        [
         "MANUFACTURE OF DANGEROUS DRUG",
         1
        ],
        [
         "ENGAGING IN ORGANIZED CRIMINAL ACTIVITY FS",
         1
        ],
        [
         "THEFT OF PROP (ATT) > OR EQUAL $2,500 BUT <$30K (NOT EMP",
         14
        ],
        [
         "THEFT OF PROP (ATT) > OR EQUAL $100 BUT <$750 (NOT EMP",
         14
        ],
        [
         "FALSE STATEMENT FOR PROPERTY/CREDIT $750 < $2500",
         2
        ],
        [
         "ACCIDENTAL DEATH (NO OFFENSE)",
         67
        ],
        [
         "THEFT OF PROP > OR EQUAL $2500 BUT <$30K ENH -NOT SHOPLIFT",
         11
        ],
        [
         "DWI W/CHILD UNDER 15 YOA",
         8
        ],
        [
         "FAILURE TO REPORT FELONY",
         1
        ],
        [
         "EVADING ARREST DET W/VEH W/ PREV CONV OR S.B.I.",
         3
        ],
        [
         "RECKLESS DAMAGE",
         2008
        ],
        [
         "ARSON -OTHER RESIDENCE INHABITED",
         8
        ],
        [
         "TERRORISTIC THREAT CAUSES PECUNIARY LOSS OF >$1500",
         1
        ],
        [
         "TRAFFIC FATALITY- NOT DWI- UNINTENTIONAL (NO OFFENSE)",
         76
        ],
        [
         "FRAUD USE/POSS IDENT INFO # ITEMS <5 ELDERLY",
         19
        ],
        [
         "MAN DEL CONT SUB PEN GRP 2 < 1G",
         2
        ],
        [
         "BURGLARY OF HABITATION - FORCED ENTRY",
         4961
        ],
        [
         "INTOX MANSLAUGHTER",
         2
        ],
        [
         "DISCHARGE FIREARM IN CERTAIN MUNICIPALITIES",
         74
        ],
        [
         "CRIM MISCHIEF <$2500 HABITATION FA/EXPLOS",
         3
        ],
        [
         "DOG BITE - INJURED PERSON",
         103
        ],
        [
         "BURGLARY OF HABITATION (ATT)",
         194
        ],
        [
         "TAMPER FABRICATE PHYSICAL EVID WITH INTENT TO IMPAIR",
         11
        ],
        [
         "ENGAGING IN ORGANIZED CRIMINAL ACTIVITY MA",
         1
        ],
        [
         "ARSON -ALL OTHERS",
         15
        ],
        [
         "ASSAULT (AGG) -OF SECURITY OFF - SERIOUS BODILY INJURY",
         1
        ],
        [
         "THEFT OF FIREARM ENHANCED",
         1
        ],
        [
         "ARSON -STORAGE - UNINHABITED",
         3
        ],
        [
         "UNLAWFUL RESTRAINT",
         4
        ],
        [
         "FRAUD USE/POSS IDENTIFYING INFO # ITEMS 5<10",
         12
        ],
        [
         "OBSTRUCTION OR RETALIATION",
         13
        ],
        [
         "FRAUD INTENT OBTAIN PRESCRIPTION NOT MED NEEDED SCHEDULE",
         1
        ],
        [
         "MAN DEL CONT SUB PEN GRP 1 > OR EQUAL 1G<4G",
         7
        ],
        [
         "FORGERY FINANCIAL INSTRUMENT",
         294
        ],
        [
         "FRAUD USE/POSS IDENT INFO # ITEMS 5<10 ELDERLY",
         3
        ],
        [
         "INTOXICATION ASSAULT W/VEH SERIOUS BODILY INJURY",
         38
        ],
        [
         "THEFT OF MATERIAL 50% ALUM/BRNZE/COPPER <$20K ENH",
         2
        ],
        [
         "UCR - BMV- PROP STOLEN AND DAMAGE TO COLUMN/IGNITION",
         138
        ],
        [
         "FORGERY TO DEFRAUD OR HARM ELDERLY",
         16
        ],
        [
         "EVADING ARREST DETENTION W/VEH",
         108
        ],
        [
         "ACCIDENT INVOLVING INJURY",
         364
        ],
        [
         "CRIM MISCHIEF >OR EQUAL $150K BUT <$300K",
         4
        ],
        [
         "EVADING ARREST DETENTION W/PREV CONVICTION",
         21
        ],
        [
         "ASSAULT (AGG) -PUBLIC SERVANT - (AGG, NON LAW ENF)",
         2
        ],
        [
         "TRAF VIO - RACING ON HIGHWAY CAUSING SERIOUS BODILY INJ",
         4
        ],
        [
         "THEFT FROM PERSON (ATT) PICKPOCKET",
         3
        ],
        [
         "DECEPTIVE BUSINESS PRACTICE",
         9
        ],
        [
         "THEFT OF PROP (ATT) > OR EQUAL $150K<$300K (NOT EMP)",
         2
        ],
        [
         "DELIVERY MARIJUANA >1/4 OZ< OR EQUAL 5LBS *DRUG FREE ZONE*",
         1
        ],
        [
         "UNAUTHORIZED USE OF MOTOR VEH - (ATT) TRUCK OR BUS",
         155
        ],
        [
         "BMV (ATT) (OF AUTO ACCESSORY) (P.C. 30.04(A))",
         8
        ],
        [
         "POSS MARIJUANA >4OZ< OR EQUAL 5LBS",
         12
        ],
        [
         "THEFT OF PROP > OR EQUAL $30K<$150K (BY EMPLOYEE)",
         18
        ],
        [
         "FRAUD INTENT OBTAIN PRESCRIP NOT MED NEEDED SCHED I OR I",
         4
        ],
        [
         "FORGERY TO DEFRAUD OR HARM OF ANOTHER",
         57
        ],
        [
         "UNAUTHORIZED USE OF MOTOR VEH - (ATT) OTHER VEH",
         18
        ],
        [
         "THEFT OF PROP (ATT) > OR EQUAL $2,500 BUT <$30K (BY EMP",
         1
        ],
        [
         "DWI",
         431
        ],
        [
         "POSS OF CHILD PORNOGRAPHY",
         7
        ],
        [
         "INJURED PERSON - OCCUPATIONAL (OTHER THAN FIREARM) (NO OFFENSE)",
         41
        ],
        [
         "CONTINUOUS VIOLENCE AGAINST THE FAMILY",
         3
        ],
        [
         "GRAFFITI >OR EQUAL $750 BUT <$2500",
         12
        ],
        [
         "BMV <$1,500  2/MORE PREV CONV- (NOT EMPLOYEE)",
         17
        ],
        [
         "THEFT OF PROP <$100 (BY EMPLOYEE)",
         24
        ],
        [
         "INTERFERE W/ PUBLIC DUTIES",
         11
        ],
        [
         "ATTACK BY DOG SBI",
         18
        ],
        [
         "PERMIT REQUIRED IN WET AREA",
         1
        ],
        [
         "UCR - THEFT OF BICYCLE",
         534
        ],
        [
         "UNEXPLAINED DEATH (NO OFFENSE)",
         386
        ],
        [
         "POSS OF ALCOHOL BY A MINOR",
         2
        ],
        [
         "CRIM MISCHIEF IMP/INT PUB SERVICE <$30,000",
         2
        ],
        [
         "ASSAULT (AGG) -PUB SERV (AGG, LAW ENF)",
         7
        ],
        [
         "THEFT FROM PERSON (ATT) PURSE SNATCH",
         10
        ],
        [
         "THEFT OF PROP (ATT) > OR EQUAL $30K<$150K ENH (NOT EMP)",
         1
        ],
        [
         "LABELING UNAUTHORIZED RECORDING 65+ W/I 180D/PREV CONV",
         6
        ],
        [
         "CRIMINAL SIMULATION",
         1
        ],
        [
         "CRIM MISCHIEF >OR EQUAL $750 BUT <$2,500",
         1794
        ],
        [
         "VIO BOND/PROTECTIVE ORDER 2+ PREV CONVICTIONS",
         2
        ],
        [
         "GRAFFITI >OR EQUAL $2500 BUT <$30K",
         2
        ],
        [
         "ESCAPE FROM CUSTODY",
         4
        ],
        [
         "POSS CONT SUB PEN GRP 2 > OR EQUAL  1G<4G",
         2
        ],
        [
         "ROBBERY OF INDIVIDUAL (AGG)",
         3618
        ],
        [
         "MAN DEL CONT SUB PEN GRP 1 <1G *DRUG FREE ZONE*",
         1
        ],
        [
         "THEFT OF PROP <$2500  2/MORE PREV CONV (BY EMP)",
         1
        ],
        [
         "CRUELTY TO NON-LIVESTOCK ANIMAL-TORTURE",
         44
        ],
        [
         "THEFT OF PROP (AUTO ACC) > OR EQUAL $2500 BUT<$30K ENH(NOT EMP)",
         6
        ],
        [
         "POSS MARIJUANA >2OZ< OR EQUAL 4OZ",
         10
        ],
        [
         "FALSE STATEMENT FOR PROPERTY/CREDIT $30K < $150K",
         14
        ],
        [
         "LEWD/IMMORAL/INDECENT CONDUCT",
         1
        ],
        [
         "POSS CONT SUB PEN GRP 1 <1G *DRUG FREE ZONE*",
         3
        ],
        [
         "ROBBERY OF INDIVIDUAL",
         894
        ],
        [
         "TRAF VIO - DUTY ON STRIKE UNATTENDED (PARKED) VEHICLE< $200 DAMAG",
         184
        ],
        [
         "PROHIBITED WEAPON KNUCKLES",
         6
        ],
        [
         "MANSLAUGHTER (TRAFFIC FATALITY)",
         3
        ],
        [
         "FRAUD USE/POSS IDENTIFYING INFO # ITEMS 10<50",
         12
        ],
        [
         "THEFT OF PROP (AUTO ACC) <$2,500 2+ PREV CONV (NOT  EMP)(P.C. 31.03 E4D)",
         2
        ],
        [
         "THEFT OF PROP (AUTO ACC) > OR EQUAL $300K - (NOT EMP)",
         1
        ],
        [
         "UNLAWFUL CARRY HANDGUN LIC HOLDER",
         1
        ],
        [
         "UCR - THEFT OF PROPERTY",
         352
        ],
        [
         "FORGERY GOVT/NATION INST/MONEY/SECURITY ELDER",
         9
        ],
        [
         "POSS MARIJUANA <2OZ *DRUG FREE ZONE*",
         11
        ],
        [
         "THEFT OF PROP > OR EQUAL $300K (BY EMPLOYEE)",
         1
        ],
        [
         "CRIMINAL TRESPASS HAB/DEADLY WEAP/INFRASTRUC",
         28
        ],
        [
         "DWI 2 OR MORE PREV CONV",
         38
        ],
        [
         "UCR - ASSAULT (AGG) M/V",
         22
        ],
        [
         "MAN DEL CONT SUB PEN GRP 1 <1G",
         5
        ],
        [
         "POSS MARIJUANA >5LBS< OR EQUAL 50LBS",
         1
        ],
        [
         "THEFT OF PROP (ATT) > OR EQUAL $750 BUT <$2,500 (NOT EMP)",
         3
        ],
        [
         "TRAF VIO - DUTY ON STRIKE FIXTURE/HWY LANDSCAPE> OR EQUAL $200",
         686
        ],
        [
         "ARSON -OTHER COMMERCIAL - UNINHABITED",
         3
        ],
        [
         "GRAFFITI WORSHIP BURIAL/PUBLIC MONUMENT/SCHOOL",
         2
        ],
        [
         "ACCIDENT INV DAMAGE TO VEHICLE",
         6228
        ],
        [
         "ARSON -(W BODILY INJURY OR DEATH)-ALL OTH STRUCT - INHABIT",
         1
        ],
        [
         "POSS OF DANGEROUS DRUG",
         5
        ],
        [
         "THEFT OF PROP >$100 BUT <$750 ENH -SHOPLIFT - NOT BY EMP",
         17
        ],
        [
         "POSS MARIJUANA >4OZ< OR EQUAL 5LBS *DRUG FREE ZONE*",
         5
        ],
        [
         "FRAUD INTENT OBTAIN PRESCRIP NOT MED NEEDED SCHED LLL OR I",
         6
        ],
        [
         "FALSE STATEMENT FOR PROPERTY/CREDIT $2500 < $30K",
         20
        ],
        [
         "FRAUD DESTROY REMOVAL CONCEALMENT WRITING",
         15
        ],
        [
         "IMPERSONATE PUBLIC SERVANT",
         8
        ],
        [
         "ASSAULT (AGG) -PUB SERV (NON LAW ENF) - SER BODY INJURY",
         1
        ],
        [
         "THEFT OF PROP (AUTO ACC) > OR EQUAL $100 BUT<$750(NOT EMP",
         781
        ],
        [
         "THEFT OF SERVICE > OR EQUAL $100 BUT <$750",
         61
        ],
        [
         "BURGLARY OF HABITATION INTEND TO COMMIT ROBBERY",
         28
        ],
        [
         "THEFT OF SERVICE (ATT) < $100",
         2
        ],
        [
         "PURCHASE FURNISH ALCOHOL TO A MINOR",
         1
        ],
        [
         "THEFT OF PROP (AUTO ACC) $750 BUT <$2500 ENH - (NOT EMP)",
         13
        ],
        [
         "TAMPER W/GOVT REC-INS DOC-DEFRAUD/HARM",
         4
        ],
        [
         "CRIM MISCHIEF TRANS/COMM EQUIP/DEV <$150,000",
         1
        ],
        [
         "CRIM MISCHIEF >OR EQUAL $30K BUT <$150K",
         9
        ],
        [
         "EVADING ARREST DETENTION",
         141
        ],
        [
         "THEFT OF PROP > OR EQUAL $100 BUT <$750 (BY EMPLOYEE)",
         150
        ],
        [
         "PLACE WEAPONS PROHIBITED",
         19
        ],
        [
         "FICTITIOUS LICENSE PLATE",
         1
        ],
        [
         "POSS CONT SUB PEN GRP 1 > OR EQUAL 1G<4G",
         30
        ],
        [
         "THEFT FROM PERSON",
         360
        ],
        [
         "ASSAULT (AGG) -SERIOUS BODILY INJURY",
         187
        ],
        [
         "ARSON -OTHER RESIDENCE - UNINHABITED",
         8
        ],
        [
         "ARSON -SINGLE RESIDENCE UNINHABITED",
         16
        ],
        [
         "GRAFFITI >OR EQUAL $100 BUT <$750",
         38
        ],
        [
         "THEFT OF PROP > OR EQUAL $150K<$300K -SHOPLIFT  (NOT EMP)",
         1
        ],
        [
         "ASSAULT (AGG) -DEADLY WEAPON",
         1196
        ],
        [
         "DISORDERLY CONDUCT DISCHARGE/DISPLAY FIREARM",
         26
        ],
        [
         "FOUND PROPERTY (NO OFFENSE)",
         3686
        ],
        [
         "TRAF VIO - DUTY ON STRIKE FIXTURE/HWY LANDSCAPE< $200",
         122
        ],
        [
         "TRAF VIO - DUTY ON STRIKE UNATTENDED (PARKED) VEHICLE >$200 DAMAGE",
         1732
        ],
        [
         "TAMPER W/GOVT RECORD DEFRAUD/HARM",
         1
        ],
        [
         "TAMPER W/GOVT RECORD W/INT MAKE GENUINE",
         2
        ],
        [
         "CRIMINAL NEGLIGENT HOMICIDE",
         30
        ],
        [
         "THEFT OF PROP (AUTO ACC) <$100 ENH - (NOT EMP)",
         1
        ],
        [
         "KIDNAPPING (AGG) -TERRORIZE PERSON OR 3RD PARTY",
         1
        ],
        [
         "UCR - BMV-",
         1
        ],
        [
         "CRIM MISCHIEF >OR EQUAL $100 BUT <$750",
         6416
        ],
        [
         "THEFT OF PROP > OR EQUAL $2,500 BUT  <$30K (BY EMPLOYEE)",
         88
        ],
        [
         "THEFT OF PROP (AUTO ACC) > OR EQUAL $2,500 BUT <$30K(BY EMP",
         3
        ],
        [
         "THEFT OF PROP > OR EQUAL $300K-OTHER THAN SHOPLIFT",
         2
        ],
        [
         "UNAUTHORIZED USE OF MOTOR VEH - TRUCK OR BUS",
         1723
        ],
        [
         "ASSAULT -VERBAL THREAT",
         548
        ],
        [
         "TERRORISTIC THREAT INTERRUPT PUBLIC PLACE",
         5
        ],
        [
         "HOAX BOMBS",
         9
        ],
        [
         "STALKING W/PREV CONVICTION",
         1
        ],
        [
         "THEFT OF PROP > OR EQUAL $2,500 BUT <$30K- NOT SHOPLIFT",
         900
        ],
        [
         "THEFT OF PROP > OR EQUAL $30K<$150K- NOT SHOPLIFT",
         123
        ],
        [
         "DWI BAC > OR EQUAL TO 0.15",
         57
        ],
        [
         "ATTACK BY DANGEROUS DOG",
         211
        ],
        [
         "INJURED PERSON- PUBLIC PROPERTY (OTHER THEN FIREARM) (NO OFFENSE)",
         1409
        ],
        [
         "THEFT OF PROP $100 BUT <$750 ENH (BY EMPLOYEE)",
         3
        ],
        [
         "KIDNAPPING",
         5
        ],
        [
         "ILLEGAL DUMPING >5 LBS < 500 LBS",
         68
        ],
        [
         "TRAF VIO - RACING ON HIGHWAY",
         5
        ],
        [
         "ASSAULT (AGG) -DISCH FIREARM  OCC BLDG/HOUSE/VEH (AGG)",
         113
        ],
        [
         "INJURY CHILD/ELDERLY/DISABLED-INT-BODILY INJURY-HEALTH CAR",
         2
        ],
        [
         "CRIM MISCHIEF >OR EQUAL $2,500 BUT <$30K",
         584
        ],
        [
         "THEFT OF PROP > OR EQUAL $750 BUT <$2,500 (BY EMPLOYEE)",
         92
        ],
        [
         "INHALANT PARAPHERNALIA USES OR POSS",
         2
        ],
        [
         "THEFT OF PROP > OR EQUAL $20 BUT <$500 BY CHECK ENH",
         1
        ],
        [
         "THEFT OF PROP > OR EQUAL $750 BUT <$2,500 -SHOPLIFT (NOT EMP",
         276
        ],
        [
         "TAMPER W/GOVT REC-INS DOC (A)(2,5)",
         4
        ],
        [
         "THEFT OF PROP <$100 ENH -SHOPLIFTING -  (NOT BY EMP)",
         9
        ],
        [
         "MAN DEL CONT SUB PEN GRP 2 > OR EQUAL 1G *DRUG FREE ZONE*",
         1
        ],
        [
         "BURGLARY OF BUILDING (ATT)",
         77
        ],
        [
         "FALSE STATEMENT FOR PROPERTY/CREDIT >$300K",
         1
        ],
        [
         "CRIM MISCHIEF >$750  BUT <$30K DESTROY SCHOOL",
         1
        ],
        [
         "FALSE ALARM OR REPORT",
         40
        ],
        [
         "MAN DEL CONT SUB PEN GRP 1 > OR EQUAL 400G",
         2
        ],
        [
         "THEFT OF PROP <$100 ENH -NOT SHOPLIFT",
         1
        ]
       ],
       "datasetInfos": [],
       "dbfsResultPath": null,
       "isJsonSchema": true,
       "metadata": {},
       "overflow": false,
       "plotOptions": {
        "customPlotOptions": {},
        "displayType": "table",
        "pivotAggregation": null,
        "pivotColumns": null,
        "xColumns": null,
        "yColumns": null
       },
       "removedWidgets": [],
       "schema": [
        {
         "metadata": "{}",
         "name": "typeOfIncident",
         "type": "\"string\""
        },
        {
         "metadata": "{}",
         "name": "count",
         "type": "\"long\""
        }
       ],
       "type": "table"
      }
     },
     "output_type": "display_data"
    },
    {
     "name": "stdout",
     "output_type": "stream",
     "text": [
      "Boston\n"
     ]
    },
    {
     "data": {
      "text/html": [
       "<style scoped>\n",
       "  .table-result-container {\n",
       "    max-height: 300px;\n",
       "    overflow: auto;\n",
       "  }\n",
       "  table, th, td {\n",
       "    border: 1px solid black;\n",
       "    border-collapse: collapse;\n",
       "  }\n",
       "  th, td {\n",
       "    padding: 5px;\n",
       "  }\n",
       "  th {\n",
       "    text-align: left;\n",
       "  }\n",
       "</style><div class='table-result-container'><table class='table-result'><thead style='background-color: white'><tr><th>OFFENSE_CODE_GROUP</th><th>count</th></tr></thead><tbody><tr><td>Larceny</td><td>17876</td></tr><tr><td>Auto Theft Recovery</td><td>686</td></tr><tr><td>Firearm Discovery</td><td>508</td></tr><tr><td>Recovered Stolen Property</td><td>968</td></tr><tr><td>License Plate Related Incidents</td><td>366</td></tr><tr><td>License Violation</td><td>1152</td></tr><tr><td>Motor Vehicle Accident Response</td><td>25274</td></tr><tr><td>Liquor Violation</td><td>706</td></tr><tr><td>Assembly or Gathering Violations</td><td>698</td></tr><tr><td>Property Found</td><td>2601</td></tr><tr><td>Simple Assault</td><td>10448</td></tr><tr><td>Warrant Arrests</td><td>5624</td></tr><tr><td>Prisoner Related Incidents</td><td>164</td></tr><tr><td>Drug Violation</td><td>11630</td></tr><tr><td>Robbery</td><td>3325</td></tr><tr><td>Embezzlement</td><td>186</td></tr><tr><td>Missing Person Located</td><td>3418</td></tr><tr><td>Investigate Property</td><td>7200</td></tr><tr><td>Indecent Assault</td><td>336</td></tr><tr><td>Firearm Violations</td><td>1252</td></tr><tr><td>Towed</td><td>7374</td></tr><tr><td>Commercial Burglary</td><td>974</td></tr><tr><td>Operating Under the Influence</td><td>411</td></tr><tr><td>Counterfeiting</td><td>1008</td></tr><tr><td>Arson</td><td>67</td></tr><tr><td>Fraud</td><td>3702</td></tr><tr><td>Homicide</td><td>106</td></tr><tr><td>Offenses Against Child / Family</td><td>376</td></tr><tr><td>Other</td><td>12327</td></tr><tr><td>Larceny From Motor Vehicle</td><td>7673</td></tr><tr><td>Gambling</td><td>3</td></tr><tr><td>Landlord/Tenant Disputes</td><td>629</td></tr><tr><td>Manslaughter</td><td>6</td></tr><tr><td>Missing Person Reported</td><td>2714</td></tr><tr><td>Criminal Harassment</td><td>92</td></tr><tr><td>Residential Burglary</td><td>4171</td></tr><tr><td>Violations</td><td>4357</td></tr><tr><td>Investigate Person</td><td>13318</td></tr><tr><td>Other Burglary</td><td>335</td></tr><tr><td>Fire Related Reports</td><td>1329</td></tr><tr><td>Harbor Related Incidents</td><td>140</td></tr><tr><td>Verbal Disputes</td><td>8538</td></tr><tr><td>Property Lost</td><td>6385</td></tr><tr><td>Explosives</td><td>19</td></tr><tr><td>Phone Call Complaints</td><td>17</td></tr><tr><td>Evading Fare</td><td>289</td></tr><tr><td>HUMAN TRAFFICKING</td><td>7</td></tr><tr><td>Prostitution</td><td>192</td></tr><tr><td>Aircraft</td><td>25</td></tr><tr><td>Medical Assistance</td><td>15188</td></tr><tr><td>Police Service Incidents</td><td>1878</td></tr><tr><td>Disorderly Conduct</td><td>1849</td></tr><tr><td>Service</td><td>200</td></tr><tr><td>Restraining Order Violations</td><td>1117</td></tr><tr><td>Property Related Damage</td><td>619</td></tr><tr><td>Auto Theft</td><td>3412</td></tr><tr><td>Search Warrants</td><td>683</td></tr><tr><td>Sex Offender Registration</td><td>513</td></tr><tr><td>Confidence Games</td><td>2274</td></tr><tr><td>Ballistics</td><td>690</td></tr><tr><td>Harassment</td><td>2669</td></tr><tr><td>Vandalism</td><td>11093</td></tr><tr><td>Aggravated Assault</td><td>5307</td></tr><tr><td>Bomb Hoax</td><td>63</td></tr><tr><td>HOME INVASION</td><td>49</td></tr><tr><td>HUMAN TRAFFICKING - INVOLUNTARY SERVITUDE</td><td>2</td></tr><tr><td>Burglary - No Property Taken</td><td>2</td></tr></tbody></table></div>"
      ]
     },
     "metadata": {
      "application/vnd.databricks.v1+output": {
       "addedWidgets": {},
       "aggData": [],
       "aggError": "",
       "aggOverflow": false,
       "aggSchema": [],
       "aggSeriesLimitReached": false,
       "aggType": "",
       "arguments": {},
       "columnCustomDisplayInfos": {},
       "data": [
        [
         "Larceny",
         17876
        ],
        [
         "Auto Theft Recovery",
         686
        ],
        [
         "Firearm Discovery",
         508
        ],
        [
         "Recovered Stolen Property",
         968
        ],
        [
         "License Plate Related Incidents",
         366
        ],
        [
         "License Violation",
         1152
        ],
        [
         "Motor Vehicle Accident Response",
         25274
        ],
        [
         "Liquor Violation",
         706
        ],
        [
         "Assembly or Gathering Violations",
         698
        ],
        [
         "Property Found",
         2601
        ],
        [
         "Simple Assault",
         10448
        ],
        [
         "Warrant Arrests",
         5624
        ],
        [
         "Prisoner Related Incidents",
         164
        ],
        [
         "Drug Violation",
         11630
        ],
        [
         "Robbery",
         3325
        ],
        [
         "Embezzlement",
         186
        ],
        [
         "Missing Person Located",
         3418
        ],
        [
         "Investigate Property",
         7200
        ],
        [
         "Indecent Assault",
         336
        ],
        [
         "Firearm Violations",
         1252
        ],
        [
         "Towed",
         7374
        ],
        [
         "Commercial Burglary",
         974
        ],
        [
         "Operating Under the Influence",
         411
        ],
        [
         "Counterfeiting",
         1008
        ],
        [
         "Arson",
         67
        ],
        [
         "Fraud",
         3702
        ],
        [
         "Homicide",
         106
        ],
        [
         "Offenses Against Child / Family",
         376
        ],
        [
         "Other",
         12327
        ],
        [
         "Larceny From Motor Vehicle",
         7673
        ],
        [
         "Gambling",
         3
        ],
        [
         "Landlord/Tenant Disputes",
         629
        ],
        [
         "Manslaughter",
         6
        ],
        [
         "Missing Person Reported",
         2714
        ],
        [
         "Criminal Harassment",
         92
        ],
        [
         "Residential Burglary",
         4171
        ],
        [
         "Violations",
         4357
        ],
        [
         "Investigate Person",
         13318
        ],
        [
         "Other Burglary",
         335
        ],
        [
         "Fire Related Reports",
         1329
        ],
        [
         "Harbor Related Incidents",
         140
        ],
        [
         "Verbal Disputes",
         8538
        ],
        [
         "Property Lost",
         6385
        ],
        [
         "Explosives",
         19
        ],
        [
         "Phone Call Complaints",
         17
        ],
        [
         "Evading Fare",
         289
        ],
        [
         "HUMAN TRAFFICKING",
         7
        ],
        [
         "Prostitution",
         192
        ],
        [
         "Aircraft",
         25
        ],
        [
         "Medical Assistance",
         15188
        ],
        [
         "Police Service Incidents",
         1878
        ],
        [
         "Disorderly Conduct",
         1849
        ],
        [
         "Service",
         200
        ],
        [
         "Restraining Order Violations",
         1117
        ],
        [
         "Property Related Damage",
         619
        ],
        [
         "Auto Theft",
         3412
        ],
        [
         "Search Warrants",
         683
        ],
        [
         "Sex Offender Registration",
         513
        ],
        [
         "Confidence Games",
         2274
        ],
        [
         "Ballistics",
         690
        ],
        [
         "Harassment",
         2669
        ],
        [
         "Vandalism",
         11093
        ],
        [
         "Aggravated Assault",
         5307
        ],
        [
         "Bomb Hoax",
         63
        ],
        [
         "HOME INVASION",
         49
        ],
        [
         "HUMAN TRAFFICKING - INVOLUNTARY SERVITUDE",
         2
        ],
        [
         "Burglary - No Property Taken",
         2
        ]
       ],
       "datasetInfos": [],
       "dbfsResultPath": null,
       "isJsonSchema": true,
       "metadata": {},
       "overflow": false,
       "plotOptions": {
        "customPlotOptions": {},
        "displayType": "table",
        "pivotAggregation": null,
        "pivotColumns": null,
        "xColumns": null,
        "yColumns": null
       },
       "removedWidgets": [],
       "schema": [
        {
         "metadata": "{}",
         "name": "OFFENSE_CODE_GROUP",
         "type": "\"string\""
        },
        {
         "metadata": "{}",
         "name": "count",
         "type": "\"long\""
        }
       ],
       "type": "table"
      }
     },
     "output_type": "display_data"
    }
   ],
   "source": [
    "crimeTypesDataNYDF = crimeDataNYDF.groupBy(\"offenseDescription\").count()\n",
    "crimeTypesDataLosAngelesDF = crimeDataLosAngelesDF.groupBy(\"crimeCodeDescription\").count()\n",
    "crimeTypesDataChicagoDF = crimeDataChicagoDF.groupBy(\"description\").count()\n",
    "crimeTypesDataPhiladelphiaDF = crimeDataPhiladelphiaDF.groupBy(\"text_general_code\").count()\n",
    "crimeTypesDataDallasDF = crimeDataDallasDF.groupBy(\"typeOfIncident\").count()\n",
    "crimeTypesDataBostonDF = crimeDataBostonDF.groupBy(\"OFFENSE_CODE_GROUP\").count()\n",
    "print(\"New York\")\n",
    "display(crimeTypesDataNYDF)\n",
    "print(\"Los Angeles\")\n",
    "display(crimeTypesDataLosAngelesDF)\n",
    "print(\"Chicago\")\n",
    "display(crimeTypesDataChicagoDF)\n",
    "print(\"Philadelphia\")\n",
    "display(crimeTypesDataPhiladelphiaDF)\n",
    "print(\"Dallas\")\n",
    "display(crimeTypesDataDallasDF)\n",
    "print(\"Boston\")\n",
    "display(crimeTypesDataBostonDF)"
   ]
  },
  {
   "cell_type": "markdown",
   "metadata": {
    "application/vnd.databricks.v1+cell": {
     "cellMetadata": {},
     "inputWidgets": {},
     "nuid": "38ef09b8-2c4d-48cb-8979-51a3eec6b049",
     "showTitle": false,
     "title": ""
    }
   },
   "source": [
    "## 3. Total Robbery count for each of the 3 United States cities listed below using crime-data-2016:\n",
    "* Los Angeles\n",
    "* Philadelphia\n",
    "* Dallas"
   ]
  },
  {
   "cell_type": "code",
   "execution_count": null,
   "metadata": {
    "application/vnd.databricks.v1+cell": {
     "cellMetadata": {
      "byteLimit": 2048000,
      "rowLimit": 10000
     },
     "inputWidgets": {},
     "nuid": "871cdf41-21ef-4532-8d4f-22cc7b20348c",
     "showTitle": false,
     "title": ""
    }
   },
   "outputs": [
    {
     "name": "stdout",
     "output_type": "stream",
     "text": [
      "Robbery count in Los Angeles 10275\n",
      "Robbery count in Philadelphia 6149\n",
      "Robbery count in Dallas 6852\n"
     ]
    }
   ],
   "source": [
    "# crimeDataLosAngelesDF_lower = crimeDataLosAngelesDF.select(lower(col(\"crimeCodeDescription\")).alias(\"robbery_lower\"))\n",
    "# crimeDataPhiladelphiaDF_lower = crimeDataPhiladelphiaDF.select(lower(col(\"ucr_general_description\")).alias(\"robbery_lower\"))\n",
    "# crimeTypesDataDallasDF_lower = crimeTypesDataDallasDF.select(lower(col(\"typeOfIncident\")).alias(\"robbery_lower\"))\n",
    "\n",
    "robbery_count_LosAngeles = crimeDataLosAngelesDF.filter(lower(col(\"crimeCodeDescription\")).contains(\"robbery\")).count()\n",
    "robbery_count_Philadelphia = crimeDataPhiladelphiaDF.filter(lower(col(\"ucr_general_description\")).contains(\"robbery\")).count()\n",
    "robbery_count_Dallas = crimeDataDallasDF.filter(lower(col(\"typeOfIncident\")).contains(\"robbery\")).count()\n",
    "\n",
    "print('Robbery count in Los Angeles',robbery_count_LosAngeles)\n",
    "print('Robbery count in Philadelphia',robbery_count_Philadelphia)\n",
    "print('Robbery count in Dallas',robbery_count_Dallas)"
   ]
  },
  {
   "cell_type": "markdown",
   "metadata": {
    "application/vnd.databricks.v1+cell": {
     "cellMetadata": {},
     "inputWidgets": {},
     "nuid": "66582f4b-8d69-445f-9569-b7a65bf19172",
     "showTitle": false,
     "title": ""
    }
   },
   "source": [
    "## 4. Highest and Lowest Robbery counts for each of the 3 United States cities listed below using crime-data-2016:\n",
    "* Los Angeles\n",
    "* Philadelphia\n",
    "* Dallas"
   ]
  },
  {
   "cell_type": "code",
   "execution_count": null,
   "metadata": {
    "application/vnd.databricks.v1+cell": {
     "cellMetadata": {
      "byteLimit": 2048000,
      "implicitDf": true,
      "rowLimit": 10000
     },
     "inputWidgets": {},
     "nuid": "01795d74-d675-4fe1-8a1b-778c5e7ca8d2",
     "showTitle": false,
     "title": ""
    }
   },
   "outputs": [
    {
     "name": "stdout",
     "output_type": "stream",
     "text": [
      "Number of highest robberies in Los Angeles\n"
     ]
    },
    {
     "data": {
      "text/html": [
       "<style scoped>\n",
       "  .table-result-container {\n",
       "    max-height: 300px;\n",
       "    overflow: auto;\n",
       "  }\n",
       "  table, th, td {\n",
       "    border: 1px solid black;\n",
       "    border-collapse: collapse;\n",
       "  }\n",
       "  th, td {\n",
       "    padding: 5px;\n",
       "  }\n",
       "  th {\n",
       "    text-align: left;\n",
       "  }\n",
       "</style><div class='table-result-container'><table class='table-result'><thead style='background-color: white'><tr><th>crimeMonth</th><th>count</th></tr></thead><tbody><tr><td>12</td><td>958</td></tr></tbody></table></div>"
      ]
     },
     "metadata": {
      "application/vnd.databricks.v1+output": {
       "addedWidgets": {},
       "aggData": [],
       "aggError": "",
       "aggOverflow": false,
       "aggSchema": [],
       "aggSeriesLimitReached": false,
       "aggType": "",
       "arguments": {},
       "columnCustomDisplayInfos": {},
       "data": [
        [
         "12",
         958
        ]
       ],
       "datasetInfos": [],
       "dbfsResultPath": null,
       "isJsonSchema": true,
       "metadata": {},
       "overflow": false,
       "plotOptions": {
        "customPlotOptions": {},
        "displayType": "table",
        "pivotAggregation": null,
        "pivotColumns": null,
        "xColumns": null,
        "yColumns": null
       },
       "removedWidgets": [],
       "schema": [
        {
         "metadata": "{}",
         "name": "crimeMonth",
         "type": "\"string\""
        },
        {
         "metadata": "{}",
         "name": "count",
         "type": "\"long\""
        }
       ],
       "type": "table"
      }
     },
     "output_type": "display_data"
    },
    {
     "name": "stdout",
     "output_type": "stream",
     "text": [
      "Number of lowest robberies in LosAngels\n"
     ]
    },
    {
     "data": {
      "text/html": [
       "<style scoped>\n",
       "  .table-result-container {\n",
       "    max-height: 300px;\n",
       "    overflow: auto;\n",
       "  }\n",
       "  table, th, td {\n",
       "    border: 1px solid black;\n",
       "    border-collapse: collapse;\n",
       "  }\n",
       "  th, td {\n",
       "    padding: 5px;\n",
       "  }\n",
       "  th {\n",
       "    text-align: left;\n",
       "  }\n",
       "</style><div class='table-result-container'><table class='table-result'><thead style='background-color: white'><tr><th>crimeMonth</th><th>count</th></tr></thead><tbody><tr><td>02</td><td>757</td></tr></tbody></table></div>"
      ]
     },
     "metadata": {
      "application/vnd.databricks.v1+output": {
       "addedWidgets": {},
       "aggData": [],
       "aggError": "",
       "aggOverflow": false,
       "aggSchema": [],
       "aggSeriesLimitReached": false,
       "aggType": "",
       "arguments": {},
       "columnCustomDisplayInfos": {},
       "data": [
        [
         "02",
         757
        ]
       ],
       "datasetInfos": [],
       "dbfsResultPath": null,
       "isJsonSchema": true,
       "metadata": {},
       "overflow": false,
       "plotOptions": {
        "customPlotOptions": {},
        "displayType": "table",
        "pivotAggregation": null,
        "pivotColumns": null,
        "xColumns": null,
        "yColumns": null
       },
       "removedWidgets": [],
       "schema": [
        {
         "metadata": "{}",
         "name": "crimeMonth",
         "type": "\"string\""
        },
        {
         "metadata": "{}",
         "name": "count",
         "type": "\"long\""
        }
       ],
       "type": "table"
      }
     },
     "output_type": "display_data"
    }
   ],
   "source": [
    "LosAngelsCrimeData = crimeDataLosAngelesDF.withColumn(\"crimeMonth\",split(col(\"timeOccurred\"),\"-\").getItem(1)).withColumn(\"crime\",lower(col(\"crimeCodeDescription\"))) \n",
    "robberiesForMonthLosAngelesDF = LosAngelsCrimeData.select(\"crimeMonth\",\"crime\").filter(\"crime like '%robbery%'\")\n",
    "robberyCountMaximumLosAngeles = robberiesForMonthLosAngelesDF.groupBy(\"crimeMonth\").count().sort('count',ascending=False).withColumnRenamed(\"Number\",\"Number of highest robberies in LosAngeles\").take(1)\n",
    "robberyCountMinimumLosAngeles = robberiesForMonthLosAngelesDF.groupBy(\"crimeMonth\").count().sort('count',ascending=True).withColumnRenamed(\"Number\",\" Number of lowest robberies in LosAngels\").take(1)\n",
    "print(\"Number of highest robberies in Los Angeles\")\n",
    "display(robberyCountMaximumLosAngeles)\n",
    "print(\"Number of lowest robberies in LosAngels\")\n",
    "display(robberyCountMinimumLosAngeles)"
   ]
  },
  {
   "cell_type": "code",
   "execution_count": null,
   "metadata": {
    "application/vnd.databricks.v1+cell": {
     "cellMetadata": {
      "byteLimit": 2048000,
      "rowLimit": 10000
     },
     "inputWidgets": {},
     "nuid": "36c343d0-3f46-449a-ac9b-02698a6ca5b7",
     "showTitle": false,
     "title": ""
    }
   },
   "outputs": [
    {
     "name": "stdout",
     "output_type": "stream",
     "text": [
      "Number of highest robberies in Philadelphia\n"
     ]
    },
    {
     "data": {
      "text/html": [
       "<style scoped>\n",
       "  .table-result-container {\n",
       "    max-height: 300px;\n",
       "    overflow: auto;\n",
       "  }\n",
       "  table, th, td {\n",
       "    border: 1px solid black;\n",
       "    border-collapse: collapse;\n",
       "  }\n",
       "  th, td {\n",
       "    padding: 5px;\n",
       "  }\n",
       "  th {\n",
       "    text-align: left;\n",
       "  }\n",
       "</style><div class='table-result-container'><table class='table-result'><thead style='background-color: white'><tr><th>crimeMonth</th><th>count</th></tr></thead><tbody><tr><td>10</td><td>572</td></tr></tbody></table></div>"
      ]
     },
     "metadata": {
      "application/vnd.databricks.v1+output": {
       "addedWidgets": {},
       "aggData": [],
       "aggError": "",
       "aggOverflow": false,
       "aggSchema": [],
       "aggSeriesLimitReached": false,
       "aggType": "",
       "arguments": {},
       "columnCustomDisplayInfos": {},
       "data": [
        [
         "10",
         572
        ]
       ],
       "datasetInfos": [],
       "dbfsResultPath": null,
       "isJsonSchema": true,
       "metadata": {},
       "overflow": false,
       "plotOptions": {
        "customPlotOptions": {},
        "displayType": "table",
        "pivotAggregation": null,
        "pivotColumns": null,
        "xColumns": null,
        "yColumns": null
       },
       "removedWidgets": [],
       "schema": [
        {
         "metadata": "{}",
         "name": "crimeMonth",
         "type": "\"string\""
        },
        {
         "metadata": "{}",
         "name": "count",
         "type": "\"long\""
        }
       ],
       "type": "table"
      }
     },
     "output_type": "display_data"
    },
    {
     "name": "stdout",
     "output_type": "stream",
     "text": [
      "Number of lowest robberies in Philadelphia\n"
     ]
    },
    {
     "data": {
      "text/html": [
       "<style scoped>\n",
       "  .table-result-container {\n",
       "    max-height: 300px;\n",
       "    overflow: auto;\n",
       "  }\n",
       "  table, th, td {\n",
       "    border: 1px solid black;\n",
       "    border-collapse: collapse;\n",
       "  }\n",
       "  th, td {\n",
       "    padding: 5px;\n",
       "  }\n",
       "  th {\n",
       "    text-align: left;\n",
       "  }\n",
       "</style><div class='table-result-container'><table class='table-result'><thead style='background-color: white'><tr><th>crimeMonth</th><th>count</th></tr></thead><tbody><tr><td>02</td><td>416</td></tr></tbody></table></div>"
      ]
     },
     "metadata": {
      "application/vnd.databricks.v1+output": {
       "addedWidgets": {},
       "aggData": [],
       "aggError": "",
       "aggOverflow": false,
       "aggSchema": [],
       "aggSeriesLimitReached": false,
       "aggType": "",
       "arguments": {},
       "columnCustomDisplayInfos": {},
       "data": [
        [
         "02",
         416
        ]
       ],
       "datasetInfos": [],
       "dbfsResultPath": null,
       "isJsonSchema": true,
       "metadata": {},
       "overflow": false,
       "plotOptions": {
        "customPlotOptions": {},
        "displayType": "table",
        "pivotAggregation": null,
        "pivotColumns": null,
        "xColumns": null,
        "yColumns": null
       },
       "removedWidgets": [],
       "schema": [
        {
         "metadata": "{}",
         "name": "crimeMonth",
         "type": "\"string\""
        },
        {
         "metadata": "{}",
         "name": "count",
         "type": "\"long\""
        }
       ],
       "type": "table"
      }
     },
     "output_type": "display_data"
    }
   ],
   "source": [
    "PhiladelphiaCrimeData = crimeDataPhiladelphiaDF.withColumn(\"crimeMonth\",split(col(\"dispatch_date_time\"),\"-\").getItem(1)).withColumn(\"crime\",lower(col(\"ucr_general_description\"))) \n",
    "robberiesForMonthPhiladelphiaDF = PhiladelphiaCrimeData.select(\"crimeMonth\",\"crime\").filter(\"crime like '%robbery%'\")\n",
    "robberyCountMaximumPhiladelphia = robberiesForMonthPhiladelphiaDF.groupBy(\"crimeMonth\").count().sort('count',ascending=False).withColumnRenamed(\"Number\",\"Number of highest robberies in Philadelphia\").take(1)\n",
    "robberyCountMinimumPhiladelphia = robberiesForMonthPhiladelphiaDF.groupBy(\"crimeMonth\").count().sort('count',ascending=True).withColumnRenamed(\"Number\",\" Number of lowest robberies in Philadelphia\").take(1)\n",
    "print(\"Number of highest robberies in Philadelphia\")\n",
    "display(robberyCountMaximumPhiladelphia)\n",
    "print(\"Number of lowest robberies in Philadelphia\")\n",
    "display(robberyCountMinimumPhiladelphia)"
   ]
  },
  {
   "cell_type": "code",
   "execution_count": null,
   "metadata": {
    "application/vnd.databricks.v1+cell": {
     "cellMetadata": {
      "byteLimit": 2048000,
      "rowLimit": 10000
     },
     "inputWidgets": {},
     "nuid": "0954264c-148e-4d88-b505-139abf43a028",
     "showTitle": false,
     "title": ""
    }
   },
   "outputs": [
    {
     "name": "stdout",
     "output_type": "stream",
     "text": [
      "Number of highest robberies in Dallas\n"
     ]
    },
    {
     "data": {
      "text/html": [
       "<style scoped>\n",
       "  .table-result-container {\n",
       "    max-height: 300px;\n",
       "    overflow: auto;\n",
       "  }\n",
       "  table, th, td {\n",
       "    border: 1px solid black;\n",
       "    border-collapse: collapse;\n",
       "  }\n",
       "  th, td {\n",
       "    padding: 5px;\n",
       "  }\n",
       "  th {\n",
       "    text-align: left;\n",
       "  }\n",
       "</style><div class='table-result-container'><table class='table-result'><thead style='background-color: white'><tr><th>crimeMonth</th><th>count</th></tr></thead><tbody><tr><td>01</td><td>743</td></tr></tbody></table></div>"
      ]
     },
     "metadata": {
      "application/vnd.databricks.v1+output": {
       "addedWidgets": {},
       "aggData": [],
       "aggError": "",
       "aggOverflow": false,
       "aggSchema": [],
       "aggSeriesLimitReached": false,
       "aggType": "",
       "arguments": {},
       "columnCustomDisplayInfos": {},
       "data": [
        [
         "01",
         743
        ]
       ],
       "datasetInfos": [],
       "dbfsResultPath": null,
       "isJsonSchema": true,
       "metadata": {},
       "overflow": false,
       "plotOptions": {
        "customPlotOptions": {},
        "displayType": "table",
        "pivotAggregation": null,
        "pivotColumns": null,
        "xColumns": null,
        "yColumns": null
       },
       "removedWidgets": [],
       "schema": [
        {
         "metadata": "{}",
         "name": "crimeMonth",
         "type": "\"string\""
        },
        {
         "metadata": "{}",
         "name": "count",
         "type": "\"long\""
        }
       ],
       "type": "table"
      }
     },
     "output_type": "display_data"
    },
    {
     "name": "stdout",
     "output_type": "stream",
     "text": [
      "Number of lowest robberies in Dallas\n"
     ]
    },
    {
     "data": {
      "text/html": [
       "<style scoped>\n",
       "  .table-result-container {\n",
       "    max-height: 300px;\n",
       "    overflow: auto;\n",
       "  }\n",
       "  table, th, td {\n",
       "    border: 1px solid black;\n",
       "    border-collapse: collapse;\n",
       "  }\n",
       "  th, td {\n",
       "    padding: 5px;\n",
       "  }\n",
       "  th {\n",
       "    text-align: left;\n",
       "  }\n",
       "</style><div class='table-result-container'><table class='table-result'><thead style='background-color: white'><tr><th>crimeMonth</th><th>count</th></tr></thead><tbody><tr><td>03</td><td>410</td></tr></tbody></table></div>"
      ]
     },
     "metadata": {
      "application/vnd.databricks.v1+output": {
       "addedWidgets": {},
       "aggData": [],
       "aggError": "",
       "aggOverflow": false,
       "aggSchema": [],
       "aggSeriesLimitReached": false,
       "aggType": "",
       "arguments": {},
       "columnCustomDisplayInfos": {},
       "data": [
        [
         "03",
         410
        ]
       ],
       "datasetInfos": [],
       "dbfsResultPath": null,
       "isJsonSchema": true,
       "metadata": {},
       "overflow": false,
       "plotOptions": {
        "customPlotOptions": {},
        "displayType": "table",
        "pivotAggregation": null,
        "pivotColumns": null,
        "xColumns": null,
        "yColumns": null
       },
       "removedWidgets": [],
       "schema": [
        {
         "metadata": "{}",
         "name": "crimeMonth",
         "type": "\"string\""
        },
        {
         "metadata": "{}",
         "name": "count",
         "type": "\"long\""
        }
       ],
       "type": "table"
      }
     },
     "output_type": "display_data"
    }
   ],
   "source": [
    "DallasCrimeData = crimeDataDallasDF.withColumn(\"crimeMonth\",split(col(\"callReceivedDateTime\"),\"/\").getItem(0)).withColumn(\"crime\",lower(col(\"typeOfIncident\"))) \n",
    "robberiesForMonthDallasDF = DallasCrimeData.select(\"crimeMonth\",\"crime\").filter(\"crime like '%robbery%'\")\n",
    "robberyCountMaximumDallas = robberiesForMonthDallasDF.groupBy(\"crimeMonth\").count().sort('count',ascending=False).withColumnRenamed(\"Number\",\"Number of highest robberies in Dallas\").take(1)\n",
    "robberyCountMinimumDallas = robberiesForMonthDallasDF.groupBy(\"crimeMonth\").count().sort('count',ascending=True).withColumnRenamed(\"Number\",\" Number of lowest robberies in Dallas\").take(1)\n",
    "print(\"Number of highest robberies in Dallas\")\n",
    "display(robberyCountMaximumDallas)\n",
    "print(\"Number of lowest robberies in Dallas\")\n",
    "display(robberyCountMinimumDallas)"
   ]
  },
  {
   "cell_type": "markdown",
   "metadata": {
    "application/vnd.databricks.v1+cell": {
     "cellMetadata": {},
     "inputWidgets": {},
     "nuid": "6adb5991-c497-43ae-b5e8-b5cb9288872d",
     "showTitle": false,
     "title": ""
    }
   },
   "source": [
    "## 5. Combine all three cities robberies-per-month views into one and Find the month with the Highest and Lowest combined Robbery counts using crime-data-2016:\n",
    "* Los Angeles\n",
    "* Philadelphia\n",
    "* Dallas\n"
   ]
  },
  {
   "cell_type": "code",
   "execution_count": null,
   "metadata": {
    "application/vnd.databricks.v1+cell": {
     "cellMetadata": {
      "byteLimit": 2048000,
      "rowLimit": 10000
     },
     "inputWidgets": {},
     "nuid": "a84fdd51-ae4d-4326-84f8-86cf3986c80b",
     "showTitle": false,
     "title": ""
    }
   },
   "outputs": [
    {
     "name": "stdout",
     "output_type": "stream",
     "text": [
      "Maximum Robbery Count in all 3 Cities\n"
     ]
    },
    {
     "data": {
      "text/html": [
       "<style scoped>\n",
       "  .table-result-container {\n",
       "    max-height: 300px;\n",
       "    overflow: auto;\n",
       "  }\n",
       "  table, th, td {\n",
       "    border: 1px solid black;\n",
       "    border-collapse: collapse;\n",
       "  }\n",
       "  th, td {\n",
       "    padding: 5px;\n",
       "  }\n",
       "  th {\n",
       "    text-align: left;\n",
       "  }\n",
       "</style><div class='table-result-container'><table class='table-result'><thead style='background-color: white'><tr><th>crimeMonth</th><th>robbery</th></tr></thead><tbody><tr><td>12</td><td>2179</td></tr></tbody></table></div>"
      ]
     },
     "metadata": {
      "application/vnd.databricks.v1+output": {
       "addedWidgets": {},
       "aggData": [],
       "aggError": "",
       "aggOverflow": false,
       "aggSchema": [],
       "aggSeriesLimitReached": false,
       "aggType": "",
       "arguments": {},
       "columnCustomDisplayInfos": {},
       "data": [
        [
         "12",
         2179
        ]
       ],
       "datasetInfos": [],
       "dbfsResultPath": null,
       "isJsonSchema": true,
       "metadata": {},
       "overflow": false,
       "plotOptions": {
        "customPlotOptions": {},
        "displayType": "table",
        "pivotAggregation": null,
        "pivotColumns": null,
        "xColumns": null,
        "yColumns": null
       },
       "removedWidgets": [],
       "schema": [
        {
         "metadata": "{}",
         "name": "crimeMonth",
         "type": "\"string\""
        },
        {
         "metadata": "{}",
         "name": "robbery",
         "type": "\"long\""
        }
       ],
       "type": "table"
      }
     },
     "output_type": "display_data"
    },
    {
     "name": "stdout",
     "output_type": "stream",
     "text": [
      "Minimum Robbery Count in all 3 Cities\n"
     ]
    },
    {
     "data": {
      "text/html": [
       "<style scoped>\n",
       "  .table-result-container {\n",
       "    max-height: 300px;\n",
       "    overflow: auto;\n",
       "  }\n",
       "  table, th, td {\n",
       "    border: 1px solid black;\n",
       "    border-collapse: collapse;\n",
       "  }\n",
       "  th, td {\n",
       "    padding: 5px;\n",
       "  }\n",
       "  th {\n",
       "    text-align: left;\n",
       "  }\n",
       "</style><div class='table-result-container'><table class='table-result'><thead style='background-color: white'><tr><th>crimeMonth</th><th>robbery</th></tr></thead><tbody><tr><td>02</td><td>1612</td></tr></tbody></table></div>"
      ]
     },
     "metadata": {
      "application/vnd.databricks.v1+output": {
       "addedWidgets": {},
       "aggData": [],
       "aggError": "",
       "aggOverflow": false,
       "aggSchema": [],
       "aggSeriesLimitReached": false,
       "aggType": "",
       "arguments": {},
       "columnCustomDisplayInfos": {},
       "data": [
        [
         "02",
         1612
        ]
       ],
       "datasetInfos": [],
       "dbfsResultPath": null,
       "isJsonSchema": true,
       "metadata": {},
       "overflow": false,
       "plotOptions": {
        "customPlotOptions": {},
        "displayType": "table",
        "pivotAggregation": null,
        "pivotColumns": null,
        "xColumns": null,
        "yColumns": null
       },
       "removedWidgets": [],
       "schema": [
        {
         "metadata": "{}",
         "name": "crimeMonth",
         "type": "\"string\""
        },
        {
         "metadata": "{}",
         "name": "robbery",
         "type": "\"long\""
        }
       ],
       "type": "table"
      }
     },
     "output_type": "display_data"
    }
   ],
   "source": [
    "robberyEachMonthDallasCity = robberiesForMonthDallasDF.groupBy(\"crimeMonth\").count().withColumn(\"city\",lit(\"Dallas\"))\n",
    "robberyEachMonthLosAngelesCity = robberiesForMonthLosAngelesDF.groupBy(\"crimeMonth\").count().withColumn(\"city\",lit(\"LosAngeles\"))\n",
    "robberyEachMonthPhiladelphiaCity = robberiesForMonthPhiladelphiaDF.groupBy(\"crimeMonth\").count().withColumn(\"city\",lit(\"Philadelphia\"))\n",
    "combinedRobberiesForCitiesDF = robberyEachMonthDallasCity.union(robberyEachMonthLosAngelesCity).union(robberyEachMonthPhiladelphiaCity).withColumnRenamed(\"count\",\"robbery\").sort(\"crimeMonth\",ascending=True)\n",
    "mostRobberyCount = combinedRobberiesForCitiesDF.select(\"crimeMonth\",\"robbery\",\"city\").groupBy(\"crimeMonth\").sum(\"robbery\").withColumnRenamed(\"sum(robbery)\",\"robbery\").sort(\"robbery\",ascending=False).take(1)\n",
    "leastRobberyCount = combinedRobberiesForCitiesDF.select(\"crimeMonth\",\"robbery\",\"city\").groupBy(\"crimeMonth\").sum(\"robbery\").withColumnRenamed(\"sum(robbery)\",\"robbery\").sort(\"robbery\",ascending=True).take(1)\n",
    "print('Maximum Robbery Count in all 3 Cities')\n",
    "display(mostRobberyCount)\n",
    "print('Minimum Robbery Count in all 3 Cities')\n",
    "display(leastRobberyCount)"
   ]
  },
  {
   "cell_type": "markdown",
   "metadata": {
    "application/vnd.databricks.v1+cell": {
     "cellMetadata": {},
     "inputWidgets": {},
     "nuid": "4d1bdc49-737c-4fdb-9db8-c1499589e434",
     "showTitle": false,
     "title": ""
    }
   },
   "source": [
    "## 6. Plot the robberies per month for each of the three cities:\n"
   ]
  },
  {
   "cell_type": "code",
   "execution_count": null,
   "metadata": {
    "application/vnd.databricks.v1+cell": {
     "cellMetadata": {
      "byteLimit": 2048000,
      "rowLimit": 10000
     },
     "inputWidgets": {},
     "nuid": "f03de27e-ee73-43d7-86d6-89ed9b6d62cd",
     "showTitle": false,
     "title": ""
    }
   },
   "outputs": [
    {
     "data": {
      "text/html": [
       "<style scoped>\n",
       "  .table-result-container {\n",
       "    max-height: 300px;\n",
       "    overflow: auto;\n",
       "  }\n",
       "  table, th, td {\n",
       "    border: 1px solid black;\n",
       "    border-collapse: collapse;\n",
       "  }\n",
       "  th, td {\n",
       "    padding: 5px;\n",
       "  }\n",
       "  th {\n",
       "    text-align: left;\n",
       "  }\n",
       "</style><div class='table-result-container'><table class='table-result'><thead style='background-color: white'><tr><th>crimeMonth</th><th>robbery</th><th>city</th></tr></thead><tbody><tr><td>01</td><td>743</td><td>Dallas</td></tr><tr><td>01</td><td>835</td><td>LosAngeles</td></tr><tr><td>01</td><td>520</td><td>Philadelphia</td></tr><tr><td>02</td><td>757</td><td>LosAngeles</td></tr><tr><td>02</td><td>439</td><td>Dallas</td></tr><tr><td>02</td><td>416</td><td>Philadelphia</td></tr><tr><td>03</td><td>810</td><td>LosAngeles</td></tr><tr><td>03</td><td>410</td><td>Dallas</td></tr><tr><td>03</td><td>432</td><td>Philadelphia</td></tr><tr><td>04</td><td>804</td><td>LosAngeles</td></tr><tr><td>04</td><td>599</td><td>Dallas</td></tr><tr><td>04</td><td>466</td><td>Philadelphia</td></tr><tr><td>05</td><td>888</td><td>LosAngeles</td></tr><tr><td>05</td><td>618</td><td>Dallas</td></tr><tr><td>05</td><td>533</td><td>Philadelphia</td></tr><tr><td>06</td><td>827</td><td>LosAngeles</td></tr><tr><td>06</td><td>500</td><td>Dallas</td></tr><tr><td>06</td><td>509</td><td>Philadelphia</td></tr><tr><td>07</td><td>931</td><td>LosAngeles</td></tr><tr><td>07</td><td>530</td><td>Dallas</td></tr><tr><td>07</td><td>537</td><td>Philadelphia</td></tr><tr><td>08</td><td>850</td><td>LosAngeles</td></tr><tr><td>08</td><td>625</td><td>Dallas</td></tr><tr><td>08</td><td>561</td><td>Philadelphia</td></tr><tr><td>09</td><td>834</td><td>LosAngeles</td></tr><tr><td>09</td><td>510</td><td>Dallas</td></tr><tr><td>09</td><td>514</td><td>Philadelphia</td></tr><tr><td>10</td><td>932</td><td>LosAngeles</td></tr><tr><td>10</td><td>606</td><td>Dallas</td></tr><tr><td>10</td><td>572</td><td>Philadelphia</td></tr><tr><td>11</td><td>849</td><td>LosAngeles</td></tr><tr><td>11</td><td>595</td><td>Dallas</td></tr><tr><td>11</td><td>545</td><td>Philadelphia</td></tr><tr><td>12</td><td>958</td><td>LosAngeles</td></tr><tr><td>12</td><td>677</td><td>Dallas</td></tr><tr><td>12</td><td>544</td><td>Philadelphia</td></tr></tbody></table></div>"
      ]
     },
     "metadata": {
      "application/vnd.databricks.v1+output": {
       "addedWidgets": {},
       "aggData": [],
       "aggError": "",
       "aggOverflow": false,
       "aggSchema": [],
       "aggSeriesLimitReached": false,
       "aggType": "",
       "arguments": {},
       "columnCustomDisplayInfos": {},
       "data": [
        [
         "01",
         743,
         "Dallas"
        ],
        [
         "01",
         835,
         "LosAngeles"
        ],
        [
         "01",
         520,
         "Philadelphia"
        ],
        [
         "02",
         757,
         "LosAngeles"
        ],
        [
         "02",
         439,
         "Dallas"
        ],
        [
         "02",
         416,
         "Philadelphia"
        ],
        [
         "03",
         810,
         "LosAngeles"
        ],
        [
         "03",
         410,
         "Dallas"
        ],
        [
         "03",
         432,
         "Philadelphia"
        ],
        [
         "04",
         804,
         "LosAngeles"
        ],
        [
         "04",
         599,
         "Dallas"
        ],
        [
         "04",
         466,
         "Philadelphia"
        ],
        [
         "05",
         888,
         "LosAngeles"
        ],
        [
         "05",
         618,
         "Dallas"
        ],
        [
         "05",
         533,
         "Philadelphia"
        ],
        [
         "06",
         827,
         "LosAngeles"
        ],
        [
         "06",
         500,
         "Dallas"
        ],
        [
         "06",
         509,
         "Philadelphia"
        ],
        [
         "07",
         931,
         "LosAngeles"
        ],
        [
         "07",
         530,
         "Dallas"
        ],
        [
         "07",
         537,
         "Philadelphia"
        ],
        [
         "08",
         850,
         "LosAngeles"
        ],
        [
         "08",
         625,
         "Dallas"
        ],
        [
         "08",
         561,
         "Philadelphia"
        ],
        [
         "09",
         834,
         "LosAngeles"
        ],
        [
         "09",
         510,
         "Dallas"
        ],
        [
         "09",
         514,
         "Philadelphia"
        ],
        [
         "10",
         932,
         "LosAngeles"
        ],
        [
         "10",
         606,
         "Dallas"
        ],
        [
         "10",
         572,
         "Philadelphia"
        ],
        [
         "11",
         849,
         "LosAngeles"
        ],
        [
         "11",
         595,
         "Dallas"
        ],
        [
         "11",
         545,
         "Philadelphia"
        ],
        [
         "12",
         958,
         "LosAngeles"
        ],
        [
         "12",
         677,
         "Dallas"
        ],
        [
         "12",
         544,
         "Philadelphia"
        ]
       ],
       "datasetInfos": [],
       "dbfsResultPath": null,
       "isJsonSchema": true,
       "metadata": {},
       "overflow": false,
       "plotOptions": {
        "customPlotOptions": {},
        "displayType": "table",
        "pivotAggregation": null,
        "pivotColumns": null,
        "xColumns": null,
        "yColumns": null
       },
       "removedWidgets": [],
       "schema": [
        {
         "metadata": "{}",
         "name": "crimeMonth",
         "type": "\"string\""
        },
        {
         "metadata": "{}",
         "name": "robbery",
         "type": "\"long\""
        },
        {
         "metadata": "{}",
         "name": "city",
         "type": "\"string\""
        }
       ],
       "type": "table"
      }
     },
     "output_type": "display_data"
    },
    {
     "data": {
      "text/plain": [
       "Databricks visualization. Run in Databricks to view."
      ]
     },
     "metadata": {
      "application/vnd.databricks.v1.subcommand+json": {
       "baseErrorDetails": null,
       "bindings": {},
       "collapsed": false,
       "command": "%python\n__backend_agg_display_orig = display\n__backend_agg_dfs = []\ndef __backend_agg_display_new(df):\n    __backend_agg_df_modules = [\"pandas.core.frame\", \"databricks.koalas.frame\", \"pyspark.sql.dataframe\", \"pyspark.pandas.frame\", \"pyspark.sql.connect.dataframe\"]\n    if (type(df).__module__ in __backend_agg_df_modules and type(df).__name__ == 'DataFrame') or isinstance(df, list):\n        __backend_agg_dfs.append(df)\n\ndisplay = __backend_agg_display_new\n\ndef __backend_agg_user_code_fn():\n    import base64\n    exec(base64.standard_b64decode(\"IyBUT0RPCgojUGxvdCB0aGUgZ3JhcGggZm9yIHRoZSByb2JiZXJpZXMgcGVyIG1vbnRoIGZvciBlYWNoIG9mIHRoZSB0aHJlZSBjaXRpZXMKZGlzcGxheShjb21iaW5lZFJvYmJlcmllc0ZvckNpdGllc0RGKQ==\").decode())\n\ntry:\n    # run user code\n    __backend_agg_user_code_fn()\n\n    #reset display function\n    display = __backend_agg_display_orig\n\n    if len(__backend_agg_dfs) > 0:\n        # create a temp view\n        if type(__backend_agg_dfs[0]).__module__ == \"databricks.koalas.frame\":\n            # koalas dataframe\n            __backend_agg_dfs[0].to_spark().createOrReplaceTempView(\"DatabricksViewa1cb4e5\")\n        elif type(__backend_agg_dfs[0]).__module__ == \"pandas.core.frame\" or isinstance(__backend_agg_dfs[0], list):\n            # pandas dataframe\n            spark.createDataFrame(__backend_agg_dfs[0]).createOrReplaceTempView(\"DatabricksViewa1cb4e5\")\n        else:\n            __backend_agg_dfs[0].createOrReplaceTempView(\"DatabricksViewa1cb4e5\")\n        #run backend agg\n        display(spark.sql(\"\"\"WITH q AS (select * from DatabricksViewa1cb4e5) SELECT `crimeMonth`,`city`,SUM(`robbery`) `column_2b773a703` FROM q GROUP BY `city`,`crimeMonth`\"\"\"))\n    else:\n        displayHTML(\"dataframe no longer exists. If you're using dataframe.display(), use display(dataframe) instead.\")\n\n\nfinally:\n    spark.sql(\"drop view if exists DatabricksViewa1cb4e5\")\n    display = __backend_agg_display_orig\n    del __backend_agg_display_new\n    del __backend_agg_display_orig\n    del __backend_agg_dfs\n    del __backend_agg_user_code_fn\n\n",
       "commandTitle": "Visualization 1",
       "commandType": "auto",
       "commandVersion": 0,
       "commentThread": [],
       "commentsVisible": false,
       "contentSha256Hex": null,
       "customPlotOptions": {
        "redashChart": [
         {
          "key": "type",
          "value": "CHART"
         },
         {
          "key": "options",
          "value": {
           "alignYAxesAtZero": true,
           "coefficient": 1,
           "columnConfigurationMap": {
            "series": {
             "column": "city",
             "id": "column_2b773a702"
            },
            "x": {
             "column": "crimeMonth",
             "id": "column_2b773a701"
            },
            "y": [
             {
              "column": "robbery",
              "id": "column_2b773a703",
              "transform": "SUM"
             }
            ]
           },
           "dateTimeFormat": "DD/MM/YYYY HH:mm",
           "direction": {
            "type": "counterclockwise"
           },
           "error_y": {
            "type": "data",
            "visible": true
           },
           "globalSeriesType": "column",
           "legend": {
            "traceorder": "normal"
           },
           "missingValuesAsZero": true,
           "numberFormat": "0,0.[00000]",
           "percentFormat": "0[.]00%",
           "series": {
            "error_y": {
             "type": "data",
             "visible": true
            },
            "stacking": null
           },
           "seriesOptions": {
            "column_2b773a703": {
             "name": "robbery",
             "type": "column",
             "yAxis": 0
            }
           },
           "showDataLabels": false,
           "sizemode": "diameter",
           "sortX": true,
           "sortY": true,
           "swappedAxes": false,
           "textFormat": "",
           "useAggregationsUi": true,
           "valuesOptions": {},
           "version": 2,
           "xAxis": {
            "labels": {
             "enabled": true
            },
            "type": "-"
           },
           "yAxis": [
            {
             "type": "-"
            },
            {
             "opposite": true,
             "type": "-"
            }
           ]
          }
         }
        ]
       },
       "datasetPreviewNameToCmdIdMap": {},
       "diffDeletes": [],
       "diffInserts": [],
       "displayType": "redashChart",
       "error": null,
       "errorDetails": null,
       "errorSummary": null,
       "errorTraceType": null,
       "finishTime": 0,
       "globalVars": {},
       "guid": "",
       "height": "auto",
       "hideCommandCode": false,
       "hideCommandResult": false,
       "iPythonMetadata": null,
       "inputWidgets": {},
       "isLockedInExamMode": false,
       "latestUser": "a user",
       "latestUserId": null,
       "listResultMetadata": null,
       "metadata": {},
       "nuid": "30524b10-f46d-493d-b55d-bf36da5ea03f",
       "origId": 0,
       "parentHierarchy": [],
       "pivotAggregation": null,
       "pivotColumns": null,
       "position": 48,
       "resultDbfsErrorMessage": null,
       "resultDbfsStatus": "INLINED_IN_TREE",
       "results": null,
       "showCommandTitle": false,
       "startTime": 0,
       "state": "input",
       "streamStates": {},
       "subcommandOptions": {
        "queryPlan": {
         "groups": [
          {
           "column": "crimeMonth",
           "type": "column"
          },
          {
           "column": "city",
           "type": "column"
          }
         ],
         "selects": [
          {
           "column": "crimeMonth",
           "type": "column"
          },
          {
           "column": "city",
           "type": "column"
          },
          {
           "alias": "column_2b773a703",
           "args": [
            {
             "column": "robbery",
             "type": "column"
            }
           ],
           "function": "SUM",
           "type": "function"
          }
         ]
        }
       },
       "submitTime": 0,
       "subtype": "tableResultSubCmd.visualization",
       "tableResultIndex": 0,
       "useConsistentColors": false,
       "version": "CommandV1",
       "width": "auto",
       "workflows": [],
       "xColumns": null,
       "yColumns": null
      }
     },
     "output_type": "display_data"
    }
   ],
   "source": [
    "display(combinedRobberiesForCitiesDF)"
   ]
  },
  {
   "cell_type": "markdown",
   "metadata": {
    "application/vnd.databricks.v1+cell": {
     "cellMetadata": {},
     "inputWidgets": {},
     "nuid": "ff2ea5f3-c873-4666-bb58-d7dcaa594b63",
     "showTitle": false,
     "title": ""
    }
   },
   "source": [
    "## 7. Find the \"per capita robbery rates\", and plot graph as above for the per capita robbery rates per month for each of the three cities:\n",
    "* Los Angeles\n",
    "* Philadelphia\n",
    "* Dallas"
   ]
  },
  {
   "cell_type": "code",
   "execution_count": null,
   "metadata": {
    "application/vnd.databricks.v1+cell": {
     "cellMetadata": {
      "byteLimit": 2048000,
      "rowLimit": 10000
     },
     "inputWidgets": {},
     "nuid": "36c4198c-3512-4fc6-a68b-f32d90911c75",
     "showTitle": false,
     "title": ""
    }
   },
   "outputs": [
    {
     "data": {
      "text/html": [
       "<style scoped>\n",
       "  .table-result-container {\n",
       "    max-height: 300px;\n",
       "    overflow: auto;\n",
       "  }\n",
       "  table, th, td {\n",
       "    border: 1px solid black;\n",
       "    border-collapse: collapse;\n",
       "  }\n",
       "  th, td {\n",
       "    padding: 5px;\n",
       "  }\n",
       "  th {\n",
       "    text-align: left;\n",
       "  }\n",
       "</style><div class='table-result-container'><table class='table-result'><thead style='background-color: white'><tr><th>crimeMonth</th><th>robbery</th><th>city</th><th>robberyRate</th></tr></thead><tbody><tr><td>01</td><td>520</td><td>Philadelphia</td><td>3.316597273246796E-4</td></tr><tr><td>01</td><td>743</td><td>Dallas</td><td>5.637632983263893E-4</td></tr><tr><td>01</td><td>835</td><td>LosAngeles</td><td>2.099930538824572E-4</td></tr><tr><td>02</td><td>439</td><td>Dallas</td><td>3.3309836872851266E-4</td></tr><tr><td>02</td><td>416</td><td>Philadelphia</td><td>2.6532778185974366E-4</td></tr><tr><td>02</td><td>757</td><td>LosAngeles</td><td>1.9037693627427558E-4</td></tr><tr><td>03</td><td>410</td><td>Dallas</td><td>3.1109414847082053E-4</td></tr><tr><td>03</td><td>432</td><td>Philadelphia</td><td>2.755326965466569E-4</td></tr><tr><td>03</td><td>810</td><td>LosAngeles</td><td>2.0370583670034772E-4</td></tr><tr><td>04</td><td>599</td><td>Dallas</td><td>4.5450096325371094E-4</td></tr><tr><td>04</td><td>466</td><td>Philadelphia</td><td>2.9721814025634747E-4</td></tr><tr><td>04</td><td>804</td><td>LosAngeles</td><td>2.0219690457664143E-4</td></tr><tr><td>05</td><td>618</td><td>Dallas</td><td>4.689175213535782E-4</td></tr><tr><td>05</td><td>533</td><td>Philadelphia</td><td>3.3995122050779655E-4</td></tr><tr><td>05</td><td>888</td><td>LosAngeles</td><td>2.2332195430852935E-4</td></tr><tr><td>06</td><td>500</td><td>Dallas</td><td>3.793831078912445E-4</td></tr><tr><td>06</td><td>509</td><td>Philadelphia</td><td>3.246438484774267E-4</td></tr><tr><td>06</td><td>827</td><td>LosAngeles</td><td>2.0798114438418217E-4</td></tr><tr><td>07</td><td>530</td><td>Dallas</td><td>4.021460943647192E-4</td></tr><tr><td>07</td><td>537</td><td>Philadelphia</td><td>3.4250244917952486E-4</td></tr><tr><td>07</td><td>931</td><td>LosAngeles</td><td>2.3413596786175768E-4</td></tr><tr><td>08</td><td>625</td><td>Dallas</td><td>4.7422888486405566E-4</td></tr><tr><td>08</td><td>561</td><td>Philadelphia</td><td>3.578098212098947E-4</td></tr><tr><td>08</td><td>850</td><td>LosAngeles</td><td>2.137653841917229E-4</td></tr><tr><td>09</td><td>510</td><td>Dallas</td><td>3.869707700490694E-4</td></tr><tr><td>09</td><td>514</td><td>Philadelphia</td><td>3.2783288431708713E-4</td></tr><tr><td>09</td><td>834</td><td>LosAngeles</td><td>2.0974156519517283E-4</td></tr><tr><td>10</td><td>606</td><td>Dallas</td><td>4.5981232676418833E-4</td></tr><tr><td>10</td><td>572</td><td>Philadelphia</td><td>3.648257000571475E-4</td></tr><tr><td>10</td><td>932</td><td>LosAngeles</td><td>2.3438745654904205E-4</td></tr><tr><td>11</td><td>595</td><td>Dallas</td><td>4.5146589839058096E-4</td></tr><tr><td>11</td><td>545</td><td>Philadelphia</td><td>3.4760490652298146E-4</td></tr><tr><td>11</td><td>849</td><td>LosAngeles</td><td>2.1351389550443853E-4</td></tr><tr><td>12</td><td>677</td><td>Dallas</td><td>5.136847280847451E-4</td></tr><tr><td>12</td><td>544</td><td>Philadelphia</td><td>3.469670993550494E-4</td></tr><tr><td>12</td><td>958</td><td>LosAngeles</td><td>2.4092616241843594E-4</td></tr></tbody></table></div>"
      ]
     },
     "metadata": {
      "application/vnd.databricks.v1+output": {
       "addedWidgets": {},
       "aggData": [],
       "aggError": "",
       "aggOverflow": false,
       "aggSchema": [],
       "aggSeriesLimitReached": false,
       "aggType": "",
       "arguments": {},
       "columnCustomDisplayInfos": {},
       "data": [
        [
         "01",
         520,
         "Philadelphia",
         0.0003316597273246796
        ],
        [
         "01",
         743,
         "Dallas",
         0.0005637632983263893
        ],
        [
         "01",
         835,
         "LosAngeles",
         0.0002099930538824572
        ],
        [
         "02",
         439,
         "Dallas",
         0.00033309836872851266
        ],
        [
         "02",
         416,
         "Philadelphia",
         0.00026532778185974366
        ],
        [
         "02",
         757,
         "LosAngeles",
         0.00019037693627427558
        ],
        [
         "03",
         410,
         "Dallas",
         0.00031109414847082053
        ],
        [
         "03",
         432,
         "Philadelphia",
         0.0002755326965466569
        ],
        [
         "03",
         810,
         "LosAngeles",
         0.00020370583670034772
        ],
        [
         "04",
         599,
         "Dallas",
         0.00045450096325371094
        ],
        [
         "04",
         466,
         "Philadelphia",
         0.00029721814025634747
        ],
        [
         "04",
         804,
         "LosAngeles",
         0.00020219690457664143
        ],
        [
         "05",
         618,
         "Dallas",
         0.0004689175213535782
        ],
        [
         "05",
         533,
         "Philadelphia",
         0.00033995122050779655
        ],
        [
         "05",
         888,
         "LosAngeles",
         0.00022332195430852935
        ],
        [
         "06",
         500,
         "Dallas",
         0.0003793831078912445
        ],
        [
         "06",
         509,
         "Philadelphia",
         0.0003246438484774267
        ],
        [
         "06",
         827,
         "LosAngeles",
         0.00020798114438418217
        ],
        [
         "07",
         530,
         "Dallas",
         0.0004021460943647192
        ],
        [
         "07",
         537,
         "Philadelphia",
         0.00034250244917952486
        ],
        [
         "07",
         931,
         "LosAngeles",
         0.00023413596786175768
        ],
        [
         "08",
         625,
         "Dallas",
         0.00047422888486405566
        ],
        [
         "08",
         561,
         "Philadelphia",
         0.0003578098212098947
        ],
        [
         "08",
         850,
         "LosAngeles",
         0.0002137653841917229
        ],
        [
         "09",
         510,
         "Dallas",
         0.0003869707700490694
        ],
        [
         "09",
         514,
         "Philadelphia",
         0.00032783288431708713
        ],
        [
         "09",
         834,
         "LosAngeles",
         0.00020974156519517283
        ],
        [
         "10",
         606,
         "Dallas",
         0.00045981232676418833
        ],
        [
         "10",
         572,
         "Philadelphia",
         0.0003648257000571475
        ],
        [
         "10",
         932,
         "LosAngeles",
         0.00023438745654904205
        ],
        [
         "11",
         595,
         "Dallas",
         0.00045146589839058096
        ],
        [
         "11",
         545,
         "Philadelphia",
         0.00034760490652298146
        ],
        [
         "11",
         849,
         "LosAngeles",
         0.00021351389550443853
        ],
        [
         "12",
         677,
         "Dallas",
         0.0005136847280847451
        ],
        [
         "12",
         544,
         "Philadelphia",
         0.0003469670993550494
        ],
        [
         "12",
         958,
         "LosAngeles",
         0.00024092616241843594
        ]
       ],
       "datasetInfos": [],
       "dbfsResultPath": null,
       "isJsonSchema": true,
       "metadata": {},
       "overflow": false,
       "plotOptions": {
        "customPlotOptions": {},
        "displayType": "table",
        "pivotAggregation": null,
        "pivotColumns": null,
        "xColumns": null,
        "yColumns": null
       },
       "removedWidgets": [],
       "schema": [
        {
         "metadata": "{}",
         "name": "crimeMonth",
         "type": "\"string\""
        },
        {
         "metadata": "{}",
         "name": "robbery",
         "type": "\"long\""
        },
        {
         "metadata": "{}",
         "name": "city",
         "type": "\"string\""
        },
        {
         "metadata": "{}",
         "name": "robberyRate",
         "type": "\"double\""
        }
       ],
       "type": "table"
      }
     },
     "output_type": "display_data"
    },
    {
     "data": {
      "text/plain": [
       "Databricks visualization. Run in Databricks to view."
      ]
     },
     "metadata": {
      "application/vnd.databricks.v1.subcommand+json": {
       "baseErrorDetails": null,
       "bindings": {},
       "collapsed": false,
       "command": "%python\n__backend_agg_display_orig = display\n__backend_agg_dfs = []\ndef __backend_agg_display_new(df):\n    __backend_agg_df_modules = [\"pandas.core.frame\", \"databricks.koalas.frame\", \"pyspark.sql.dataframe\", \"pyspark.pandas.frame\", \"pyspark.sql.connect.dataframe\"]\n    if (type(df).__module__ in __backend_agg_df_modules and type(df).__name__ == 'DataFrame') or isinstance(df, list):\n        __backend_agg_dfs.append(df)\n\ndisplay = __backend_agg_display_new\n\ndef __backend_agg_user_code_fn():\n    import base64\n    exec(base64.standard_b64decode(\"IyBUT0RPCgpjaXR5RGF0YURGID0gc3BhcmsucmVhZC5wYXJxdWV0KCIvbW50L3RyYWluaW5nL0NpdHktRGF0YS5wYXJxdWV0IikKY2l0eURhdGFEYWxsYXNERiA9IGNpdHlEYXRhREYuZmlsdGVyKCJjaXR5ID0gJ0RhbGxhcyciKS5zZWxlY3QoImVzdFBvcHVsYXRpb24yMDE2IikuY29sbGVjdCgpWzBdWyJlc3RQb3B1bGF0aW9uMjAxNiJdCmNpdHlEYXRhUGhpbGFkZWxwaGlhREYgPSBjaXR5RGF0YURGLmZpbHRlcigiY2l0eSA9ICdQaGlsYWRlbHBoaWEnIikuc2VsZWN0KCJlc3RQb3B1bGF0aW9uMjAxNiIpLmNvbGxlY3QoKVswXVsiZXN0UG9wdWxhdGlvbjIwMTYiXQpjaXR5RGF0YUxvc0FuZ2VsZXNERiA9IGNpdHlEYXRhREYuZmlsdGVyKCJjaXR5ID0gJ0xvcyBBbmdlbGVzJyIpLnNlbGVjdCgiZXN0UG9wdWxhdGlvbjIwMTYiKS5jb2xsZWN0KClbMF1bImVzdFBvcHVsYXRpb24yMDE2Il0Kcm9iYmVyeVJhdGVEYWxsYXMgPSBjb21iaW5lZFJvYmJlcmllc0ZvckNpdGllc0RGLndpdGhDb2x1bW4oInJvYmJlcnlSYXRlIiwoY29tYmluZWRSb2JiZXJpZXNGb3JDaXRpZXNERi5yb2JiZXJ5KS9jaXR5RGF0YURhbGxhc0RGKS53aGVyZSgiY2l0eT0nRGFsbGFzJyIpCnJvYmJlcnlSYXRlUGhpbGFkZWxwaGlhID0gY29tYmluZWRSb2JiZXJpZXNGb3JDaXRpZXNERi53aXRoQ29sdW1uKCJyb2JiZXJ5UmF0ZSIsKGNvbWJpbmVkUm9iYmVyaWVzRm9yQ2l0aWVzREYucm9iYmVyeSkvY2l0eURhdGFQaGlsYWRlbHBoaWFERikud2hlcmUoImNpdHk9J1BoaWxhZGVscGhpYSciKQpyb2JiZXJ5UmF0ZUxvc0FuZ2VsZXMgPSBjb21iaW5lZFJvYmJlcmllc0ZvckNpdGllc0RGLndpdGhDb2x1bW4oInJvYmJlcnlSYXRlIiwoY29tYmluZWRSb2JiZXJpZXNGb3JDaXRpZXNERi5yb2JiZXJ5KS9jaXR5RGF0YUxvc0FuZ2VsZXNERikud2hlcmUoImNpdHk9J0xvc0FuZ2VsZXMnIikKcm9iYmVyeVJhdGVzQnlDaXR5REYgPSByb2JiZXJ5UmF0ZURhbGxhcy51bmlvbihyb2JiZXJ5UmF0ZVBoaWxhZGVscGhpYSkudW5pb24ocm9iYmVyeVJhdGVMb3NBbmdlbGVzKS5zb3J0KCJjcmltZU1vbnRoIixhc2NlbmRpbmc9VHJ1ZSkKZGlzcGxheShyb2JiZXJ5UmF0ZXNCeUNpdHlERik=\").decode())\n\ntry:\n    # run user code\n    __backend_agg_user_code_fn()\n\n    #reset display function\n    display = __backend_agg_display_orig\n\n    if len(__backend_agg_dfs) > 0:\n        # create a temp view\n        if type(__backend_agg_dfs[0]).__module__ == \"databricks.koalas.frame\":\n            # koalas dataframe\n            __backend_agg_dfs[0].to_spark().createOrReplaceTempView(\"DatabricksViewfd5956e\")\n        elif type(__backend_agg_dfs[0]).__module__ == \"pandas.core.frame\" or isinstance(__backend_agg_dfs[0], list):\n            # pandas dataframe\n            spark.createDataFrame(__backend_agg_dfs[0]).createOrReplaceTempView(\"DatabricksViewfd5956e\")\n        else:\n            __backend_agg_dfs[0].createOrReplaceTempView(\"DatabricksViewfd5956e\")\n        #run backend agg\n        display(spark.sql(\"\"\"WITH q AS (select * from DatabricksViewfd5956e) SELECT `crimeMonth`,SUM(`robberyRate`) `column_2b773a7010`,`city` FROM q GROUP BY `city`,`crimeMonth`\"\"\"))\n    else:\n        displayHTML(\"dataframe no longer exists. If you're using dataframe.display(), use display(dataframe) instead.\")\n\n\nfinally:\n    spark.sql(\"drop view if exists DatabricksViewfd5956e\")\n    display = __backend_agg_display_orig\n    del __backend_agg_display_new\n    del __backend_agg_display_orig\n    del __backend_agg_dfs\n    del __backend_agg_user_code_fn\n\n",
       "commandTitle": "Visualization 1",
       "commandType": "auto",
       "commandVersion": 0,
       "commentThread": [],
       "commentsVisible": false,
       "contentSha256Hex": null,
       "customPlotOptions": {
        "redashChart": [
         {
          "key": "type",
          "value": "CHART"
         },
         {
          "key": "options",
          "value": {
           "alignYAxesAtZero": true,
           "coefficient": 1,
           "columnConfigurationMap": {
            "series": {
             "column": "city",
             "id": "column_2b773a708"
            },
            "x": {
             "column": "crimeMonth",
             "id": "column_2b773a707"
            },
            "y": [
             {
              "column": "robberyRate",
              "id": "column_2b773a7010",
              "transform": "SUM"
             }
            ]
           },
           "dateTimeFormat": "DD/MM/YYYY HH:mm",
           "direction": {
            "type": "counterclockwise"
           },
           "error_y": {
            "type": "data",
            "visible": true
           },
           "globalSeriesType": "column",
           "isAggregationOn": true,
           "legend": {
            "traceorder": "normal"
           },
           "missingValuesAsZero": true,
           "numberFormat": "0,0.[00000]",
           "percentFormat": "0[.]00%",
           "series": {
            "error_y": {
             "type": "data",
             "visible": true
            },
            "stacking": null
           },
           "seriesOptions": {
            "column_2b773a7010": {
             "type": "column",
             "yAxis": 0
            }
           },
           "showDataLabels": false,
           "sizemode": "diameter",
           "sortX": true,
           "sortY": true,
           "swappedAxes": false,
           "textFormat": "",
           "useAggregationsUi": true,
           "valuesOptions": {},
           "version": 2,
           "xAxis": {
            "labels": {
             "enabled": true
            },
            "type": "-"
           },
           "yAxis": [
            {
             "type": "-"
            },
            {
             "opposite": true,
             "type": "-"
            }
           ]
          }
         }
        ]
       },
       "datasetPreviewNameToCmdIdMap": {},
       "diffDeletes": [],
       "diffInserts": [],
       "displayType": "redashChart",
       "error": null,
       "errorDetails": null,
       "errorSummary": null,
       "errorTraceType": null,
       "finishTime": 0,
       "globalVars": {},
       "guid": "",
       "height": "auto",
       "hideCommandCode": false,
       "hideCommandResult": false,
       "iPythonMetadata": null,
       "inputWidgets": {},
       "isLockedInExamMode": false,
       "latestUser": "a user",
       "latestUserId": null,
       "listResultMetadata": null,
       "metadata": {},
       "nuid": "bcd9c231-50e4-4dfe-883d-a11002999054",
       "origId": 0,
       "parentHierarchy": [],
       "pivotAggregation": null,
       "pivotColumns": null,
       "position": 50,
       "resultDbfsErrorMessage": null,
       "resultDbfsStatus": "INLINED_IN_TREE",
       "results": null,
       "showCommandTitle": false,
       "startTime": 0,
       "state": "input",
       "streamStates": {},
       "subcommandOptions": {
        "queryPlan": {
         "groups": [
          {
           "column": "crimeMonth",
           "type": "column"
          },
          {
           "column": "city",
           "type": "column"
          }
         ],
         "selects": [
          {
           "column": "crimeMonth",
           "type": "column"
          },
          {
           "alias": "column_2b773a7010",
           "args": [
            {
             "column": "robberyRate",
             "type": "column"
            }
           ],
           "function": "SUM",
           "type": "function"
          },
          {
           "column": "city",
           "type": "column"
          }
         ]
        }
       },
       "submitTime": 0,
       "subtype": "tableResultSubCmd.visualization",
       "tableResultIndex": 0,
       "useConsistentColors": false,
       "version": "CommandV1",
       "width": "auto",
       "workflows": [],
       "xColumns": null,
       "yColumns": null
      }
     },
     "output_type": "display_data"
    }
   ],
   "source": [
    "cityDataDF = spark.read.parquet(\"/mnt/training/City-Data.parquet\")\n",
    "cityDataDallasDF = cityDataDF.filter(\"city = 'Dallas'\").select(\"estPopulation2016\").collect()[0][\"estPopulation2016\"]\n",
    "cityDataPhiladelphiaDF = cityDataDF.filter(\"city = 'Philadelphia'\").select(\"estPopulation2016\").collect()[0][\"estPopulation2016\"]\n",
    "cityDataLosAngelesDF = cityDataDF.filter(\"city = 'Los Angeles'\").select(\"estPopulation2016\").collect()[0][\"estPopulation2016\"]\n",
    "robberyRateDallas = combinedRobberiesForCitiesDF.withColumn(\"robberyRate\",(combinedRobberiesForCitiesDF.robbery)/cityDataDallasDF).where(\"city='Dallas'\")\n",
    "robberyRatePhiladelphia = combinedRobberiesForCitiesDF.withColumn(\"robberyRate\",(combinedRobberiesForCitiesDF.robbery)/cityDataPhiladelphiaDF).where(\"city='Philadelphia'\")\n",
    "robberyRateLosAngeles = combinedRobberiesForCitiesDF.withColumn(\"robberyRate\",(combinedRobberiesForCitiesDF.robbery)/cityDataLosAngelesDF).where(\"city='LosAngeles'\")\n",
    "robberyRatesByCityDF = robberyRateDallas.union(robberyRatePhiladelphia).union(robberyRateLosAngeles).sort(\"crimeMonth\",ascending=True)\n",
    "display(robberyRatesByCityDF)"
   ]
  },
  {
   "cell_type": "markdown",
   "metadata": {
    "application/vnd.databricks.v1+cell": {
     "cellMetadata": {},
     "inputWidgets": {},
     "nuid": "6f0922ff-64af-4ba5-b845-f1bdb2d29d9d",
     "showTitle": false,
     "title": ""
    }
   },
   "source": [
    "## 8. Find the monthly HOMICIDE counts for each of the 2 United States cities listed below using crime-data-2016, and Combine both cities HOMICIDE-per-month views into one and Find the month with the Highest and Lowest combined HOMICIDE-per-month counts:\n",
    "* New York\n",
    "* Boston"
   ]
  },
  {
   "cell_type": "code",
   "execution_count": null,
   "metadata": {
    "application/vnd.databricks.v1+cell": {
     "cellMetadata": {
      "byteLimit": 2048000,
      "rowLimit": 10000
     },
     "inputWidgets": {},
     "nuid": "f2f2e44f-4d67-45c2-8080-090137272a34",
     "showTitle": false,
     "title": ""
    }
   },
   "outputs": [
    {
     "data": {
      "text/html": [
       "<style scoped>\n",
       "  .table-result-container {\n",
       "    max-height: 300px;\n",
       "    overflow: auto;\n",
       "  }\n",
       "  table, th, td {\n",
       "    border: 1px solid black;\n",
       "    border-collapse: collapse;\n",
       "  }\n",
       "  th, td {\n",
       "    padding: 5px;\n",
       "  }\n",
       "  th {\n",
       "    text-align: left;\n",
       "  }\n",
       "</style><div class='table-result-container'><table class='table-result'><thead style='background-color: white'><tr><th>month</th><th>Homicide Count</th></tr></thead><tbody><tr><td>1</td><td>29</td></tr><tr><td>2</td><td>21</td></tr><tr><td>3</td><td>29</td></tr><tr><td>4</td><td>36</td></tr><tr><td>5</td><td>38</td></tr><tr><td>6</td><td>42</td></tr><tr><td>7</td><td>45</td></tr><tr><td>8</td><td>50</td></tr><tr><td>9</td><td>43</td></tr><tr><td>10</td><td>29</td></tr><tr><td>11</td><td>30</td></tr><tr><td>12</td><td>32</td></tr></tbody></table></div>"
      ]
     },
     "metadata": {
      "application/vnd.databricks.v1+output": {
       "addedWidgets": {},
       "aggData": [],
       "aggError": "",
       "aggOverflow": false,
       "aggSchema": [],
       "aggSeriesLimitReached": false,
       "aggType": "",
       "arguments": {},
       "columnCustomDisplayInfos": {},
       "data": [
        [
         1,
         29
        ],
        [
         2,
         21
        ],
        [
         3,
         29
        ],
        [
         4,
         36
        ],
        [
         5,
         38
        ],
        [
         6,
         42
        ],
        [
         7,
         45
        ],
        [
         8,
         50
        ],
        [
         9,
         43
        ],
        [
         10,
         29
        ],
        [
         11,
         30
        ],
        [
         12,
         32
        ]
       ],
       "datasetInfos": [],
       "dbfsResultPath": null,
       "isJsonSchema": true,
       "metadata": {},
       "overflow": false,
       "plotOptions": {
        "customPlotOptions": {},
        "displayType": "table",
        "pivotAggregation": null,
        "pivotColumns": null,
        "xColumns": null,
        "yColumns": null
       },
       "removedWidgets": [],
       "schema": [
        {
         "metadata": "{}",
         "name": "month",
         "type": "\"integer\""
        },
        {
         "metadata": "{}",
         "name": "Homicide Count",
         "type": "\"long\""
        }
       ],
       "type": "table"
      }
     },
     "output_type": "display_data"
    },
    {
     "name": "stdout",
     "output_type": "stream",
     "text": [
      "Highest Homicide Count\n"
     ]
    },
    {
     "data": {
      "text/html": [
       "<style scoped>\n",
       "  .table-result-container {\n",
       "    max-height: 300px;\n",
       "    overflow: auto;\n",
       "  }\n",
       "  table, th, td {\n",
       "    border: 1px solid black;\n",
       "    border-collapse: collapse;\n",
       "  }\n",
       "  th, td {\n",
       "    padding: 5px;\n",
       "  }\n",
       "  th {\n",
       "    text-align: left;\n",
       "  }\n",
       "</style><div class='table-result-container'><table class='table-result'><thead style='background-color: white'><tr><th>month</th><th>Homicide Count</th></tr></thead><tbody><tr><td>8</td><td>50</td></tr></tbody></table></div>"
      ]
     },
     "metadata": {
      "application/vnd.databricks.v1+output": {
       "addedWidgets": {},
       "aggData": [],
       "aggError": "",
       "aggOverflow": false,
       "aggSchema": [],
       "aggSeriesLimitReached": false,
       "aggType": "",
       "arguments": {},
       "columnCustomDisplayInfos": {},
       "data": [
        [
         8,
         50
        ]
       ],
       "datasetInfos": [],
       "dbfsResultPath": null,
       "isJsonSchema": true,
       "metadata": {},
       "overflow": false,
       "plotOptions": {
        "customPlotOptions": {},
        "displayType": "table",
        "pivotAggregation": null,
        "pivotColumns": null,
        "xColumns": null,
        "yColumns": null
       },
       "removedWidgets": [],
       "schema": [
        {
         "metadata": "{}",
         "name": "month",
         "type": "\"long\""
        },
        {
         "metadata": "{}",
         "name": "Homicide Count",
         "type": "\"long\""
        }
       ],
       "type": "table"
      }
     },
     "output_type": "display_data"
    },
    {
     "name": "stdout",
     "output_type": "stream",
     "text": [
      "Lowest Homicide Count\n"
     ]
    },
    {
     "data": {
      "text/html": [
       "<style scoped>\n",
       "  .table-result-container {\n",
       "    max-height: 300px;\n",
       "    overflow: auto;\n",
       "  }\n",
       "  table, th, td {\n",
       "    border: 1px solid black;\n",
       "    border-collapse: collapse;\n",
       "  }\n",
       "  th, td {\n",
       "    padding: 5px;\n",
       "  }\n",
       "  th {\n",
       "    text-align: left;\n",
       "  }\n",
       "</style><div class='table-result-container'><table class='table-result'><thead style='background-color: white'><tr><th>month</th><th>Homicide Count</th></tr></thead><tbody><tr><td>2</td><td>21</td></tr></tbody></table></div>"
      ]
     },
     "metadata": {
      "application/vnd.databricks.v1+output": {
       "addedWidgets": {},
       "aggData": [],
       "aggError": "",
       "aggOverflow": false,
       "aggSchema": [],
       "aggSeriesLimitReached": false,
       "aggType": "",
       "arguments": {},
       "columnCustomDisplayInfos": {},
       "data": [
        [
         2,
         21
        ]
       ],
       "datasetInfos": [],
       "dbfsResultPath": null,
       "isJsonSchema": true,
       "metadata": {},
       "overflow": false,
       "plotOptions": {
        "customPlotOptions": {},
        "displayType": "table",
        "pivotAggregation": null,
        "pivotColumns": null,
        "xColumns": null,
        "yColumns": null
       },
       "removedWidgets": [],
       "schema": [
        {
         "metadata": "{}",
         "name": "month",
         "type": "\"long\""
        },
        {
         "metadata": "{}",
         "name": "Homicide Count",
         "type": "\"long\""
        }
       ],
       "type": "table"
      }
     },
     "output_type": "display_data"
    }
   ],
   "source": [
    "crimeExtractedBostonDF = crimeDataBostonDF.select(lower(col(\"offense_code_group\")),\"month\").withColumnRenamed(\"lower(offense_code_group)\",\"offenseDescription\").filter('offenseDescription like \"%homicide%\"').groupBy(\"month\").count()\n",
    "crimeExtractedNYDF = crimeDataNYDF.select(lower(col(\"offenseDescription\")),month(\"reportDate\")).withColumnRenamed(\"lower(offenseDescription)\",\"offenseDescription\").withColumnRenamed(\"month(reportDate)\",\"month\").filter('offenseDescription like \"%homicide%\" or offenseDescription like \"%murder%\"').groupBy(\"month\").count()\n",
    "homicidePerMonthCount = crimeExtractedBostonDF.union(crimeExtractedNYDF).groupBy(\"month\").sum(\"count\").sort(\"month\",ascending=True).withColumnRenamed(\"sum(count)\",\"Homicide Count\")\n",
    "display(homicidePerMonthCount)\n",
    "highestHomicideCount = homicidePerMonthCount.sort(\"Homicide Count\",ascending=False).take(1)\n",
    "print('Highest Homicide Count')\n",
    "display(highestHomicideCount)\n",
    "lowestHomicideCount = homicidePerMonthCount.sort(\"Homicide Count\",ascending=True).take(1)\n",
    "print('Lowest Homicide Count')\n",
    "display(lowestHomicideCount)"
   ]
  },
  {
   "cell_type": "markdown",
   "metadata": {
    "application/vnd.databricks.v1+cell": {
     "cellMetadata": {},
     "inputWidgets": {},
     "nuid": "086cdef5-006f-482e-bb8a-ff282e30150c",
     "showTitle": false,
     "title": ""
    }
   },
   "source": [
    "## 9. Find the \"per capita HOMICIDE rates\", and plot graph as above for the per capita HOMICIDE rates per month for each of the two cities, producing one Graph using the contents of HOMICIDERatesByCityDF:"
   ]
  },
  {
   "cell_type": "code",
   "execution_count": null,
   "metadata": {
    "application/vnd.databricks.v1+cell": {
     "cellMetadata": {
      "byteLimit": 2048000,
      "rowLimit": 10000
     },
     "inputWidgets": {},
     "nuid": "029ae61b-1142-4223-92ec-fa0bb6abd3b4",
     "showTitle": false,
     "title": ""
    }
   },
   "outputs": [
    {
     "data": {
      "text/html": [
       "<style scoped>\n",
       "  .table-result-container {\n",
       "    max-height: 300px;\n",
       "    overflow: auto;\n",
       "  }\n",
       "  table, th, td {\n",
       "    border: 1px solid black;\n",
       "    border-collapse: collapse;\n",
       "  }\n",
       "  th, td {\n",
       "    padding: 5px;\n",
       "  }\n",
       "  th {\n",
       "    text-align: left;\n",
       "  }\n",
       "</style><div class='table-result-container'><table class='table-result'><thead style='background-color: white'><tr><th>month</th><th>homicides</th><th>city</th><th>homicideRate</th></tr></thead><tbody><tr><td>1</td><td>22</td><td>New York</td><td>2.5768145488823477E-6</td></tr><tr><td>1</td><td>7</td><td>Boston</td><td>1.0398345771735514E-5</td></tr><tr><td>2</td><td>17</td><td>New York</td><td>1.9911748786818143E-6</td></tr><tr><td>2</td><td>4</td><td>Boston</td><td>5.94191186956315E-6</td></tr><tr><td>3</td><td>25</td><td>New York</td><td>2.928198351002668E-6</td></tr><tr><td>3</td><td>4</td><td>Boston</td><td>5.94191186956315E-6</td></tr><tr><td>4</td><td>28</td><td>New York</td><td>3.2795821531229878E-6</td></tr><tr><td>4</td><td>8</td><td>Boston</td><td>1.18838237391263E-5</td></tr><tr><td>5</td><td>31</td><td>New York</td><td>3.630965955243308E-6</td></tr><tr><td>5</td><td>7</td><td>Boston</td><td>1.0398345771735514E-5</td></tr><tr><td>6</td><td>32</td><td>New York</td><td>3.748093889283415E-6</td></tr><tr><td>6</td><td>10</td><td>Boston</td><td>1.4854779673907876E-5</td></tr><tr><td>7</td><td>30</td><td>New York</td><td>3.5138380212032014E-6</td></tr><tr><td>7</td><td>15</td><td>Boston</td><td>2.2282169510861813E-5</td></tr><tr><td>8</td><td>36</td><td>New York</td><td>4.216605625443842E-6</td></tr><tr><td>8</td><td>14</td><td>Boston</td><td>2.079669154347103E-5</td></tr><tr><td>9</td><td>34</td><td>New York</td><td>3.982349757363629E-6</td></tr><tr><td>9</td><td>9</td><td>Boston</td><td>1.3369301706517088E-5</td></tr><tr><td>10</td><td>20</td><td>New York</td><td>2.342558680802134E-6</td></tr><tr><td>10</td><td>9</td><td>Boston</td><td>1.3369301706517088E-5</td></tr><tr><td>11</td><td>21</td><td>New York</td><td>2.459686614842241E-6</td></tr><tr><td>11</td><td>9</td><td>Boston</td><td>1.3369301706517088E-5</td></tr><tr><td>12</td><td>22</td><td>New York</td><td>2.5768145488823477E-6</td></tr><tr><td>12</td><td>10</td><td>Boston</td><td>1.4854779673907876E-5</td></tr></tbody></table></div>"
      ]
     },
     "metadata": {
      "application/vnd.databricks.v1+output": {
       "addedWidgets": {},
       "aggData": [],
       "aggError": "",
       "aggOverflow": false,
       "aggSchema": [],
       "aggSeriesLimitReached": false,
       "aggType": "",
       "arguments": {},
       "columnCustomDisplayInfos": {},
       "data": [
        [
         1,
         22,
         "New York",
         0.0000025768145488823477
        ],
        [
         1,
         7,
         "Boston",
         0.000010398345771735514
        ],
        [
         2,
         17,
         "New York",
         0.0000019911748786818143
        ],
        [
         2,
         4,
         "Boston",
         0.00000594191186956315
        ],
        [
         3,
         25,
         "New York",
         0.000002928198351002668
        ],
        [
         3,
         4,
         "Boston",
         0.00000594191186956315
        ],
        [
         4,
         28,
         "New York",
         0.0000032795821531229878
        ],
        [
         4,
         8,
         "Boston",
         0.0000118838237391263
        ],
        [
         5,
         31,
         "New York",
         0.000003630965955243308
        ],
        [
         5,
         7,
         "Boston",
         0.000010398345771735514
        ],
        [
         6,
         32,
         "New York",
         0.000003748093889283415
        ],
        [
         6,
         10,
         "Boston",
         0.000014854779673907876
        ],
        [
         7,
         30,
         "New York",
         0.0000035138380212032014
        ],
        [
         7,
         15,
         "Boston",
         0.000022282169510861813
        ],
        [
         8,
         36,
         "New York",
         0.000004216605625443842
        ],
        [
         8,
         14,
         "Boston",
         0.00002079669154347103
        ],
        [
         9,
         34,
         "New York",
         0.000003982349757363629
        ],
        [
         9,
         9,
         "Boston",
         0.000013369301706517088
        ],
        [
         10,
         20,
         "New York",
         0.000002342558680802134
        ],
        [
         10,
         9,
         "Boston",
         0.000013369301706517088
        ],
        [
         11,
         21,
         "New York",
         0.000002459686614842241
        ],
        [
         11,
         9,
         "Boston",
         0.000013369301706517088
        ],
        [
         12,
         22,
         "New York",
         0.0000025768145488823477
        ],
        [
         12,
         10,
         "Boston",
         0.000014854779673907876
        ]
       ],
       "datasetInfos": [],
       "dbfsResultPath": null,
       "isJsonSchema": true,
       "metadata": {},
       "overflow": false,
       "plotOptions": {
        "customPlotOptions": {},
        "displayType": "table",
        "pivotAggregation": null,
        "pivotColumns": null,
        "xColumns": null,
        "yColumns": null
       },
       "removedWidgets": [],
       "schema": [
        {
         "metadata": "{}",
         "name": "month",
         "type": "\"integer\""
        },
        {
         "metadata": "{}",
         "name": "homicides",
         "type": "\"long\""
        },
        {
         "metadata": "{}",
         "name": "city",
         "type": "\"string\""
        },
        {
         "metadata": "{}",
         "name": "homicideRate",
         "type": "\"double\""
        }
       ],
       "type": "table"
      }
     },
     "output_type": "display_data"
    },
    {
     "data": {
      "text/plain": [
       "Databricks visualization. Run in Databricks to view."
      ]
     },
     "metadata": {
      "application/vnd.databricks.v1.subcommand+json": {
       "baseErrorDetails": null,
       "bindings": {},
       "collapsed": false,
       "command": "%python\n__backend_agg_display_orig = display\n__backend_agg_dfs = []\ndef __backend_agg_display_new(df):\n    __backend_agg_df_modules = [\"pandas.core.frame\", \"databricks.koalas.frame\", \"pyspark.sql.dataframe\", \"pyspark.pandas.frame\", \"pyspark.sql.connect.dataframe\"]\n    if (type(df).__module__ in __backend_agg_df_modules and type(df).__name__ == 'DataFrame') or isinstance(df, list):\n        __backend_agg_dfs.append(df)\n\ndisplay = __backend_agg_display_new\n\ndef __backend_agg_user_code_fn():\n    import base64\n    exec(base64.standard_b64decode(\"cG9wdWxhdGlvbkJvc3RvbkNvdW50ID0gY2l0eURhdGFERi5maWx0ZXIoImNpdHkgPSAnQm9zdG9uJyIpLnNlbGVjdCgiZXN0UG9wdWxhdGlvbjIwMTYiKS5jb2xsZWN0KClbMF1bImVzdFBvcHVsYXRpb24yMDE2Il0KcG9wdWxhdGlvbk5ld1lvcmtDb3VudCA9IGNpdHlEYXRhREYuZmlsdGVyKCJjaXR5ID0gJ05ldyBZb3JrJyIpLnNlbGVjdCgiZXN0UG9wdWxhdGlvbjIwMTYiKS5jb2xsZWN0KClbMF1bImVzdFBvcHVsYXRpb24yMDE2Il0KaG9taWNpZGVEYXRhQm9zdG9uID0gY3JpbWVFeHRyYWN0ZWRCb3N0b25ERi53aXRoQ29sdW1uKCJjaXR5IixsaXQoIkJvc3RvbiIpKS53aXRoQ29sdW1uUmVuYW1lZCgiY291bnQiLCJob21pY2lkZXMiKQpob21pY2lkZURhdGFOWSA9IGNyaW1lRXh0cmFjdGVkTllERi53aXRoQ29sdW1uKCJjaXR5IixsaXQoIk5ldyBZb3JrIikpLndpdGhDb2x1bW5SZW5hbWVkKCJjb3VudCIsImhvbWljaWRlcyIpCmhvbWljaWRlQm9zdG5OWURGID0gaG9taWNpZGVEYXRhQm9zdG9uLnVuaW9uKGhvbWljaWRlRGF0YU5ZKS5zb3J0KCJtb250aCIsYXNjZW5kaW5nPVRydWUpCmhvbWljaWRlUmF0ZUJvc3RvbiA9IGhvbWljaWRlRGF0YUJvc3Rvbi53aXRoQ29sdW1uKCJob21pY2lkZVJhdGUiLGhvbWljaWRlRGF0YUJvc3Rvbi5ob21pY2lkZXMvcG9wdWxhdGlvbkJvc3RvbkNvdW50KQpIb21pY2lkZVJhdE5ZID0gaG9taWNpZGVEYXRhTlkud2l0aENvbHVtbigiaG9taWNpZGVSYXRlIixob21pY2lkZURhdGFOWS5ob21pY2lkZXMvcG9wdWxhdGlvbk5ld1lvcmtDb3VudCkKaG9taWNpZGVSYXRlQm9zdG9uTllERiA9IGhvbWljaWRlUmF0ZUJvc3Rvbi51bmlvbihIb21pY2lkZVJhdE5ZKS5zb3J0KCJtb250aCIsYXNjZW5kaW5nPVRydWUpCmRpc3BsYXkoaG9taWNpZGVSYXRlQm9zdG9uTllERik=\").decode())\n\ntry:\n    # run user code\n    __backend_agg_user_code_fn()\n\n    #reset display function\n    display = __backend_agg_display_orig\n\n    if len(__backend_agg_dfs) > 0:\n        # create a temp view\n        if type(__backend_agg_dfs[0]).__module__ == \"databricks.koalas.frame\":\n            # koalas dataframe\n            __backend_agg_dfs[0].to_spark().createOrReplaceTempView(\"DatabricksView165daad\")\n        elif type(__backend_agg_dfs[0]).__module__ == \"pandas.core.frame\" or isinstance(__backend_agg_dfs[0], list):\n            # pandas dataframe\n            spark.createDataFrame(__backend_agg_dfs[0]).createOrReplaceTempView(\"DatabricksView165daad\")\n        else:\n            __backend_agg_dfs[0].createOrReplaceTempView(\"DatabricksView165daad\")\n        #run backend agg\n        display(spark.sql(\"\"\"WITH q AS (select * from DatabricksView165daad) SELECT `month`,SUM(`homicideRate`) `column_2b773a7014`,`city` FROM q GROUP BY `city`,`month`\"\"\"))\n    else:\n        displayHTML(\"dataframe no longer exists. If you're using dataframe.display(), use display(dataframe) instead.\")\n\n\nfinally:\n    spark.sql(\"drop view if exists DatabricksView165daad\")\n    display = __backend_agg_display_orig\n    del __backend_agg_display_new\n    del __backend_agg_display_orig\n    del __backend_agg_dfs\n    del __backend_agg_user_code_fn\n\n",
       "commandTitle": "Visualization 1",
       "commandType": "auto",
       "commandVersion": 0,
       "commentThread": [],
       "commentsVisible": false,
       "contentSha256Hex": null,
       "customPlotOptions": {
        "redashChart": [
         {
          "key": "type",
          "value": "CHART"
         },
         {
          "key": "options",
          "value": {
           "alignYAxesAtZero": true,
           "coefficient": 1,
           "columnConfigurationMap": {
            "series": {
             "column": "city",
             "id": "column_2b773a7016"
            },
            "x": {
             "column": "month",
             "id": "column_2b773a7012"
            },
            "y": [
             {
              "column": "homicideRate",
              "id": "column_2b773a7014",
              "transform": "SUM"
             }
            ]
           },
           "dateTimeFormat": "DD/MM/YYYY HH:mm",
           "direction": {
            "type": "counterclockwise"
           },
           "error_y": {
            "type": "data",
            "visible": true
           },
           "globalSeriesType": "column",
           "isAggregationOn": true,
           "legend": {
            "traceorder": "normal"
           },
           "missingValuesAsZero": true,
           "numberFormat": "0,0.[00000]",
           "percentFormat": "0[.]00%",
           "series": {
            "error_y": {
             "type": "data",
             "visible": true
            },
            "stacking": null
           },
           "seriesOptions": {
            "column_2b773a7014": {
             "type": "column",
             "yAxis": 0
            }
           },
           "showDataLabels": false,
           "sizemode": "diameter",
           "sortX": true,
           "sortY": true,
           "swappedAxes": false,
           "textFormat": "",
           "useAggregationsUi": true,
           "valuesOptions": {},
           "version": 2,
           "xAxis": {
            "labels": {
             "enabled": true
            },
            "type": "-"
           },
           "yAxis": [
            {
             "type": "-"
            },
            {
             "opposite": true,
             "type": "-"
            }
           ]
          }
         }
        ]
       },
       "datasetPreviewNameToCmdIdMap": {},
       "diffDeletes": [],
       "diffInserts": [],
       "displayType": "redashChart",
       "error": null,
       "errorDetails": null,
       "errorSummary": null,
       "errorTraceType": null,
       "finishTime": 0,
       "globalVars": {},
       "guid": "",
       "height": "auto",
       "hideCommandCode": false,
       "hideCommandResult": false,
       "iPythonMetadata": null,
       "inputWidgets": {},
       "isLockedInExamMode": false,
       "latestUser": "a user",
       "latestUserId": null,
       "listResultMetadata": null,
       "metadata": {},
       "nuid": "d791c42b-3fc8-49e4-b51b-dc40efa72631",
       "origId": 0,
       "parentHierarchy": [],
       "pivotAggregation": null,
       "pivotColumns": null,
       "position": 52.71875,
       "resultDbfsErrorMessage": null,
       "resultDbfsStatus": "INLINED_IN_TREE",
       "results": null,
       "showCommandTitle": false,
       "startTime": 0,
       "state": "input",
       "streamStates": {},
       "subcommandOptions": {
        "queryPlan": {
         "groups": [
          {
           "column": "month",
           "type": "column"
          },
          {
           "column": "city",
           "type": "column"
          }
         ],
         "selects": [
          {
           "column": "month",
           "type": "column"
          },
          {
           "alias": "column_2b773a7014",
           "args": [
            {
             "column": "homicideRate",
             "type": "column"
            }
           ],
           "function": "SUM",
           "type": "function"
          },
          {
           "column": "city",
           "type": "column"
          }
         ]
        }
       },
       "submitTime": 0,
       "subtype": "tableResultSubCmd.visualization",
       "tableResultIndex": 0,
       "useConsistentColors": false,
       "version": "CommandV1",
       "width": "auto",
       "workflows": [],
       "xColumns": null,
       "yColumns": null
      }
     },
     "output_type": "display_data"
    }
   ],
   "source": [
    "populationBostonCount = cityDataDF.filter(\"city = 'Boston'\").select(\"estPopulation2016\").collect()[0][\"estPopulation2016\"]\n",
    "populationNewYorkCount = cityDataDF.filter(\"city = 'New York'\").select(\"estPopulation2016\").collect()[0][\"estPopulation2016\"]\n",
    "homicideDataBoston = crimeExtractedBostonDF.withColumn(\"city\",lit(\"Boston\")).withColumnRenamed(\"count\",\"homicides\")\n",
    "homicideDataNY = crimeExtractedNYDF.withColumn(\"city\",lit(\"New York\")).withColumnRenamed(\"count\",\"homicides\")\n",
    "homicideBostnNYDF = homicideDataBoston.union(homicideDataNY).sort(\"month\",ascending=True)\n",
    "homicideRateBoston = homicideDataBoston.withColumn(\"homicideRate\",homicideDataBoston.homicides/populationBostonCount)\n",
    "HomicideRatNY = homicideDataNY.withColumn(\"homicideRate\",homicideDataNY.homicides/populationNewYorkCount)\n",
    "homicideRateBostonNYDF = homicideRateBoston.union(HomicideRatNY).sort(\"month\",ascending=True)\n",
    "display(homicideRateBostonNYDF)"
   ]
  },
  {
   "cell_type": "markdown",
   "metadata": {
    "application/vnd.databricks.v1+cell": {
     "cellMetadata": {},
     "inputWidgets": {},
     "nuid": "3cdeddf8-039e-4949-93bc-ffe1305d779d",
     "showTitle": false,
     "title": ""
    }
   },
   "source": [
    "## References\n",
    "\n",
    "The crime data used in this notebook comes from the following locations:\n",
    "\n",
    "| City          | Original Data \n",
    "| ------------- | -------------\n",
    "| Boston        | <a href=\"https://data.boston.gov/group/public-safety\" target=\"_blank\">https&#58;//data.boston.gov/group/public-safety</a>\n",
    "| Chicago       | <a href=\"https://data.cityofchicago.org/Public-Safety/Crimes-2001-to-present/ijzp-q8t2\" target=\"_blank\">https&#58;//data.cityofchicago.org/Public-Safety/Crimes-2001-to-present/ijzp-q8t2</a>\n",
    "| Dallas        | <a href=\"https://www.dallasopendata.com/Public-Safety/Police-Incidents/tbnj-w5hb/data\" target=\"_blank\">https&#58;//www.dallasopendata.com/Public-Safety/Police-Incidents/tbnj-w5hb/data</a>\n",
    "| Los Angeles   | <a href=\"https://data.lacity.org/A-Safe-City/Crime-Data-From-2010-to-Present/y8tr-7khq\" target=\"_blank\">https&#58;//data.lacity.org/A-Safe-City/Crime-Data-From-2010-to-Present/y8tr-7khq</a>\n",
    "| New Orleans   | <a href=\"https://data.nola.gov/Public-Safety-and-Preparedness/Electronic-Police-Report-2016/4gc2-25he/data\" target=\"_blank\">https&#58;//data.nola.gov/Public-Safety-and-Preparedness/Electronic-Police-Report-2016/4gc2-25he/data</a>\n",
    "| New York      | <a href=\"https://data.cityofnewyork.us/Public-Safety/NYPD-Complaint-Data-Historic/qgea-i56i\" target=\"_blank\">https&#58;//data.cityofnewyork.us/Public-Safety/NYPD-Complaint-Data-Historic/qgea-i56i</a>\n",
    "| Philadelphia  | <a href=\"https://www.opendataphilly.org/dataset/crime-incidents\" target=\"_blank\">https&#58;//www.opendataphilly.org/dataset/crime-incidents</a>\n"
   ]
  }
 ],
 "metadata": {
  "application/vnd.databricks.v1+notebook": {
   "dashboards": [],
   "language": "python",
   "notebookMetadata": {
    "mostRecentlyExecutedCommandWithImplicitDF": {
     "commandId": -1,
     "dataframes": [
      "_sqldf"
     ]
    },
    "pythonIndentUnit": 2
   },
   "notebookName": "Project#4: Notebook Exploratory Data Analysis using Databricks",
   "widgets": {}
  },
  "language_info": {
   "name": "python"
  }
 },
 "nbformat": 4,
 "nbformat_minor": 0
}
